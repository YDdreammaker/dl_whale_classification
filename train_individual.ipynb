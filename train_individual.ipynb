{
 "cells": [
  {
   "cell_type": "code",
   "execution_count": 24,
   "id": "ad2bfb14-aecd-4f7f-99a5-61c830bec6d9",
   "metadata": {},
   "outputs": [],
   "source": [
    "import os\n",
    "import time\n",
    "import wandb\n",
    "from tqdm.notebook import tqdm\n",
    "from copy import deepcopy\n",
    "\n",
    "import numpy as np\n",
    "import pandas as pd\n",
    "\n",
    "import torch\n",
    "import torch.nn as nn\n",
    "import torch.optim as optim\n",
    "\n",
    "from torch.utils.data import DataLoader\n",
    "\n",
    "from sklearn.neighbors import NearestNeighbors\n",
    "\n",
    "from utils import seed_everything\n",
    "from data import ImageDataset, stratified_kfold, get_train_transforms, get_valid_transforms\n",
    "from model import IndividualClassifier\n",
    "from scheduler import CosineAnnealingWarmupRestarts\n",
    "\n",
    "device = torch.device('cuda' if torch.cuda.is_available() else 'cpu')"
   ]
  },
  {
   "cell_type": "code",
   "execution_count": 25,
   "id": "c65d0fe7-39de-426c-9184-3a8859536b29",
   "metadata": {},
   "outputs": [],
   "source": [
    "class Config:\n",
    "    checkpoint = '/root/dl_whale_classification/pths_individual'\n",
    "    test = False\n",
    "    tta = False\n",
    "    resume_epoch = 0\n",
    "    iters_to_accumulate = 1\n",
    "    resume_root = None\n",
    "    wandb_log = True\n",
    "    model_name = 'tf_efficientnet_b6_ns'\n",
    "    fold = 0\n",
    "    n_split = 5\n",
    "    seed = 2022\n",
    "    data_dir = '/root/data2/' # root/data/train_images\n",
    "    root_dir = '.'\n",
    "    batch_size = 8\n",
    "    lr = 1e-4\n",
    "    weight_decay = 0.0005\n",
    "    epoch = 20\n",
    "    exp_name = 'test'\n",
    "config = Config()"
   ]
  },
  {
   "cell_type": "code",
   "execution_count": 26,
   "id": "06571d4f-d3ad-491d-85d9-7e29a2cdc7a8",
   "metadata": {},
   "outputs": [],
   "source": [
    "seed_everything(2022)"
   ]
  },
  {
   "cell_type": "code",
   "execution_count": 27,
   "id": "0e40b185-9dba-4f50-ab4c-aae2c79057a9",
   "metadata": {},
   "outputs": [],
   "source": [
    "df = pd.read_csv('/root/data/train.csv')\n",
    "df = df.iloc[:len(df)//20]\n",
    "df.species.replace({\"globis\": \"short_finned_pilot_whale\",\n",
    "                  \"pilot_whale\": \"short_finned_pilot_whale\",\n",
    "                  \"kiler_whale\": \"killer_whale\",\n",
    "                  \"bottlenose_dolpin\": \"bottlenose_dolphin\"}, inplace=True)"
   ]
  },
  {
   "cell_type": "code",
   "execution_count": 28,
   "id": "aa7105f7-62c8-4452-8383-d3e4f4e35e3f",
   "metadata": {},
   "outputs": [],
   "source": [
    "specie_unique = df.species.unique()\n",
    "specie_indices = range(len(specie_unique))\n",
    "species2idx = {k: v for k, v in zip(specie_unique, specie_indices)}\n",
    "df.species = df.species.map(species2idx)\n",
    "\n",
    "individual_unique = df.individual_id.unique()\n",
    "individual_indices = range(len(individual_unique))\n",
    "individual2idx = {k : v for k, v in zip(individual_unique, individual_indices)}\n",
    "df.individual_id = df.individual_id.map(individual2idx)"
   ]
  },
  {
   "cell_type": "code",
   "execution_count": 29,
   "id": "f8514e42-a2b2-4b03-9db3-b759ca21bfbe",
   "metadata": {},
   "outputs": [
    {
     "name": "stdout",
     "output_type": "stream",
     "text": [
      "num_species 25\n",
      "num_individual 1793\n"
     ]
    }
   ],
   "source": [
    "print('num_species', len(df.species.unique()))\n",
    "print('num_individual', len(df.individual_id.unique()))\n",
    "      "
   ]
  },
  {
   "cell_type": "code",
   "execution_count": 30,
   "id": "3443e37e-6393-41b0-9bd9-d8d9d92dec91",
   "metadata": {},
   "outputs": [],
   "source": [
    "df_single = df[df['individual_id'].map(df['individual_id'].value_counts()) == 1]\n",
    "df_others = df[df['individual_id'].map(df['individual_id'].value_counts()) > 1]"
   ]
  },
  {
   "cell_type": "code",
   "execution_count": 31,
   "id": "69764e06-5613-4342-bd1c-2ea0a81d7902",
   "metadata": {},
   "outputs": [
    {
     "name": "stderr",
     "output_type": "stream",
     "text": [
      "/opt/conda/lib/python3.8/site-packages/sklearn/model_selection/_split.py:676: UserWarning: The least populated class in y has only 2 members, which is less than n_splits=5.\n",
      "  warnings.warn(\n",
      "/opt/conda/lib/python3.8/site-packages/sklearn/model_selection/_split.py:676: UserWarning: The least populated class in y has only 2 members, which is less than n_splits=5.\n",
      "  warnings.warn(\n"
     ]
    }
   ],
   "source": [
    "train_single, valid_single = stratified_kfold(df=df_single, fold=config.fold, n_split=config.n_split, seed=config.seed, target_col='species')\n",
    "train_others, valid_others = stratified_kfold(df=df_others, fold=config.fold, n_split=config.n_split, seed=config.seed, target_col='individual_id')"
   ]
  },
  {
   "cell_type": "code",
   "execution_count": 32,
   "id": "74c399e4-32ac-4e06-b5df-f75984a60242",
   "metadata": {},
   "outputs": [],
   "source": [
    "train_single_indices = np.take(df_single.index.to_numpy(), train_single) # 실제 index    \n",
    "train_others_indices = np.take(df_others.index.to_numpy(), train_others)\n",
    "valid_single_indices = np.take(df_single.index.to_numpy(), valid_single)\n",
    "valid_others_indices = np.take(df_others.index.to_numpy(), valid_others)"
   ]
  },
  {
   "cell_type": "code",
   "execution_count": 33,
   "id": "4e1c2451-587e-43a6-adf8-8e13d96ebf6a",
   "metadata": {},
   "outputs": [],
   "source": [
    "full_train_indices = np.sort(np.concatenate((train_single_indices, train_others_indices), axis=0))\n",
    "full_valid_indices = np.sort(np.concatenate((valid_single_indices, valid_others_indices), axis=0))"
   ]
  },
  {
   "cell_type": "code",
   "execution_count": 34,
   "id": "fc3fdd46-847f-4acc-b0d5-07ad92e54700",
   "metadata": {},
   "outputs": [],
   "source": [
    "fnames, labels = df['image'].values, df['individual_id'].values"
   ]
  },
  {
   "cell_type": "code",
   "execution_count": 35,
   "id": "1714bad0-69e6-45a8-962e-dffc89f18a15",
   "metadata": {},
   "outputs": [],
   "source": [
    "fnames_train, labels_train = fnames[full_train_indices], labels[full_train_indices]\n",
    "fnames_valid_single, labels_valid_single = fnames[valid_single_indices], labels[valid_single_indices]\n",
    "fnames_valid_others, labels_valid_others = fnames[valid_others_indices], labels[valid_others_indices]"
   ]
  },
  {
   "cell_type": "code",
   "execution_count": 36,
   "id": "3ab3df49-e185-4e39-b2df-29d6ac843506",
   "metadata": {},
   "outputs": [],
   "source": [
    "train_transforms = get_train_transforms()\n",
    "valid_transforms = get_valid_transforms()"
   ]
  },
  {
   "cell_type": "code",
   "execution_count": 37,
   "id": "dd5f73e2-b89a-4271-a6ff-997e734de772",
   "metadata": {},
   "outputs": [],
   "source": [
    "train_dataset = ImageDataset(path=fnames_train, target=labels_train, transform=train_transforms, root=config.data_dir + '/train_detec_512_v2/')\n",
    "valid_dataset_single = ImageDataset(path=fnames_valid_single, target=labels_valid_single, transform=valid_transforms, root=config.data_dir + '/train_detec_512_v2/')\n",
    "valid_dataset_others = ImageDataset(path=fnames_valid_others, target=labels_valid_others, transform=valid_transforms, root=config.data_dir + '/train_detec_512_v2/')"
   ]
  },
  {
   "cell_type": "code",
   "execution_count": 38,
   "id": "bdb8ed2e-9efc-439f-a9df-de843f2cc8f7",
   "metadata": {},
   "outputs": [],
   "source": [
    "train_loader = DataLoader(train_dataset, batch_size=config.batch_size, shuffle=True, num_workers=8, pin_memory=True, drop_last=True)\n",
    "valid_loader_single = DataLoader(valid_dataset_single, batch_size=config.batch_size, shuffle=False, num_workers=8, pin_memory=True)\n",
    "valid_loader_others = DataLoader(valid_dataset_others, batch_size=config.batch_size, shuffle=False, num_workers=8, pin_memory=True)"
   ]
  },
  {
   "cell_type": "code",
   "execution_count": 39,
   "id": "d0cbe56b-0f00-4d85-ab78-936b282bb113",
   "metadata": {},
   "outputs": [],
   "source": [
    "model = IndividualClassifier('tf_efficientnet_b6_ns').to(device)"
   ]
  },
  {
   "cell_type": "code",
   "execution_count": 40,
   "id": "8bb8e343-3b5d-4014-9f07-d17449e70a37",
   "metadata": {},
   "outputs": [],
   "source": [
    "criterion = nn.CrossEntropyLoss().to(device)\n",
    "optimizer = optim.AdamW(model.parameters(), lr=config.lr, weight_decay=config.weight_decay)"
   ]
  },
  {
   "cell_type": "code",
   "execution_count": 41,
   "id": "3c713a4a-a0bd-41fa-95ca-fe06b49ebf03",
   "metadata": {},
   "outputs": [],
   "source": [
    "cosine_annealing_scheduler_arg = dict(\n",
    "    first_cycle_steps=len(train_dataset)//config.batch_size*config.epoch,\n",
    "    cycle_mult=1.0,\n",
    "    max_lr=config.lr,\n",
    "    min_lr=1e-07,\n",
    "    warmup_steps=len(train_dataset)//config.batch_size*3, # wanrm up 0~3 epoch\n",
    "    gamma=0.9\n",
    ")"
   ]
  },
  {
   "cell_type": "code",
   "execution_count": 42,
   "id": "5c175981-f637-4d08-916d-8f467b362d33",
   "metadata": {},
   "outputs": [],
   "source": [
    "scheduler = CosineAnnealingWarmupRestarts(optimizer, **cosine_annealing_scheduler_arg)"
   ]
  },
  {
   "cell_type": "code",
   "execution_count": 43,
   "id": "d164bb3b-ea0e-473c-a6d2-21d02bd46207",
   "metadata": {},
   "outputs": [
    {
     "data": {
      "text/html": [
       "Finishing last run (ID:lc8n13ga) before initializing another..."
      ],
      "text/plain": [
       "<IPython.core.display.HTML object>"
      ]
     },
     "metadata": {},
     "output_type": "display_data"
    },
    {
     "name": "stdout",
     "output_type": "stream",
     "text": [
      "\n"
     ]
    },
    {
     "data": {
      "text/html": [
       "Waiting for W&B process to finish... <strong style=\"color:green\">(success).</strong>"
      ],
      "text/plain": [
       "<IPython.core.display.HTML object>"
      ]
     },
     "metadata": {},
     "output_type": "display_data"
    },
    {
     "data": {
      "application/vnd.jupyter.widget-view+json": {
       "model_id": "",
       "version_major": 2,
       "version_minor": 0
      },
      "text/plain": [
       "VBox(children=(Label(value='0.001 MB of 0.001 MB uploaded (0.000 MB deduped)\\r'), FloatProgress(value=1.0, max…"
      ]
     },
     "metadata": {},
     "output_type": "display_data"
    },
    {
     "data": {
      "text/html": [
       "Synced <strong style=\"color:#cdcd00\">test_fold0</strong>: <a href=\"https://wandb.ai/jcdata/tf_efficientnet_b6_ns/runs/lc8n13ga\" target=\"_blank\">https://wandb.ai/jcdata/tf_efficientnet_b6_ns/runs/lc8n13ga</a><br/>Synced 5 W&B file(s), 0 media file(s), 0 artifact file(s) and 0 other file(s)"
      ],
      "text/plain": [
       "<IPython.core.display.HTML object>"
      ]
     },
     "metadata": {},
     "output_type": "display_data"
    },
    {
     "data": {
      "text/html": [
       "Find logs at: <code>./wandb/run-20220328_105615-lc8n13ga/logs</code>"
      ],
      "text/plain": [
       "<IPython.core.display.HTML object>"
      ]
     },
     "metadata": {},
     "output_type": "display_data"
    },
    {
     "data": {
      "text/html": [
       "Successfully finished last run (ID:lc8n13ga). Initializing new run:<br/>"
      ],
      "text/plain": [
       "<IPython.core.display.HTML object>"
      ]
     },
     "metadata": {},
     "output_type": "display_data"
    },
    {
     "data": {
      "text/html": [
       "Tracking run with wandb version 0.12.11"
      ],
      "text/plain": [
       "<IPython.core.display.HTML object>"
      ]
     },
     "metadata": {},
     "output_type": "display_data"
    },
    {
     "data": {
      "text/html": [
       "Run data is saved locally in <code>/root/dl_whale_classification/wandb/run-20220328_105850-2zx4gf8b</code>"
      ],
      "text/plain": [
       "<IPython.core.display.HTML object>"
      ]
     },
     "metadata": {},
     "output_type": "display_data"
    },
    {
     "data": {
      "text/html": [
       "Syncing run <strong><a href=\"https://wandb.ai/jcdata/tf_efficientnet_b6_ns/runs/2zx4gf8b\" target=\"_blank\">test_fold0</a></strong> to <a href=\"https://wandb.ai/jcdata/tf_efficientnet_b6_ns\" target=\"_blank\">Weights & Biases</a> (<a href=\"https://wandb.me/run\" target=\"_blank\">docs</a>)<br/>"
      ],
      "text/plain": [
       "<IPython.core.display.HTML object>"
      ]
     },
     "metadata": {},
     "output_type": "display_data"
    }
   ],
   "source": [
    "if config.wandb_log:\n",
    "    run = wandb.init(config=config.__dict__,\n",
    "                project=config.model_name, \n",
    "                settings=wandb.Settings(start_method=\"thread\"), \n",
    "                name=f\"{config.exp_name}_fold{config.fold}\",\n",
    "                reinit=True)"
   ]
  },
  {
   "cell_type": "code",
   "execution_count": 44,
   "id": "abc5d5c2-b1ad-4eca-988b-70c766f38132",
   "metadata": {},
   "outputs": [],
   "source": [
    "if config.resume_root is not None:\n",
    "    check = torch.load(config.resume_root)\n",
    "    model.load_state_dict(check['model'])\n",
    "    optimizer.load_state_dict(check['optimizer'])\n",
    "    scheduler.load_state_dict(check['scheduler'])\n",
    "    print('loaded checkpoint')"
   ]
  },
  {
   "cell_type": "markdown",
   "id": "97e0f98d-5368-42e8-92b2-574f8dddbe62",
   "metadata": {},
   "source": [
    "# Train Functions"
   ]
  },
  {
   "cell_type": "code",
   "execution_count": 45,
   "id": "a4f0c62e-842f-49b5-b5bd-f45ece5a66b4",
   "metadata": {},
   "outputs": [],
   "source": [
    "def train_one_epoch(model, optimizer, criterion, loader, scheduler, scaler=None, iters_to_accumulate=1):\n",
    "    model.train()\n",
    "    \n",
    "    match = 0\n",
    "    top_k_match = 0\n",
    "    \n",
    "    losses, y_trues, y_preds, embeds = [], [], [], []\n",
    "    for i, (x, y) in enumerate(tqdm(loader)):\n",
    "        x, y = x.to(device), y.to(device)\n",
    "        \n",
    "        if scaler is not None:\n",
    "            with torch.cuda.amp.autocast():\n",
    "                output, embed = model(x, y) \n",
    "                loss = criterion(output, y)\n",
    "                \n",
    "            scaler.scale(loss).backward()\n",
    "\n",
    "            if ((i + 1) % iters_to_accumulate == 0) or ((i + 1) == len(loader)):\n",
    "                scaler.step(optimizer)\n",
    "                scaler.update()\n",
    "                optimizer.zero_grad()\n",
    "\n",
    "        else:\n",
    "            output, embed = model(x, y) \n",
    "            loss = criterion(output, y)\n",
    "\n",
    "            optimizer.zero_grad()\n",
    "            loss.backward()\n",
    "            optimizer.step()\n",
    "        \n",
    "        y_preds.extend(output.detach().cpu().numpy())\n",
    "        y_trues.extend(y.detach().cpu().numpy())\n",
    "        embeds.extend(embed.detach().cpu().numpy())\n",
    "        \n",
    "        match += (torch.argmax(output.detach().cpu(), dim=-1) == y.detach().cpu()).sum()\n",
    "        top_k_match += (output.detach().topk(2, dim=-1).indices.cpu() == y.detach().cpu()[:, None]).sum()\n",
    "        scheduler.step()\n",
    "\n",
    "        losses.append(loss.detach().cpu().item())\n",
    "        # break\n",
    "        \n",
    "    return np.mean(losses), match, top_k_match, y_preds, y_trues, embeds\n"
   ]
  },
  {
   "cell_type": "code",
   "execution_count": 46,
   "id": "1295dffa-6bd4-4400-b7d5-6cbe2d8aa532",
   "metadata": {
    "tags": []
   },
   "outputs": [],
   "source": [
    "def valid_one_epoch(model, criterion, loader, tta=False):\n",
    "    model.eval()\n",
    "    \n",
    "    match = 0\n",
    "    top_k_match = 0\n",
    "\n",
    "    losses, y_trues, y_preds, embeds = [], [], [], []\n",
    "    with torch.no_grad():\n",
    "        for idx, (x, y) in tqdm(enumerate(loader)):\n",
    "            x, y = x.to(device), y.to(device)\n",
    "            with torch.cuda.amp.autocast():\n",
    "                output, embed = model(x, y) \n",
    "                loss = criterion(output, y)\n",
    "  \n",
    "            match += (torch.argmax(output.detach().cpu(), dim=-1) == y.detach().cpu()).sum()\n",
    "            top_k_match += (output.detach().topk(2, dim=-1).indices.cpu() == y.detach().cpu()[:, None]).sum()\n",
    "            losses.append(loss.detach().cpu().item())\n",
    "            \n",
    "            y_preds.extend(output.detach().cpu().numpy())\n",
    "            y_trues.extend(y.detach().cpu().numpy())\n",
    "            embeds.extend(embed.detach().cpu().numpy())\n",
    "            # break\n",
    "\n",
    "    return np.mean(losses), match, top_k_match, y_preds, y_trues, embeds"
   ]
  },
  {
   "cell_type": "markdown",
   "id": "0a645c01-6050-4ed7-9b91-abcbe45121a5",
   "metadata": {
    "tags": []
   },
   "source": [
    "# Train"
   ]
  },
  {
   "cell_type": "code",
   "execution_count": null,
   "id": "64ac3fb1-cb07-4a61-aeac-ef7f72fbcc96",
   "metadata": {
    "tags": []
   },
   "outputs": [
    {
     "name": "stdout",
     "output_type": "stream",
     "text": [
      "Start Training\n",
      "epoch: 0\n"
     ]
    },
    {
     "data": {
      "application/vnd.jupyter.widget-view+json": {
       "model_id": "f2c37b72dae441e88e78a8dab40a6fcb",
       "version_major": 2,
       "version_minor": 0
      },
      "text/plain": [
       "HBox(children=(HTML(value=''), FloatProgress(value=0.0, max=255.0), HTML(value='')))"
      ]
     },
     "metadata": {},
     "output_type": "display_data"
    },
    {
     "name": "stdout",
     "output_type": "stream",
     "text": [
      "\n"
     ]
    },
    {
     "data": {
      "application/vnd.jupyter.widget-view+json": {
       "model_id": "31b01f81823746528895bbf45c910d79",
       "version_major": 2,
       "version_minor": 0
      },
      "text/plain": [
       "HBox(children=(HTML(value=''), FloatProgress(value=1.0, bar_style='info', layout=Layout(width='20px'), max=1.0…"
      ]
     },
     "metadata": {},
     "output_type": "display_data"
    },
    {
     "name": "stdout",
     "output_type": "stream",
     "text": [
      "\n"
     ]
    },
    {
     "data": {
      "application/vnd.jupyter.widget-view+json": {
       "model_id": "17d14b75672046f488b6c085b3132104",
       "version_major": 2,
       "version_minor": 0
      },
      "text/plain": [
       "HBox(children=(HTML(value=''), FloatProgress(value=1.0, bar_style='info', layout=Layout(width='20px'), max=1.0…"
      ]
     },
     "metadata": {},
     "output_type": "display_data"
    },
    {
     "name": "stdout",
     "output_type": "stream",
     "text": [
      "\n",
      "> \u001b[0;32m<ipython-input-47-5206b3dbcc35>\u001b[0m(25)\u001b[0;36m<cell line: 9>\u001b[0;34m()\u001b[0m\n",
      "\u001b[0;32m     23 \u001b[0;31m    \u001b[0;31m# ---------------------------------------------------------------- single valid\u001b[0m\u001b[0;34m\u001b[0m\u001b[0;34m\u001b[0m\u001b[0;34m\u001b[0m\u001b[0m\n",
      "\u001b[0m\u001b[0;32m     24 \u001b[0;31m    \u001b[0;32mimport\u001b[0m \u001b[0mpdb\u001b[0m \u001b[0;34m;\u001b[0m \u001b[0mpdb\u001b[0m\u001b[0;34m.\u001b[0m\u001b[0mset_trace\u001b[0m\u001b[0;34m(\u001b[0m\u001b[0;34m)\u001b[0m\u001b[0;34m\u001b[0m\u001b[0;34m\u001b[0m\u001b[0m\n",
      "\u001b[0m\u001b[0;32m---> 25 \u001b[0;31m    \u001b[0mpreds1\u001b[0m \u001b[0;34m=\u001b[0m \u001b[0mnp\u001b[0m\u001b[0;34m.\u001b[0m\u001b[0marray\u001b[0m\u001b[0;34m(\u001b[0m\u001b[0mtrain_trues\u001b[0m\u001b[0;34m)\u001b[0m\u001b[0;34m[\u001b[0m\u001b[0mindices1\u001b[0m\u001b[0;34m.\u001b[0m\u001b[0mreshape\u001b[0m\u001b[0;34m(\u001b[0m\u001b[0;34m-\u001b[0m\u001b[0;36m1\u001b[0m\u001b[0;34m)\u001b[0m\u001b[0;34m]\u001b[0m \u001b[0;31m# k neighbor 예측값\u001b[0m\u001b[0;34m\u001b[0m\u001b[0;34m\u001b[0m\u001b[0m\n",
      "\u001b[0m\u001b[0;32m     26 \u001b[0;31m    \u001b[0mtrues1\u001b[0m \u001b[0;34m=\u001b[0m \u001b[0mdf\u001b[0m\u001b[0;34m.\u001b[0m\u001b[0mindividual_id\u001b[0m\u001b[0;34m[\u001b[0m\u001b[0mvalid_single_indices\u001b[0m\u001b[0;34m]\u001b[0m\u001b[0;34m.\u001b[0m\u001b[0mvalues\u001b[0m \u001b[0;31m# 정답\u001b[0m\u001b[0;34m\u001b[0m\u001b[0;34m\u001b[0m\u001b[0m\n",
      "\u001b[0m\u001b[0;32m     27 \u001b[0;31m    \u001b[0mcorrect1\u001b[0m \u001b[0;34m=\u001b[0m \u001b[0;34m(\u001b[0m\u001b[0mpreds1\u001b[0m \u001b[0;34m==\u001b[0m \u001b[0mtrues1\u001b[0m\u001b[0;34m)\u001b[0m \u001b[0;31m# 맞춘것\u001b[0m\u001b[0;34m\u001b[0m\u001b[0;34m\u001b[0m\u001b[0m\n",
      "\u001b[0m\n"
     ]
    },
    {
     "name": "stdin",
     "output_type": "stream",
     "text": [
      "ipdb>  preds1 = np.array(train_trues)[indices1.reshape(-1)]\n",
      "ipdb>  preds1\n"
     ]
    },
    {
     "name": "stdout",
     "output_type": "stream",
     "text": [
      "array([ 873, 1135,  246,   36,  457, 1573,   61,  147,  411,  423, 1448,\n",
      "        915, 1447,   47,   99, 1388,  224, 1573, 1677,  159,   23,  224,\n",
      "       1309, 1368,   85,  655, 1573, 1568, 1573,  156,  514, 1443,  528,\n",
      "       1042,  898,  156,  189, 1382, 1715,  154,   69, 1631, 1458,  101,\n",
      "       1748, 1573,  265, 1431,  371,  618,  546,   61,  178,  114,  457,\n",
      "       1243,  156,  862,   86, 1575,  578,   72,  687,  579,  224, 1021,\n",
      "        411,   95,   50,  457, 1589,  411,  153, 1042,  156,  595,   10,\n",
      "         61,   95,  612,  612,  411,  655,   47, 1715, 1691, 1573, 1592,\n",
      "       1431,  154,  595,  870, 1247, 1703,  978,  857, 1715,  862,   36,\n",
      "        323,  595, 1506,  411,   75,  147,  156, 1294, 1592,  154, 1419,\n",
      "       1573,  431,  512,  914,  411, 1018,  528, 1366,  760, 1573,  323,\n",
      "       1505,   77,  423, 1447,   24, 1018,  506,  426, 1366,  528,  182,\n",
      "        147,  514,  320,  197,   77,  298,  898,  653, 1690, 1592,  514,\n",
      "        117,   81,  595, 1573, 1079,  224,  156,  291,   86,   47, 1682,\n",
      "        409,   69, 1027,  498,  224,  498, 1079,   86,  211,   10,  637,\n",
      "        896, 1408,  164,  978,  337,  291,  466, 1460,  618,   98, 1283,\n",
      "        778,  457, 1612, 1684,  838,  940,   61, 1296, 1682,  156,  955,\n",
      "         63,  122,  154,  147,  457, 1544,  411,  411,  873,  154,  227,\n",
      "        778, 1776,   95, 1265,  423,  426,  423,  411, 1431,  156, 1282,\n",
      "       1573,   86,  431, 1398,   69,   47,   61, 1592,   86,   36, 1531,\n",
      "        514,   86,  114, 1328, 1494, 1447,  715,  561,  182,   69,  227,\n",
      "        514,  411,  595,   86,  227,  156,  428,   86,  114,  618, 1573,\n",
      "       1431, 1691,   99,  227,  244,  282, 1431,  528, 1454,  830,  955,\n",
      "       1575,   85, 1049,   86,  641, 1018, 1135,   36,   58, 1135,  595,\n",
      "        433,  873, 1398,   23, 1715,  862, 1431,  628,  986,  655, 1445,\n",
      "       1573, 1008,   90, 1018, 1715,  618,  144,  514,  130,  156, 1691,\n",
      "        514, 1079])\n"
     ]
    },
    {
     "name": "stdin",
     "output_type": "stream",
     "text": [
      "ipdb>  indices1\n"
     ]
    },
    {
     "name": "stdout",
     "output_type": "stream",
     "text": [
      "array([[1993],\n",
      "       [1896],\n",
      "       [1884],\n",
      "       [1954],\n",
      "       [1858],\n",
      "       [2005],\n",
      "       [1895],\n",
      "       [2039],\n",
      "       [2009],\n",
      "       [1853],\n",
      "       [1588],\n",
      "       [1995],\n",
      "       [1980],\n",
      "       [1761],\n",
      "       [1886],\n",
      "       [1575],\n",
      "       [1999],\n",
      "       [2005],\n",
      "       [1856],\n",
      "       [ 624],\n",
      "       [1991],\n",
      "       [1999],\n",
      "       [1967],\n",
      "       [1391],\n",
      "       [1788],\n",
      "       [1828],\n",
      "       [2005],\n",
      "       [2032],\n",
      "       [2005],\n",
      "       [2010],\n",
      "       [1969],\n",
      "       [1857],\n",
      "       [1792],\n",
      "       [1758],\n",
      "       [1798],\n",
      "       [1990],\n",
      "       [1488],\n",
      "       [2004],\n",
      "       [1881],\n",
      "       [1908],\n",
      "       [2023],\n",
      "       [1956],\n",
      "       [1905],\n",
      "       [1787],\n",
      "       [1970],\n",
      "       [2005],\n",
      "       [1962],\n",
      "       [2024],\n",
      "       [1931],\n",
      "       [1817],\n",
      "       [1799],\n",
      "       [1895],\n",
      "       [1950],\n",
      "       [2031],\n",
      "       [1858],\n",
      "       [1732],\n",
      "       [2010],\n",
      "       [1880],\n",
      "       [1940],\n",
      "       [1682],\n",
      "       [1449],\n",
      "       [1909],\n",
      "       [1171],\n",
      "       [1407],\n",
      "       [1999],\n",
      "       [1731],\n",
      "       [2009],\n",
      "       [2012],\n",
      "       [1937],\n",
      "       [1858],\n",
      "       [1182],\n",
      "       [2009],\n",
      "       [1704],\n",
      "       [1758],\n",
      "       [2010],\n",
      "       [2027],\n",
      "       [1955],\n",
      "       [1895],\n",
      "       [2012],\n",
      "       [1869],\n",
      "       [1869],\n",
      "       [2009],\n",
      "       [1773],\n",
      "       [1761],\n",
      "       [1881],\n",
      "       [1960],\n",
      "       [2005],\n",
      "       [1763],\n",
      "       [2024],\n",
      "       [1908],\n",
      "       [2027],\n",
      "       [1809],\n",
      "       [1917],\n",
      "       [1604],\n",
      "       [1925],\n",
      "       [1432],\n",
      "       [1881],\n",
      "       [1880],\n",
      "       [1954],\n",
      "       [1874],\n",
      "       [2027],\n",
      "       [1567],\n",
      "       [2009],\n",
      "       [1573],\n",
      "       [2039],\n",
      "       [2010],\n",
      "       [1757],\n",
      "       [1763],\n",
      "       [1908],\n",
      "       [1942],\n",
      "       [2005],\n",
      "       [1906],\n",
      "       [2001],\n",
      "       [1860],\n",
      "       [2009],\n",
      "       [1985],\n",
      "       [1792],\n",
      "       [1716],\n",
      "       [1943],\n",
      "       [2005],\n",
      "       [1874],\n",
      "       [1822],\n",
      "       [2011],\n",
      "       [1853],\n",
      "       [1980],\n",
      "       [2016],\n",
      "       [1985],\n",
      "       [1371],\n",
      "       [1777],\n",
      "       [1716],\n",
      "       [1792],\n",
      "       [1691],\n",
      "       [2039],\n",
      "       [1969],\n",
      "       [1952],\n",
      "       [1938],\n",
      "       [2011],\n",
      "       [1825],\n",
      "       [1798],\n",
      "       [1331],\n",
      "       [1696],\n",
      "       [1763],\n",
      "       [1969],\n",
      "       [1847],\n",
      "       [1882],\n",
      "       [2027],\n",
      "       [2005],\n",
      "       [1982],\n",
      "       [1999],\n",
      "       [2010],\n",
      "       [1913],\n",
      "       [1940],\n",
      "       [1761],\n",
      "       [1887],\n",
      "       [1924],\n",
      "       [2023],\n",
      "       [1816],\n",
      "       [2000],\n",
      "       [1999],\n",
      "       [2000],\n",
      "       [1982],\n",
      "       [1940],\n",
      "       [1961],\n",
      "       [1955],\n",
      "       [1892],\n",
      "       [1296],\n",
      "       [1885],\n",
      "       [2013],\n",
      "       [1925],\n",
      "       [1281],\n",
      "       [1913],\n",
      "       [1893],\n",
      "       [1910],\n",
      "       [1817],\n",
      "       [1933],\n",
      "       [1927],\n",
      "       [2003],\n",
      "       [1858],\n",
      "       [1834],\n",
      "       [1876],\n",
      "       [1216],\n",
      "       [1883],\n",
      "       [1895],\n",
      "       [1998],\n",
      "       [1887],\n",
      "       [1990],\n",
      "       [1992],\n",
      "       [1673],\n",
      "       [1901],\n",
      "       [1928],\n",
      "       [2039],\n",
      "       [1858],\n",
      "       [1776],\n",
      "       [2009],\n",
      "       [2009],\n",
      "       [1993],\n",
      "       [1928],\n",
      "       [1934],\n",
      "       [2003],\n",
      "       [1741],\n",
      "       [2012],\n",
      "       [ 463],\n",
      "       [1853],\n",
      "       [1777],\n",
      "       [1853],\n",
      "       [2009],\n",
      "       [2024],\n",
      "       [1990],\n",
      "       [ 369],\n",
      "       [2005],\n",
      "       [1940],\n",
      "       [1906],\n",
      "       [1812],\n",
      "       [2023],\n",
      "       [1761],\n",
      "       [1895],\n",
      "       [1763],\n",
      "       [1940],\n",
      "       [1954],\n",
      "       [1785],\n",
      "       [1969],\n",
      "       [1940],\n",
      "       [2031],\n",
      "       [2038],\n",
      "       [1811],\n",
      "       [1980],\n",
      "       [1867],\n",
      "       [1770],\n",
      "       [1691],\n",
      "       [2023],\n",
      "       [1934],\n",
      "       [1969],\n",
      "       [2009],\n",
      "       [2027],\n",
      "       [1940],\n",
      "       [1934],\n",
      "       [2010],\n",
      "       [1875],\n",
      "       [1940],\n",
      "       [2031],\n",
      "       [1817],\n",
      "       [2005],\n",
      "       [2024],\n",
      "       [1960],\n",
      "       [1886],\n",
      "       [1946],\n",
      "       [1916],\n",
      "       [1818],\n",
      "       [2024],\n",
      "       [1792],\n",
      "       [ 227],\n",
      "       [1694],\n",
      "       [1992],\n",
      "       [1682],\n",
      "       [1788],\n",
      "       [1739],\n",
      "       [1940],\n",
      "       [1958],\n",
      "       [1985],\n",
      "       [1896],\n",
      "       [1954],\n",
      "       [1838],\n",
      "       [1896],\n",
      "       [2027],\n",
      "       [1605],\n",
      "       [1993],\n",
      "       [1812],\n",
      "       [1991],\n",
      "       [1881],\n",
      "       [1880],\n",
      "       [2024],\n",
      "       [1944],\n",
      "       [1921],\n",
      "       [1773],\n",
      "       [1870],\n",
      "       [2005],\n",
      "       [1978],\n",
      "       [1964],\n",
      "       [1985],\n",
      "       [1881],\n",
      "       [1817],\n",
      "       [1971],\n",
      "       [1969],\n",
      "       [1846],\n",
      "       [2010],\n",
      "       [1960],\n",
      "       [1969],\n",
      "       [1982]])\n"
     ]
    },
    {
     "name": "stdin",
     "output_type": "stream",
     "text": [
      "ipdb>  trues1 = df.individual_id[valid_single_indices].values\n",
      "ipdb>  trues1.shape\n"
     ]
    },
    {
     "name": "stdout",
     "output_type": "stream",
     "text": [
      "(288,)\n"
     ]
    },
    {
     "name": "stdin",
     "output_type": "stream",
     "text": [
      "ipdb>  (neigh_preds2 == neigh_trues2).sum()\n"
     ]
    },
    {
     "name": "stdout",
     "output_type": "stream",
     "text": [
      "*** NameError: name 'neigh_preds2' is not defined\n"
     ]
    },
    {
     "name": "stdin",
     "output_type": "stream",
     "text": [
      "ipdb>  preds1 == tures1\n"
     ]
    },
    {
     "name": "stdout",
     "output_type": "stream",
     "text": [
      "*** NameError: name 'tures1' is not defined\n"
     ]
    },
    {
     "name": "stdin",
     "output_type": "stream",
     "text": [
      "ipdb>  (preds1 == trues1).sum()\n"
     ]
    },
    {
     "name": "stdout",
     "output_type": "stream",
     "text": [
      "0\n"
     ]
    },
    {
     "name": "stdin",
     "output_type": "stream",
     "text": [
      "ipdb>  distance1\n"
     ]
    },
    {
     "name": "stdout",
     "output_type": "stream",
     "text": [
      "array([[0.51049492],\n",
      "       [0.42640319],\n",
      "       [0.3751685 ],\n",
      "       [0.59506786],\n",
      "       [0.48249002],\n",
      "       [0.44413705],\n",
      "       [0.39170263],\n",
      "       [0.44733957],\n",
      "       [0.5098154 ],\n",
      "       [0.47215509],\n",
      "       [0.48885337],\n",
      "       [0.31122275],\n",
      "       [0.5850021 ],\n",
      "       [0.39486537],\n",
      "       [0.29171792],\n",
      "       [0.48497398],\n",
      "       [0.36763347],\n",
      "       [0.36640579],\n",
      "       [0.52938198],\n",
      "       [0.73610344],\n",
      "       [0.38147021],\n",
      "       [0.33353376],\n",
      "       [0.42885046],\n",
      "       [0.5270371 ],\n",
      "       [0.55344472],\n",
      "       [0.3772239 ],\n",
      "       [0.43738239],\n",
      "       [0.55726739],\n",
      "       [0.34144396],\n",
      "       [0.36388886],\n",
      "       [0.26487573],\n",
      "       [0.32403987],\n",
      "       [0.42770086],\n",
      "       [0.4286198 ],\n",
      "       [0.44891944],\n",
      "       [0.37117771],\n",
      "       [0.38399401],\n",
      "       [0.52947791],\n",
      "       [0.5510192 ],\n",
      "       [0.54938153],\n",
      "       [0.45023444],\n",
      "       [0.43977031],\n",
      "       [0.41225519],\n",
      "       [0.48567321],\n",
      "       [0.45679669],\n",
      "       [0.15601193],\n",
      "       [0.40574249],\n",
      "       [0.38276436],\n",
      "       [0.34098112],\n",
      "       [0.48836922],\n",
      "       [0.40452965],\n",
      "       [0.37058958],\n",
      "       [0.48910552],\n",
      "       [0.5558066 ],\n",
      "       [0.36829901],\n",
      "       [0.61794204],\n",
      "       [0.31196333],\n",
      "       [0.47160043],\n",
      "       [0.35415178],\n",
      "       [0.44807049],\n",
      "       [0.5591844 ],\n",
      "       [0.53451173],\n",
      "       [0.44618425],\n",
      "       [0.46028397],\n",
      "       [0.47905192],\n",
      "       [0.42967139],\n",
      "       [0.41356643],\n",
      "       [0.61841686],\n",
      "       [0.54359894],\n",
      "       [0.36303234],\n",
      "       [0.56364234],\n",
      "       [0.52774928],\n",
      "       [0.396868  ],\n",
      "       [0.55919081],\n",
      "       [0.2478479 ],\n",
      "       [0.3906834 ],\n",
      "       [0.5030995 ],\n",
      "       [0.42270557],\n",
      "       [0.79591866],\n",
      "       [0.32867293],\n",
      "       [0.41987543],\n",
      "       [0.39550354],\n",
      "       [0.56577046],\n",
      "       [0.4201473 ],\n",
      "       [0.5838484 ],\n",
      "       [0.47048076],\n",
      "       [0.41376106],\n",
      "       [0.58530347],\n",
      "       [0.37529486],\n",
      "       [0.43847072],\n",
      "       [0.40082402],\n",
      "       [0.5354429 ],\n",
      "       [0.51444247],\n",
      "       [0.48941005],\n",
      "       [0.56402651],\n",
      "       [0.50415561],\n",
      "       [0.42413913],\n",
      "       [0.62804154],\n",
      "       [0.41180955],\n",
      "       [0.36449439],\n",
      "       [0.41893596],\n",
      "       [0.49525546],\n",
      "       [0.41133321],\n",
      "       [0.5722803 ],\n",
      "       [0.66442687],\n",
      "       [0.27494595],\n",
      "       [0.35610773],\n",
      "       [0.5448118 ],\n",
      "       [0.49505481],\n",
      "       [0.41507122],\n",
      "       [0.31933484],\n",
      "       [0.69808299],\n",
      "       [0.51108801],\n",
      "       [0.50673917],\n",
      "       [0.33586693],\n",
      "       [0.44693351],\n",
      "       [0.43440826],\n",
      "       [0.44702214],\n",
      "       [0.41032259],\n",
      "       [0.17709927],\n",
      "       [0.52517727],\n",
      "       [0.58959737],\n",
      "       [0.36805289],\n",
      "       [0.38688542],\n",
      "       [0.53466498],\n",
      "       [0.49550385],\n",
      "       [0.45487127],\n",
      "       [0.49817184],\n",
      "       [0.42510184],\n",
      "       [0.53276436],\n",
      "       [0.37384867],\n",
      "       [0.45111534],\n",
      "       [0.46431731],\n",
      "       [0.36370984],\n",
      "       [0.50686713],\n",
      "       [0.34616096],\n",
      "       [0.30902291],\n",
      "       [0.40040724],\n",
      "       [0.46190459],\n",
      "       [0.55399387],\n",
      "       [0.48794298],\n",
      "       [0.57891237],\n",
      "       [0.37517105],\n",
      "       [0.2744568 ],\n",
      "       [0.37336583],\n",
      "       [0.44621556],\n",
      "       [0.27214985],\n",
      "       [0.38147871],\n",
      "       [0.52506175],\n",
      "       [0.43108398],\n",
      "       [0.5159753 ],\n",
      "       [0.30085106],\n",
      "       [0.33029196],\n",
      "       [0.37409066],\n",
      "       [0.76722261],\n",
      "       [0.51581443],\n",
      "       [0.57976088],\n",
      "       [0.47498006],\n",
      "       [0.47679655],\n",
      "       [0.45108534],\n",
      "       [0.56199093],\n",
      "       [0.34611032],\n",
      "       [0.45592552],\n",
      "       [0.6197666 ],\n",
      "       [0.40048172],\n",
      "       [0.33913598],\n",
      "       [0.41494682],\n",
      "       [0.47254909],\n",
      "       [0.58424775],\n",
      "       [0.57004876],\n",
      "       [0.41179661],\n",
      "       [0.44748837],\n",
      "       [0.54276094],\n",
      "       [0.45877421],\n",
      "       [0.57719578],\n",
      "       [0.51769523],\n",
      "       [0.47172528],\n",
      "       [0.44732523],\n",
      "       [0.61930687],\n",
      "       [0.54612904],\n",
      "       [0.62627167],\n",
      "       [0.4967715 ],\n",
      "       [0.49184255],\n",
      "       [0.40517448],\n",
      "       [0.39172773],\n",
      "       [0.40871699],\n",
      "       [0.45783039],\n",
      "       [0.43547259],\n",
      "       [0.42084471],\n",
      "       [0.46630006],\n",
      "       [0.53887972],\n",
      "       [0.40080055],\n",
      "       [0.68157072],\n",
      "       [0.3795104 ],\n",
      "       [0.58266999],\n",
      "       [0.47288433],\n",
      "       [0.53477483],\n",
      "       [0.58316911],\n",
      "       [0.47367923],\n",
      "       [0.53018533],\n",
      "       [0.48629531],\n",
      "       [0.49452172],\n",
      "       [0.37044289],\n",
      "       [0.44435985],\n",
      "       [0.40518276],\n",
      "       [0.46488572],\n",
      "       [0.42068134],\n",
      "       [0.50530221],\n",
      "       [0.68211024],\n",
      "       [0.40261964],\n",
      "       [0.6532209 ],\n",
      "       [0.55199001],\n",
      "       [0.36175869],\n",
      "       [0.40998459],\n",
      "       [0.44148416],\n",
      "       [0.48085117],\n",
      "       [0.49517005],\n",
      "       [0.34061108],\n",
      "       [0.46253111],\n",
      "       [0.48077844],\n",
      "       [0.37116108],\n",
      "       [0.50753188],\n",
      "       [0.45136304],\n",
      "       [0.44486602],\n",
      "       [0.45002878],\n",
      "       [0.43088687],\n",
      "       [0.35565257],\n",
      "       [0.58708162],\n",
      "       [0.45020853],\n",
      "       [0.39737178],\n",
      "       [0.54798772],\n",
      "       [0.43393158],\n",
      "       [0.40149564],\n",
      "       [0.38128427],\n",
      "       [0.65049509],\n",
      "       [0.2950288 ],\n",
      "       [0.46157053],\n",
      "       [0.38268719],\n",
      "       [0.3909665 ],\n",
      "       [0.43492386],\n",
      "       [0.43755986],\n",
      "       [0.41270088],\n",
      "       [0.36085873],\n",
      "       [0.51574006],\n",
      "       [0.45504445],\n",
      "       [0.36794938],\n",
      "       [0.40013287],\n",
      "       [0.62205837],\n",
      "       [0.40444596],\n",
      "       [0.48184129],\n",
      "       [0.47649372],\n",
      "       [0.49447614],\n",
      "       [0.47546636],\n",
      "       [0.4161006 ],\n",
      "       [0.56950105],\n",
      "       [0.42567446],\n",
      "       [0.42005769],\n",
      "       [0.55373474],\n",
      "       [0.52770292],\n",
      "       [0.36967593],\n",
      "       [0.30615561],\n",
      "       [0.51033272],\n",
      "       [0.37953973],\n",
      "       [0.38517288],\n",
      "       [0.48031306],\n",
      "       [0.57717914],\n",
      "       [0.37673552],\n",
      "       [0.45563563],\n",
      "       [0.55440595],\n",
      "       [0.44995549],\n",
      "       [0.44990972],\n",
      "       [0.46503269],\n",
      "       [0.5017117 ],\n",
      "       [0.36355239],\n",
      "       [0.47919605],\n",
      "       [0.38012976],\n",
      "       [0.53131205],\n",
      "       [0.33920468],\n",
      "       [0.3533471 ],\n",
      "       [0.67229173],\n",
      "       [0.41113742],\n",
      "       [0.5043987 ],\n",
      "       [0.28830195],\n",
      "       [0.43574043],\n",
      "       [0.3693563 ],\n",
      "       [0.42142633],\n",
      "       [0.32871129],\n",
      "       [0.37973288]])\n"
     ]
    },
    {
     "name": "stdin",
     "output_type": "stream",
     "text": [
      "ipdb>  distance.reshape(-1)[wrong]\n"
     ]
    },
    {
     "name": "stdout",
     "output_type": "stream",
     "text": [
      "*** NameError: name 'distance' is not defined\n"
     ]
    },
    {
     "name": "stdin",
     "output_type": "stream",
     "text": [
      "ipdb>  distance1.reshape(-1)[wrong1]\n"
     ]
    },
    {
     "name": "stdout",
     "output_type": "stream",
     "text": [
      "*** NameError: name 'wrong1' is not defined\n",
      "--KeyboardInterrupt--\n",
      "\n",
      "KeyboardInterrupt: Interrupted by user\n",
      "correct1 % 0.0\n",
      "correct2 % 0.013452914798206279\n",
      "lr 1e-07 time 10711.36s\n",
      "epoch: 1\n"
     ]
    },
    {
     "data": {
      "application/vnd.jupyter.widget-view+json": {
       "model_id": "f1035e7cb6ae4f41a6589e21ef70bc30",
       "version_major": 2,
       "version_minor": 0
      },
      "text/plain": [
       "HBox(children=(HTML(value=''), FloatProgress(value=0.0, max=255.0), HTML(value='')))"
      ]
     },
     "metadata": {},
     "output_type": "display_data"
    },
    {
     "name": "stdout",
     "output_type": "stream",
     "text": [
      "\n"
     ]
    },
    {
     "data": {
      "application/vnd.jupyter.widget-view+json": {
       "model_id": "e078d96858544af68121a753243e0e78",
       "version_major": 2,
       "version_minor": 0
      },
      "text/plain": [
       "HBox(children=(HTML(value=''), FloatProgress(value=1.0, bar_style='info', layout=Layout(width='20px'), max=1.0…"
      ]
     },
     "metadata": {},
     "output_type": "display_data"
    },
    {
     "name": "stdout",
     "output_type": "stream",
     "text": [
      "\n"
     ]
    },
    {
     "data": {
      "application/vnd.jupyter.widget-view+json": {
       "model_id": "be580140f8584222b79eb01cc819d85e",
       "version_major": 2,
       "version_minor": 0
      },
      "text/plain": [
       "HBox(children=(HTML(value=''), FloatProgress(value=1.0, bar_style='info', layout=Layout(width='20px'), max=1.0…"
      ]
     },
     "metadata": {},
     "output_type": "display_data"
    },
    {
     "name": "stdout",
     "output_type": "stream",
     "text": [
      "\n",
      "> \u001b[0;32m<ipython-input-47-5206b3dbcc35>\u001b[0m(24)\u001b[0;36m<cell line: 9>\u001b[0;34m()\u001b[0m\n",
      "\u001b[0;32m     22 \u001b[0;31m\u001b[0;34m\u001b[0m\u001b[0m\n",
      "\u001b[0m\u001b[0;32m     23 \u001b[0;31m    \u001b[0;31m# ---------------------------------------------------------------- single valid\u001b[0m\u001b[0;34m\u001b[0m\u001b[0;34m\u001b[0m\u001b[0;34m\u001b[0m\u001b[0m\n",
      "\u001b[0m\u001b[0;32m---> 24 \u001b[0;31m    \u001b[0;32mimport\u001b[0m \u001b[0mpdb\u001b[0m \u001b[0;34m;\u001b[0m \u001b[0mpdb\u001b[0m\u001b[0;34m.\u001b[0m\u001b[0mset_trace\u001b[0m\u001b[0;34m(\u001b[0m\u001b[0;34m)\u001b[0m\u001b[0;34m\u001b[0m\u001b[0;34m\u001b[0m\u001b[0m\n",
      "\u001b[0m\u001b[0;32m     25 \u001b[0;31m    \u001b[0mpreds1\u001b[0m \u001b[0;34m=\u001b[0m \u001b[0mnp\u001b[0m\u001b[0;34m.\u001b[0m\u001b[0marray\u001b[0m\u001b[0;34m(\u001b[0m\u001b[0mtrain_trues\u001b[0m\u001b[0;34m)\u001b[0m\u001b[0;34m[\u001b[0m\u001b[0mindices1\u001b[0m\u001b[0;34m.\u001b[0m\u001b[0mreshape\u001b[0m\u001b[0;34m(\u001b[0m\u001b[0;34m-\u001b[0m\u001b[0;36m1\u001b[0m\u001b[0;34m)\u001b[0m\u001b[0;34m]\u001b[0m \u001b[0;31m# k neighbor 예측값\u001b[0m\u001b[0;34m\u001b[0m\u001b[0;34m\u001b[0m\u001b[0m\n",
      "\u001b[0m\u001b[0;32m     26 \u001b[0;31m    \u001b[0mtrues1\u001b[0m \u001b[0;34m=\u001b[0m \u001b[0mdf\u001b[0m\u001b[0;34m.\u001b[0m\u001b[0mindividual_id\u001b[0m\u001b[0;34m[\u001b[0m\u001b[0mvalid_single_indices\u001b[0m\u001b[0;34m]\u001b[0m\u001b[0;34m.\u001b[0m\u001b[0mvalues\u001b[0m \u001b[0;31m# 정답\u001b[0m\u001b[0;34m\u001b[0m\u001b[0;34m\u001b[0m\u001b[0m\n",
      "\u001b[0m\n"
     ]
    }
   ],
   "source": [
    "start = time.time()\n",
    "os.makedirs(f\"{config.checkpoint}/{config.model_name}\", exist_ok=True)\n",
    "\n",
    "grad_scaler = torch.cuda.amp.GradScaler()\n",
    "\n",
    "best_model = None\n",
    "best_acc,  best_epoch = 0, 0\n",
    "print('Start Training')\n",
    "for i in range(config.resume_epoch, config.epoch):\n",
    "    print(f\"epoch: {i}\")\n",
    "    lr = scheduler.get_lr()[0]\n",
    "    train_loss, train_acc, train_top_k, train_preds, train_trues, train_embeds = train_one_epoch(model, optimizer, criterion, train_loader, scheduler, grad_scaler, config.iters_to_accumulate)\n",
    "    \n",
    "    neigh = NearestNeighbors(n_neighbors=1, metric='cosine')\n",
    "    neigh.fit(train_embeds) # 80 %\n",
    "    \n",
    "    valid_loss1, valid_acc1, valid_top_k1, valid_preds1, valid_trues1, valid_embeds1 = valid_one_epoch(model, criterion, valid_loader_single, config.tta)\n",
    "    valid_loss2, valid_acc2, valid_top_k2, valid_preds2, valid_trues2, valid_embeds2 = valid_one_epoch(model, criterion, valid_loader_others, config.tta)\n",
    "    \n",
    "    distance1, indices1 = neigh.kneighbors(valid_embeds1, n_neighbors=1, return_distance=True) # 80 %에 해당하는 index\n",
    "    distance2, indices2 = neigh.kneighbors(valid_embeds2, n_neighbors=1, return_distance=True)\n",
    "    \n",
    "    # ---------------------------------------------------------------- single valid - distance 분포\n",
    "    print('-'*20, 'single','-'*20)\n",
    "    import pdb ; pdb.set_trace()\n",
    "    neigh_preds1 = np.array(train_trues)[indices1.reshape(-1)] # k neighbor 예측값\n",
    "    neigh_trues1 = df.individual_id[valid_single_indices].values # 정답\n",
    "    print('min, mean, max :', distance1.min(), distance1.mean(), distance1.max())\n",
    "    # print('wrong %', len(distance1[wrong1])/len(distance1))\n",
    "    \n",
    "    # ---------------------------------------------------------------- others valid - 맞은애 / 틀린애 distance 분포, \n",
    "    \n",
    "    neigh_preds = np.array(train_trues)[indices2.reshape(-1)] # k neighbor 예측값\n",
    "    neigh_trues = df.individual_id[valid_others_indices].values\n",
    "    correct = (neigh_preds == neigh_trues) # neigh 예측값중 맞은 index\n",
    "    wrong = (neigh_preds != neigh_trues)\n",
    "    print('-'*20, 'others','-'*20)\n",
    "    print('min, mean, max (total):', distance2.min(), distance2.mean(), distance2.max())\n",
    "    print('min, mean, max (correct):', distance2[correct].min(), distance2[correct].mean(), distance2[correct].max())\n",
    "    print('min, mean, max (wrong):', distance2[wrong].min(), distance2[wrong].mean(), distance2[wrong].max())\n",
    "    print('correct %', len(distance2[correct])/len(distance2))\n",
    "    print('wrong %', len(distance2[wrong2])/len(distance2))\n",
    "    \n",
    "    # ----------------------------------------------------------------\n",
    "    \n",
    "    # print(f\"train loss {train_loss :.4f} acc {train_acc/len(train_loader.dataset) :.4f} topk {train_top_k/len(train_loader.dataset) :.4f}\")\n",
    "    # print(f\"valid loss (single) {valid_loss1 :.4f} acc {valid_acc1/len(valid_loader_single.dataset) :.4f} topk {valid_top_k1/len(valid_loader_single.dataset) :.4f}\")\n",
    "    # print(f\"valid loss (others) {valid_loss2 :.4f} acc {valid_acc2/len(valid_loader_others.dataset) :.4f} topk {valid_top_k2/len(valid_loader_others.dataset) :.4f}\")\n",
    "    print(f\"lr {lr} time {time.time() - start :.2f}s\")\n",
    "    \n",
    "    if best_acc < valid_acc2/len(valid_loader_single.dataset):\n",
    "        best_acc = valid_acc2/len(valid_loader_single.dataset)\n",
    "        best_epoch = i\n",
    "        print(f'best acc updated {best_acc}')\n",
    "        best_model_dict = {\n",
    "            'model': deepcopy(model.state_dict()),\n",
    "            'optimizer': deepcopy(optimizer.state_dict()),\n",
    "            'scheduler': deepcopy(scheduler.state_dict()),\n",
    "        }\n",
    "        torch.save(best_model_dict, f\"{config.checkpoint}/{config.model_name}/best.pt\")\n",
    "\n",
    "    if config.wandb_log:\n",
    "        wandb_dict = {\n",
    "            'train loss': train_loss,\n",
    "            'train acc': train_acc/len(train_loader.dataset),\n",
    "            'valid loss (single)': valid_loss1,\n",
    "            'valid acc (single)': valid_acc1 / len(valid_loader_single.dataset),\n",
    "            'valid topk (single)': valid_top_k1 / len(valid_loader_single.dataset),\n",
    "            'valid loss (others)': valid_loss2,\n",
    "            'valid acc (others)': valid_acc2 / len(valid_loader_others.dataset),\n",
    "            'valid topk (others)': valid_top_k2 / len(valid_loader_others.dataset),\n",
    "            'learning rate': scheduler.get_lr()[0],\n",
    "        }\n",
    "        wandb.log(wandb_dict)\n",
    "        \n",
    "os.rename(f\"{config.checkpoint}/{config.model_name}/best.pt\", \\\n",
    "          f\"{config.checkpoint}/{config.model_name}/fold{config.fold}_epoch{best_epoch}_{best_acc:.04f}_{config.exp_name}.pt\")"
   ]
  },
  {
   "cell_type": "code",
   "execution_count": null,
   "id": "f2ff39ee-7ffb-4dea-bf7f-42667bf36320",
   "metadata": {},
   "outputs": [],
   "source": []
  },
  {
   "cell_type": "code",
   "execution_count": null,
   "id": "cad83ae2-acd5-41f0-96a2-423197e39543",
   "metadata": {},
   "outputs": [],
   "source": []
  },
  {
   "cell_type": "code",
   "execution_count": null,
   "id": "b94a74ab-fa43-4e6d-8928-02aad2a38968",
   "metadata": {},
   "outputs": [],
   "source": []
  }
 ],
 "metadata": {
  "kernelspec": {
   "display_name": "Python 3",
   "language": "python",
   "name": "python3"
  },
  "language_info": {
   "codemirror_mode": {
    "name": "ipython",
    "version": 3
   },
   "file_extension": ".py",
   "mimetype": "text/x-python",
   "name": "python",
   "nbconvert_exporter": "python",
   "pygments_lexer": "ipython3",
   "version": "3.8.5"
  }
 },
 "nbformat": 4,
 "nbformat_minor": 5
}
