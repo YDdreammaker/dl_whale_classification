{
 "cells": [
  {
   "cell_type": "code",
   "execution_count": 1,
   "id": "d1b84c7a-98e2-4c0d-bd19-aec697654c5c",
   "metadata": {},
   "outputs": [],
   "source": [
    "from glob import glob\n",
    "import numpy as np\n",
    "import pandas as pd\n",
    "import matplotlib.pyplot as plt\n",
    "import seaborn as sns\n",
    "\n",
    "import torch\n",
    "\n",
    "from sklearn.neighbors import NearestNeighbors\n",
    "\n",
    "from data import stratified_kfold\n",
    "from utils import seed_everything"
   ]
  },
  {
   "cell_type": "code",
   "execution_count": 2,
   "id": "4fadc93e-2137-4c5f-852e-05e80e9fe75e",
   "metadata": {},
   "outputs": [],
   "source": [
    "class Config:\n",
    "    checkpoint = '/root/dl_whale_classification/pths_individual'\n",
    "    test = False\n",
    "    tta = False\n",
    "    resume_epoch = 0\n",
    "    iters_to_accumulate = 1\n",
    "    resume_root = None\n",
    "    wandb_log = True\n",
    "    model_name = 'tf_efficientnet_b6_ns'\n",
    "    fold = 0\n",
    "    n_split = 5\n",
    "    seed = 2022\n",
    "    data_dir = '/root/data2/' # root/data/train_images\n",
    "    root_dir = '.'\n",
    "    batch_size = 8\n",
    "    lr = 1e-4\n",
    "    weight_decay = 0.0005\n",
    "    epoch = 20\n",
    "    exp_name = 'test'\n",
    "config = Config()"
   ]
  },
  {
   "cell_type": "code",
   "execution_count": 3,
   "id": "9bc09a02-87ca-420f-8ffc-b97893031e99",
   "metadata": {},
   "outputs": [],
   "source": [
    "seed_everything(2022)"
   ]
  },
  {
   "cell_type": "code",
   "execution_count": 4,
   "id": "e839cc05-42a8-4ec9-af00-d45a2eebe9de",
   "metadata": {},
   "outputs": [],
   "source": [
    "df = pd.read_csv('/root/data/train.csv')\n",
    "df = df.iloc[:len(df)]\n",
    "df.species.replace({\"globis\": \"short_finned_pilot_whale\",\n",
    "                  \"pilot_whale\": \"short_finned_pilot_whale\",\n",
    "                  \"kiler_whale\": \"killer_whale\",\n",
    "                  \"bottlenose_dolpin\": \"bottlenose_dolphin\"}, inplace=True)"
   ]
  },
  {
   "cell_type": "code",
   "execution_count": 5,
   "id": "4af3599f-8a5f-469f-a0bb-a4767ce6cc4d",
   "metadata": {},
   "outputs": [],
   "source": [
    "specie_unique = df.species.unique()\n",
    "specie_indices = range(len(specie_unique))\n",
    "species2idx = {k: v for k, v in zip(specie_unique, specie_indices)}\n",
    "df.species = df.species.map(species2idx)\n",
    "\n",
    "individual_unique = df.individual_id.unique()\n",
    "individual_indices = range(len(individual_unique))\n",
    "individual2idx = {k : v for k, v in zip(individual_unique, individual_indices)}\n",
    "df.individual_id = df.individual_id.map(individual2idx)"
   ]
  },
  {
   "cell_type": "code",
   "execution_count": 6,
   "id": "c355ac6e-e492-480a-ba07-dd984f2d6c27",
   "metadata": {},
   "outputs": [],
   "source": [
    "df_single = df[df['individual_id'].map(df['individual_id'].value_counts()) == 1]\n",
    "df_others = df[df['individual_id'].map(df['individual_id'].value_counts()) > 1]"
   ]
  },
  {
   "cell_type": "code",
   "execution_count": 220,
   "id": "c53fc3fa-8bdc-48dd-a70c-dc47fd3f6f82",
   "metadata": {},
   "outputs": [],
   "source": [
    "fold = 0"
   ]
  },
  {
   "cell_type": "code",
   "execution_count": 221,
   "id": "9b0a0c43-99ed-4d3a-b53d-e36ac4fe70cb",
   "metadata": {},
   "outputs": [
    {
     "name": "stderr",
     "output_type": "stream",
     "text": [
      "/opt/conda/lib/python3.8/site-packages/sklearn/model_selection/_split.py:676: UserWarning: The least populated class in y has only 2 members, which is less than n_splits=5.\n",
      "  warnings.warn(\n"
     ]
    }
   ],
   "source": [
    "train_single, valid_single = stratified_kfold(df=df_single, fold=fold, n_split=config.n_split, seed=config.seed, target_col='species')\n",
    "train_others, valid_others = stratified_kfold(df=df_others, fold=fold, n_split=config.n_split, seed=config.seed, target_col='individual_id')"
   ]
  },
  {
   "cell_type": "code",
   "execution_count": 222,
   "id": "be134d78-3637-4b4c-96c4-e285846ee5d2",
   "metadata": {},
   "outputs": [],
   "source": [
    "train_single_indices = np.take(df_single.index.to_numpy(), train_single) # 실제 index    \n",
    "train_others_indices = np.take(df_others.index.to_numpy(), train_others)\n",
    "valid_single_indices = np.take(df_single.index.to_numpy(), valid_single)\n",
    "valid_others_indices = np.take(df_others.index.to_numpy(), valid_others)"
   ]
  },
  {
   "cell_type": "code",
   "execution_count": 223,
   "id": "950d4f88-9cc7-41e9-8903-bebfb43f4fc5",
   "metadata": {},
   "outputs": [],
   "source": [
    "full_train_indices = np.sort(np.concatenate((train_single_indices, train_others_indices), axis=0))\n",
    "full_valid_indices = np.sort(np.concatenate((valid_single_indices, valid_others_indices), axis=0))"
   ]
  },
  {
   "cell_type": "code",
   "execution_count": 224,
   "id": "0cd59e3a-acaa-4362-a2c6-0a4b5d7bf493",
   "metadata": {},
   "outputs": [],
   "source": [
    "embeds_train = sorted(glob('/root/embeddings/220329_effn_m/*train*'))\n",
    "embeds_test = sorted(glob('/root/embeddings/220329_effn_m/*test*'))"
   ]
  },
  {
   "cell_type": "code",
   "execution_count": 225,
   "id": "7b0d30f1-3fb7-4508-86a8-951cf44f1b4f",
   "metadata": {},
   "outputs": [],
   "source": [
    "embed_train = torch.load(embeds_train[fold]).numpy()"
   ]
  },
  {
   "cell_type": "code",
   "execution_count": 226,
   "id": "6fc1f63c-3e69-4710-b7ac-ea5e664cdef9",
   "metadata": {},
   "outputs": [],
   "source": [
    "neigh = NearestNeighbors(n_neighbors=1, metric='cosine')"
   ]
  },
  {
   "cell_type": "code",
   "execution_count": 227,
   "id": "b71cbebc-e3e4-4887-97c5-60f0a7671422",
   "metadata": {},
   "outputs": [
    {
     "data": {
      "text/plain": [
       "NearestNeighbors(metric='cosine', n_neighbors=1)"
      ]
     },
     "execution_count": 227,
     "metadata": {},
     "output_type": "execute_result"
    }
   ],
   "source": [
    "neigh.fit(embed_train[full_train_indices])"
   ]
  },
  {
   "cell_type": "markdown",
   "id": "b05942e0-0d42-4639-9217-d2a879c856ae",
   "metadata": {
    "tags": []
   },
   "source": [
    "# top3 체크 + 폴드별 thr 측정"
   ]
  },
  {
   "cell_type": "code",
   "execution_count": 228,
   "id": "90c242f6-4399-42ee-8578-87862dcfb20f",
   "metadata": {},
   "outputs": [],
   "source": [
    "distance1, indices1 = neigh.kneighbors(embed_train[valid_single_indices], n_neighbors=3, return_distance=True) # 80 %에 해당하는 index\n",
    "distance2, indices2 = neigh.kneighbors(embed_train[valid_others_indices], n_neighbors=3, return_distance=True)"
   ]
  },
  {
   "cell_type": "code",
   "execution_count": 229,
   "id": "0be684ec-2e81-45cc-8798-2181eca2b9fb",
   "metadata": {},
   "outputs": [
    {
     "data": {
      "text/plain": [
       "array([[22910, 35936, 35343],\n",
       "       [ 1033,   483, 15866],\n",
       "       [15994, 37428, 36043],\n",
       "       ...,\n",
       "       [ 9713, 23743,  3332],\n",
       "       [37664, 11587, 37451],\n",
       "       [25353, 33380, 10885]])"
      ]
     },
     "execution_count": 229,
     "metadata": {},
     "output_type": "execute_result"
    }
   ],
   "source": [
    "indices1"
   ]
  },
  {
   "cell_type": "code",
   "execution_count": 230,
   "id": "5cfab499-748a-4fda-a4ab-33ed2f60514e",
   "metadata": {},
   "outputs": [
    {
     "data": {
      "text/plain": [
       "161"
      ]
     },
     "execution_count": 230,
     "metadata": {},
     "output_type": "execute_result"
    },
    {
     "data": {
      "image/png": "[encoded data removed]",
      "text/plain": [
       "<Figure size 432x288 with 1 Axes>"
      ]
     },
     "metadata": {
      "needs_background": "light"
     },
     "output_type": "display_data"
    }
   ],
   "source": [
    "# single\n",
    "neigh_trues = df.individual_id[valid_single_indices].values\n",
    "sns.histplot(distance1[:,0])\n",
    "(distance1[:,0] < 0.469).sum()"
   ]
  },
  {
   "cell_type": "code",
   "execution_count": 231,
   "id": "146b2bd4-2dc9-42c6-b52c-ee3e4ab19d73",
   "metadata": {},
   "outputs": [
    {
     "name": "stdout",
     "output_type": "stream",
     "text": [
      "min, mean, max (total): 0.0007121563 0.26697522 0.70874476\n",
      "min, mean, max (correct): 0.0007121563 0.19411598 0.70874476\n",
      "min, mean, max (wrong): 0.004982829 0.52423465 0.70154834\n",
      "correct % 0.7792938360263315 6511\n",
      "wrong % 0.22070616397366846 1844\n"
     ]
    }
   ],
   "source": [
    "neigh_preds = np.array(df.individual_id[full_train_indices].values)[indices2[:,0].reshape(-1)] # k neighbor 예측값\n",
    "neigh_trues = df.individual_id[valid_others_indices].values\n",
    "correct1 = (neigh_preds == neigh_trues) # neigh 예측값중 맞은 index\n",
    "wrong1 = (neigh_preds != neigh_trues)\n",
    "print('min, mean, max (total):', distance2.min(), distance2.mean(), distance2.max())\n",
    "print('min, mean, max (correct):', distance2[correct1].min(), distance2[correct1].mean(), distance2[correct1].max())\n",
    "print('min, mean, max (wrong):', distance2[wrong1].min(), distance2[wrong1].mean(), distance2[wrong1].max())\n",
    "print('correct %', len(distance2[correct1])/len(distance2), len(distance2[correct1]))\n",
    "print('wrong %', len(distance2[wrong1])/len(distance2), len(distance2[wrong1]))"
   ]
  },
  {
   "cell_type": "code",
   "execution_count": 232,
   "id": "b5397b8e-f545-42c5-9916-5de6f4c2990a",
   "metadata": {},
   "outputs": [
    {
     "name": "stdout",
     "output_type": "stream",
     "text": [
      "min, mean, max (total): 0.0007121563 0.26697522 0.70874476\n",
      "min, mean, max (correct): 0.0007121563 0.1619706 0.680019\n",
      "min, mean, max (wrong): 0.0056905746 0.52226365 0.70874476\n",
      "correct % 0.708557749850389\n",
      "wrong % 0.291442250149611\n"
     ]
    }
   ],
   "source": [
    "neigh_preds = np.array(df.individual_id[full_train_indices].values)[indices2[:,1].reshape(-1)] # k neighbor 예측값\n",
    "neigh_trues = df.individual_id[valid_others_indices].values\n",
    "correct2 = (neigh_preds == neigh_trues) # neigh 예측값중 맞은 index\n",
    "wrong2 = (neigh_preds != neigh_trues)\n",
    "print('min, mean, max (total):', distance2.min(), distance2.mean(), distance2.max())\n",
    "print('min, mean, max (correct):', distance2[correct2].min(), distance2[correct2].mean(), distance2[correct2].max())\n",
    "print('min, mean, max (wrong):', distance2[wrong2].min(), distance2[wrong2].mean(), distance2[wrong2].max())\n",
    "print('correct %', len(distance2[correct2])/len(distance2))\n",
    "print('wrong %', len(distance2[wrong2])/len(distance2))"
   ]
  },
  {
   "cell_type": "code",
   "execution_count": 233,
   "id": "293f6429-ebe1-4842-8de5-7d3c141f4788",
   "metadata": {},
   "outputs": [
    {
     "name": "stdout",
     "output_type": "stream",
     "text": [
      "min, mean, max (total): 0.0007121563 0.26697522 0.70874476\n",
      "min, mean, max (correct): 0.0007121563 0.14802217 0.6800877\n",
      "min, mean, max (wrong): 0.0056905746 0.51421696 0.70874476\n",
      "correct % 0.6751645721125075\n",
      "wrong % 0.32483542788749253\n"
     ]
    }
   ],
   "source": [
    "neigh_preds = np.array(df.individual_id[full_train_indices].values)[indices2[:,2].reshape(-1)] # k neighbor 예측값\n",
    "neigh_trues = df.individual_id[valid_others_indices].values\n",
    "correct3 = (neigh_preds == neigh_trues) # neigh 예측값중 맞은 index\n",
    "wrong3 = (neigh_preds != neigh_trues)\n",
    "print('min, mean, max (total):', distance2.min(), distance2.mean(), distance2.max())\n",
    "print('min, mean, max (correct):', distance2[correct3].min(), distance2[correct3].mean(), distance2[correct3].max())\n",
    "print('min, mean, max (wrong):', distance2[wrong3].min(), distance2[wrong3].mean(), distance2[wrong3].max())\n",
    "print('correct %', len(distance2[correct3])/len(distance2))\n",
    "print('wrong %', len(distance2[wrong3])/len(distance2))"
   ]
  },
  {
   "cell_type": "code",
   "execution_count": 234,
   "id": "87fdbcc4-5a72-4545-86d2-36c069d87a46",
   "metadata": {},
   "outputs": [
    {
     "data": {
      "text/plain": [
       "164"
      ]
     },
     "execution_count": 234,
     "metadata": {},
     "output_type": "execute_result"
    }
   ],
   "source": [
    "(wrong1 & correct2).sum() # top 2에 new 박는게 여기까진 최고 - 종분류 한다면?"
   ]
  },
  {
   "cell_type": "code",
   "execution_count": 235,
   "id": "3f0cb24a-480e-4308-ae15-9163bca46948",
   "metadata": {},
   "outputs": [
    {
     "data": {
      "text/plain": [
       "84"
      ]
     },
     "execution_count": 235,
     "metadata": {},
     "output_type": "execute_result"
    }
   ],
   "source": [
    "((wrong1 & wrong2) & correct3).sum()"
   ]
  },
  {
   "cell_type": "code",
   "execution_count": 236,
   "id": "1ac64794-7e9e-4c31-b0c3-ae41c9e10014",
   "metadata": {},
   "outputs": [
    {
     "data": {
      "image/png": "[encoded data removed]",
      "text/plain": [
       "<Figure size 432x288 with 1 Axes>"
      ]
     },
     "metadata": {
      "needs_background": "light"
     },
     "output_type": "display_data"
    },
    {
     "data": {
      "image/png": "[encoded data removed]",
      "text/plain": [
       "<Figure size 432x288 with 1 Axes>"
      ]
     },
     "metadata": {
      "needs_background": "light"
     },
     "output_type": "display_data"
    },
    {
     "data": {
      "image/png": "[encoded data removed]",
      "text/plain": [
       "<Figure size 432x288 with 1 Axes>"
      ]
     },
     "metadata": {
      "needs_background": "light"
     },
     "output_type": "display_data"
    }
   ],
   "source": [
    "sns.histplot(distance2[:,0][correct1])\n",
    "plt.show()\n",
    "sns.histplot(distance2[:,0][wrong1])\n",
    "plt.show()\n",
    "sns.histplot(distance2[:,0])\n",
    "plt.show()"
   ]
  },
  {
   "cell_type": "code",
   "execution_count": 237,
   "id": "8ba7149f-0ce0-4712-81cf-82013f02572d",
   "metadata": {},
   "outputs": [
    {
     "data": {
      "text/plain": [
       "(0.44300000000000006,\n",
       " 1107,\n",
       " (622, 379),\n",
       " 0.4820000000000001,\n",
       " 957,\n",
       " (409, 548),\n",
       " 957)"
      ]
     },
     "execution_count": 237,
     "metadata": {},
     "output_type": "execute_result"
    }
   ],
   "source": [
    "value = 1e9\n",
    "best = 0\n",
    "best_x = 0\n",
    "best_y = 0\n",
    "\n",
    "value_ = 1e9 # 양방향 최소 차이\n",
    "best_ = 0\n",
    "best_x_ = 0\n",
    "best_y_ = 0\n",
    "for i in np.arange(0.40, 0.55, 0.001):\n",
    "    thr = i # 0.455\n",
    "    x,y,z = (distance2[:,0][correct1] > thr).sum(), (distance2[:,0][wrong1] < thr).sum(), (distance1[:,0] < thr).sum()\n",
    "    if value > x+y+z:\n",
    "        value = (x+y+z)\n",
    "        best_x = x\n",
    "        best_y = y\n",
    "        best = thr\n",
    "    if value_ > x+y:\n",
    "        value_ = x+y\n",
    "        best_x_ = x\n",
    "        best_y_ = y\n",
    "        best_ = thr\n",
    "best, value, (best_x, best_y), best_, (best_x_ + best_y_), (best_x_, best_y_), value_"
   ]
  },
  {
   "cell_type": "markdown",
   "id": "d4d4249d-eedc-4e3a-9e8f-f2bd9d2438b0",
   "metadata": {
    "tags": []
   },
   "source": [
    "### 1번 : 전체 데이터에 대한 test추론 후 distance (id or image) 평균값으로 앙상블"
   ]
  },
  {
   "cell_type": "code",
   "execution_count": 238,
   "id": "aee9d038-2db0-4e6c-aecb-759ba71863ac",
   "metadata": {},
   "outputs": [
    {
     "data": {
      "text/plain": [
       "10207"
      ]
     },
     "execution_count": 238,
     "metadata": {},
     "output_type": "execute_result"
    }
   ],
   "source": [
    "len(full_valid_indices)"
   ]
  },
  {
   "cell_type": "markdown",
   "id": "d8c3dcfe-e7f7-4587-8bec-21f20c695ce4",
   "metadata": {},
   "source": [
    "기본 threshold\n",
    "fold0 thr : \"only others\" 0.482 957, (409, 548) top2,3 164, 84 \"total\" 0.443 1107, (622, 379)\n",
    "fold1 thr : \"only others\" 0.473 983, (490, 493) top2,3 145, 91 \"total\" 0.453 1101, (582, 391)\n",
    "fold2 thr : \"only others\" 0.476 top2,3 127, 89 (488, 487)      \"total\" 0.452 1114, (598, 394)\n",
    "fold3 thr : \"only others\" 0.472 top2,3 145, 76 (457, 461)      \"total\" 0.440 1066, (643, 335)\n",
    "fold4 thr : \"only others\" 0.469 1031 (517, 514) top2,3 138, 79 \"total\" 0.461 1176, (554, 485)\n",
    "\n",
    "괄호 안에 있는 애들이 전부 threshold 적용하면 틀리는 애들"
   ]
  },
  {
   "cell_type": "code",
   "execution_count": 202,
   "id": "90fb0d3f-d31a-41e8-ae9b-93ae75363d6c",
   "metadata": {},
   "outputs": [
    {
     "data": {
      "text/plain": [
       "NearestNeighbors(metric='cosine', n_neighbors=1)"
      ]
     },
     "execution_count": 202,
     "metadata": {},
     "output_type": "execute_result"
    }
   ],
   "source": [
    "neigh = NearestNeighbors(n_neighbors=1, metric='cosine')\n",
    "neigh.fit(embed_train)"
   ]
  },
  {
   "cell_type": "code",
   "execution_count": 205,
   "id": "42ea17f7-4411-4912-a687-dde11f891838",
   "metadata": {},
   "outputs": [],
   "source": [
    "embeds_train = sorted(glob('/root/embeddings/220329_effn_m/*train*'))\n",
    "embeds_test = sorted(glob('/root/embeddings/220329_effn_m/*test*'))\n",
    "embed_train = torch.load(embeds_train[0])\n",
    "embed_test = torch.load(embeds_test[0])"
   ]
  },
  {
   "cell_type": "code",
   "execution_count": 207,
   "id": "30741a6b-4386-4642-b2ba-66b2aa6b9741",
   "metadata": {},
   "outputs": [],
   "source": [
    "distances, indices = neigh.kneighbors(embed_test, n_neighbors=5, return_distance=True) # 80 %에 해당하는 index"
   ]
  },
  {
   "cell_type": "code",
   "execution_count": 63,
   "id": "95cff1a7-52aa-4ee5-afa0-1ac6ee464ecd",
   "metadata": {},
   "outputs": [],
   "source": [
    "neigh_preds = np.array(df.individual_id[full_train_indices].values)[indices[:,0].reshape(-1)] # k neighbor 예측값"
   ]
  },
  {
   "cell_type": "code",
   "execution_count": 61,
   "id": "dcd04408-a6ba-4897-89d2-9389b9a0513f",
   "metadata": {},
   "outputs": [
    {
     "data": {
      "text/plain": [
       "(27956,)"
      ]
     },
     "execution_count": 61,
     "metadata": {},
     "output_type": "execute_result"
    }
   ],
   "source": [
    "neigh_preds.shape"
   ]
  },
  {
   "cell_type": "code",
   "execution_count": 53,
   "id": "b8d00706-d969-4788-a159-1428a2622ec3",
   "metadata": {},
   "outputs": [
    {
     "data": {
      "text/plain": [
       "<AxesSubplot:ylabel='Count'>"
      ]
     },
     "execution_count": 53,
     "metadata": {},
     "output_type": "execute_result"
    },
    {
     "data": {
      "image/png": "[encoded data removed]",
      "text/plain": [
       "<Figure size 432x288 with 1 Axes>"
      ]
     },
     "metadata": {
      "needs_background": "light"
     },
     "output_type": "display_data"
    }
   ],
   "source": [
    "sns.histplot(distances[:,0])"
   ]
  },
  {
   "cell_type": "code",
   "execution_count": 22,
   "id": "b5eb4083-a8b2-421c-b65f-ef71a9955e5d",
   "metadata": {},
   "outputs": [
    {
     "data": {
      "text/html": [
       "<div>\n",
       "<style scoped>\n",
       "    .dataframe tbody tr th:only-of-type {\n",
       "        vertical-align: middle;\n",
       "    }\n",
       "\n",
       "    .dataframe tbody tr th {\n",
       "        vertical-align: top;\n",
       "    }\n",
       "\n",
       "    .dataframe thead th {\n",
       "        text-align: right;\n",
       "    }\n",
       "</style>\n",
       "<table border=\"1\" class=\"dataframe\">\n",
       "  <thead>\n",
       "    <tr style=\"text-align: right;\">\n",
       "      <th></th>\n",
       "      <th>image</th>\n",
       "      <th>predictions</th>\n",
       "    </tr>\n",
       "  </thead>\n",
       "  <tbody>\n",
       "    <tr>\n",
       "      <th>0</th>\n",
       "      <td>000110707af0ba.jpg</td>\n",
       "      <td>37c7aba965a5 114207cab555 a6e325d8e924 19fbb96...</td>\n",
       "    </tr>\n",
       "    <tr>\n",
       "      <th>1</th>\n",
       "      <td>0006287ec424cb.jpg</td>\n",
       "      <td>37c7aba965a5 114207cab555 a6e325d8e924 19fbb96...</td>\n",
       "    </tr>\n",
       "    <tr>\n",
       "      <th>2</th>\n",
       "      <td>000809ecb2ccad.jpg</td>\n",
       "      <td>37c7aba965a5 114207cab555 a6e325d8e924 19fbb96...</td>\n",
       "    </tr>\n",
       "    <tr>\n",
       "      <th>3</th>\n",
       "      <td>00098d1376dab2.jpg</td>\n",
       "      <td>37c7aba965a5 114207cab555 a6e325d8e924 19fbb96...</td>\n",
       "    </tr>\n",
       "    <tr>\n",
       "      <th>4</th>\n",
       "      <td>000b8d89c738bd.jpg</td>\n",
       "      <td>37c7aba965a5 114207cab555 a6e325d8e924 19fbb96...</td>\n",
       "    </tr>\n",
       "    <tr>\n",
       "      <th>...</th>\n",
       "      <td>...</td>\n",
       "      <td>...</td>\n",
       "    </tr>\n",
       "    <tr>\n",
       "      <th>27951</th>\n",
       "      <td>fff6ff1989b5cd.jpg</td>\n",
       "      <td>37c7aba965a5 114207cab555 a6e325d8e924 19fbb96...</td>\n",
       "    </tr>\n",
       "    <tr>\n",
       "      <th>27952</th>\n",
       "      <td>fff8fd932b42cb.jpg</td>\n",
       "      <td>37c7aba965a5 114207cab555 a6e325d8e924 19fbb96...</td>\n",
       "    </tr>\n",
       "    <tr>\n",
       "      <th>27953</th>\n",
       "      <td>fff96371332c16.jpg</td>\n",
       "      <td>37c7aba965a5 114207cab555 a6e325d8e924 19fbb96...</td>\n",
       "    </tr>\n",
       "    <tr>\n",
       "      <th>27954</th>\n",
       "      <td>fffc1c4d3eabc7.jpg</td>\n",
       "      <td>37c7aba965a5 114207cab555 a6e325d8e924 19fbb96...</td>\n",
       "    </tr>\n",
       "    <tr>\n",
       "      <th>27955</th>\n",
       "      <td>fffc50be10c175.jpg</td>\n",
       "      <td>37c7aba965a5 114207cab555 a6e325d8e924 19fbb96...</td>\n",
       "    </tr>\n",
       "  </tbody>\n",
       "</table>\n",
       "<p>27956 rows × 2 columns</p>\n",
       "</div>"
      ],
      "text/plain": [
       "                    image                                        predictions\n",
       "0      000110707af0ba.jpg  37c7aba965a5 114207cab555 a6e325d8e924 19fbb96...\n",
       "1      0006287ec424cb.jpg  37c7aba965a5 114207cab555 a6e325d8e924 19fbb96...\n",
       "2      000809ecb2ccad.jpg  37c7aba965a5 114207cab555 a6e325d8e924 19fbb96...\n",
       "3      00098d1376dab2.jpg  37c7aba965a5 114207cab555 a6e325d8e924 19fbb96...\n",
       "4      000b8d89c738bd.jpg  37c7aba965a5 114207cab555 a6e325d8e924 19fbb96...\n",
       "...                   ...                                                ...\n",
       "27951  fff6ff1989b5cd.jpg  37c7aba965a5 114207cab555 a6e325d8e924 19fbb96...\n",
       "27952  fff8fd932b42cb.jpg  37c7aba965a5 114207cab555 a6e325d8e924 19fbb96...\n",
       "27953  fff96371332c16.jpg  37c7aba965a5 114207cab555 a6e325d8e924 19fbb96...\n",
       "27954  fffc1c4d3eabc7.jpg  37c7aba965a5 114207cab555 a6e325d8e924 19fbb96...\n",
       "27955  fffc50be10c175.jpg  37c7aba965a5 114207cab555 a6e325d8e924 19fbb96...\n",
       "\n",
       "[27956 rows x 2 columns]"
      ]
     },
     "execution_count": 22,
     "metadata": {},
     "output_type": "execute_result"
    }
   ],
   "source": [
    "submission = pd.read_csv('/root/data/sample_submission.csv')\n",
    "submission"
   ]
  },
  {
   "cell_type": "code",
   "execution_count": 24,
   "id": "a2848c2c-4ddb-4e32-9893-1e9c752052b2",
   "metadata": {},
   "outputs": [
    {
     "data": {
      "text/plain": [
       "'37c7aba965a5 114207cab555 a6e325d8e924 19fbb960f07d new_individual'"
      ]
     },
     "execution_count": 24,
     "metadata": {},
     "output_type": "execute_result"
    }
   ],
   "source": [
    "submission.predictions[0]"
   ]
  },
  {
   "cell_type": "markdown",
   "id": "0920b1fb-87a2-4d9a-b51b-76abea5322e6",
   "metadata": {
    "tags": []
   },
   "source": [
    "### 2번 : 트레인데이터에 대한 test추론 후 distance (id) 평균값으로 앙상블"
   ]
  },
  {
   "cell_type": "code",
   "execution_count": 239,
   "id": "a7c3ead4-8c5f-41ae-a64d-488beac08060",
   "metadata": {},
   "outputs": [],
   "source": [
    "neigh = NearestNeighbors(n_neighbors=1, metric='cosine')"
   ]
  },
  {
   "cell_type": "code",
   "execution_count": 240,
   "id": "f2faeb63-aace-4e67-8524-08ff04aad453",
   "metadata": {},
   "outputs": [
    {
     "data": {
      "text/plain": [
       "NearestNeighbors(metric='cosine', n_neighbors=1)"
      ]
     },
     "execution_count": 240,
     "metadata": {},
     "output_type": "execute_result"
    }
   ],
   "source": [
    "neigh.fit(embed_train[full_train_indices])"
   ]
  },
  {
   "cell_type": "code",
   "execution_count": 241,
   "id": "f95b0149-1f54-4d00-8c42-077d3eacd347",
   "metadata": {},
   "outputs": [],
   "source": [
    "# distance1, indices1 = neigh.kneighbors(embed_train[valid_single_indices], n_neighbors=20, return_distance=True) # 80 %에 해당하는 index\n",
    "# distance2, indices2 = neigh.kneighbors(embed_train[valid_others_indices], n_neighbors=20, return_distance=True)"
   ]
  },
  {
   "cell_type": "code",
   "execution_count": 242,
   "id": "5dd2abbb-63e8-4598-9106-23191e76842d",
   "metadata": {},
   "outputs": [
    {
     "data": {
      "text/plain": [
       "array([[22910, 35936, 35343, ...,  7102, 36331,  4311],\n",
       "       [ 1033,   483, 15866, ..., 31474, 20167, 11463],\n",
       "       [15994, 37428, 36043, ...,  3520, 27460,  2768],\n",
       "       ...,\n",
       "       [ 9713, 23743,  3332, ..., 33325, 40153,  1349],\n",
       "       [37664, 11587, 37451, ..., 40783,  8762, 36477],\n",
       "       [25353, 33380, 10885, ..., 11888, 10482, 20591]])"
      ]
     },
     "execution_count": 242,
     "metadata": {},
     "output_type": "execute_result"
    }
   ],
   "source": [
    "indices1 # train중에 가까운 번호"
   ]
  },
  {
   "cell_type": "code",
   "execution_count": 244,
   "id": "b4446229-9de3-41eb-93fa-665b83debc1f",
   "metadata": {
    "collapsed": true,
    "jupyter": {
     "outputs_hidden": true
    },
    "tags": []
   },
   "outputs": [
    {
     "data": {
      "text/html": [
       "<div>\n",
       "<style scoped>\n",
       "    .dataframe tbody tr th:only-of-type {\n",
       "        vertical-align: middle;\n",
       "    }\n",
       "\n",
       "    .dataframe tbody tr th {\n",
       "        vertical-align: top;\n",
       "    }\n",
       "\n",
       "    .dataframe thead th {\n",
       "        text-align: right;\n",
       "    }\n",
       "</style>\n",
       "<table border=\"1\" class=\"dataframe\">\n",
       "  <thead>\n",
       "    <tr style=\"text-align: right;\">\n",
       "      <th></th>\n",
       "      <th>image</th>\n",
       "      <th>species</th>\n",
       "      <th>individual_id</th>\n",
       "    </tr>\n",
       "  </thead>\n",
       "  <tbody>\n",
       "    <tr>\n",
       "      <th>0</th>\n",
       "      <td>00021adfb725ed.jpg</td>\n",
       "      <td>0</td>\n",
       "      <td>0</td>\n",
       "    </tr>\n",
       "    <tr>\n",
       "      <th>1</th>\n",
       "      <td>000562241d384d.jpg</td>\n",
       "      <td>1</td>\n",
       "      <td>1</td>\n",
       "    </tr>\n",
       "    <tr>\n",
       "      <th>2</th>\n",
       "      <td>0007c33415ce37.jpg</td>\n",
       "      <td>2</td>\n",
       "      <td>2</td>\n",
       "    </tr>\n",
       "    <tr>\n",
       "      <th>3</th>\n",
       "      <td>0007d9bca26a99.jpg</td>\n",
       "      <td>3</td>\n",
       "      <td>3</td>\n",
       "    </tr>\n",
       "    <tr>\n",
       "      <th>4</th>\n",
       "      <td>00087baf5cef7a.jpg</td>\n",
       "      <td>1</td>\n",
       "      <td>4</td>\n",
       "    </tr>\n",
       "    <tr>\n",
       "      <th>...</th>\n",
       "      <td>...</td>\n",
       "      <td>...</td>\n",
       "      <td>...</td>\n",
       "    </tr>\n",
       "    <tr>\n",
       "      <th>51028</th>\n",
       "      <td>fff639a7a78b3f.jpg</td>\n",
       "      <td>4</td>\n",
       "      <td>96</td>\n",
       "    </tr>\n",
       "    <tr>\n",
       "      <th>51029</th>\n",
       "      <td>fff8b32daff17e.jpg</td>\n",
       "      <td>17</td>\n",
       "      <td>1482</td>\n",
       "    </tr>\n",
       "    <tr>\n",
       "      <th>51030</th>\n",
       "      <td>fff94675cc1aef.jpg</td>\n",
       "      <td>7</td>\n",
       "      <td>8220</td>\n",
       "    </tr>\n",
       "    <tr>\n",
       "      <th>51031</th>\n",
       "      <td>fffbc5dd642d8c.jpg</td>\n",
       "      <td>4</td>\n",
       "      <td>13202</td>\n",
       "    </tr>\n",
       "    <tr>\n",
       "      <th>51032</th>\n",
       "      <td>fffdcd42312777.jpg</td>\n",
       "      <td>3</td>\n",
       "      <td>1700</td>\n",
       "    </tr>\n",
       "  </tbody>\n",
       "</table>\n",
       "<p>51033 rows × 3 columns</p>\n",
       "</div>"
      ],
      "text/plain": [
       "                    image  species  individual_id\n",
       "0      00021adfb725ed.jpg        0              0\n",
       "1      000562241d384d.jpg        1              1\n",
       "2      0007c33415ce37.jpg        2              2\n",
       "3      0007d9bca26a99.jpg        3              3\n",
       "4      00087baf5cef7a.jpg        1              4\n",
       "...                   ...      ...            ...\n",
       "51028  fff639a7a78b3f.jpg        4             96\n",
       "51029  fff8b32daff17e.jpg       17           1482\n",
       "51030  fff94675cc1aef.jpg        7           8220\n",
       "51031  fffbc5dd642d8c.jpg        4          13202\n",
       "51032  fffdcd42312777.jpg        3           1700\n",
       "\n",
       "[51033 rows x 3 columns]"
      ]
     },
     "execution_count": 244,
     "metadata": {},
     "output_type": "execute_result"
    }
   ],
   "source": [
    "df"
   ]
  },
  {
   "cell_type": "code",
   "execution_count": 249,
   "id": "656b4137-f798-4e2c-8521-b4f11661fb9f",
   "metadata": {},
   "outputs": [
    {
     "data": {
      "text/plain": [
       "(array([    0,     3,     4, ..., 51030, 51031, 51032]), 40826)"
      ]
     },
     "execution_count": 249,
     "metadata": {},
     "output_type": "execute_result"
    }
   ],
   "source": [
    "full_train_indices, len(full_train_indices)"
   ]
  },
  {
   "cell_type": "code",
   "execution_count": 259,
   "id": "625097bf-3a4a-4aa0-8856-2322c3f0505b",
   "metadata": {
    "tags": []
   },
   "outputs": [
    {
     "name": "stdout",
     "output_type": "stream",
     "text": [
      "4 2327\n",
      "4 2327\n",
      "4 2327\n",
      "4 2327\n",
      "4 2327\n",
      "4 2327\n",
      "7 8913\n",
      "7 11962\n",
      "7 4993\n",
      "7 9941\n",
      "7 4993\n",
      "7 15524\n",
      "1 15228\n",
      "7 12323\n",
      "7 4993\n",
      "10 439\n",
      "4 7347\n",
      "10 439\n",
      "10 439\n",
      "7 4558\n"
     ]
    }
   ],
   "source": [
    "\n",
    "for n, (g_i, g_d) in enumerate(zip(indices1, distance1)):\n",
    "    # print(g_i)\n",
    "    if n == 3:\n",
    "        for idx, dis in zip(g_i, g_d):\n",
    "            df_tr = df.iloc[full_train_indices]\n",
    "            spe, ind = df_tr.iloc[idx].species, df_tr.iloc[idx].individual_id\n",
    "            print(spe, ind)\n",
    "    # break"
   ]
  }
 ],
 "metadata": {
  "kernelspec": {
   "display_name": "Python 3",
   "language": "python",
   "name": "python3"
  },
  "language_info": {
   "codemirror_mode": {
    "name": "ipython",
    "version": 3
   },
   "file_extension": ".py",
   "mimetype": "text/x-python",
   "name": "python",
   "nbconvert_exporter": "python",
   "pygments_lexer": "ipython3",
   "version": "3.8.5"
  }
 },
 "nbformat": 4,
 "nbformat_minor": 5
}
