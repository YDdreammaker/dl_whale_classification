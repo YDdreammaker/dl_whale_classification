{
 "cells": [
  {
   "cell_type": "code",
   "execution_count": 1,
   "id": "ad2bfb14-aecd-4f7f-99a5-61c830bec6d9",
   "metadata": {},
   "outputs": [],
   "source": [
    "import os\n",
    "import time\n",
    "import wandb\n",
    "from tqdm.notebook import tqdm\n",
    "from copy import deepcopy\n",
    "\n",
    "import numpy as np\n",
    "import pandas as pd\n",
    "\n",
    "import torch\n",
    "import torch.nn as nn\n",
    "import torch.optim as optim\n",
    "\n",
    "from torch.utils.data import DataLoader\n",
    "\n",
    "from utils import seed_everything\n",
    "from data import ImageDataset, stratified_kfold, get_train_transforms, get_valid_transforms\n",
    "from model import SpecieClassifier\n",
    "from scheduler import CosineAnnealingWarmupRestarts\n",
    "\n",
    "device = torch.device('cuda' if torch.cuda.is_available() else 'cpu')\n",
    "\n",
    "import os\n",
    "os.environ['CUDA_LAUNCH_BLOCKING'] = \"1\"\n",
    "os.environ[\"CUDA_VISIBLE_DEVICES\"] = \"0\""
   ]
  },
  {
   "cell_type": "code",
   "execution_count": 2,
   "id": "c65d0fe7-39de-426c-9184-3a8859536b29",
   "metadata": {},
   "outputs": [],
   "source": [
    "class Config:\n",
    "    checkpoint = '/root/dl_whale_classification/pths_specie'\n",
    "    test = False\n",
    "    tta = False\n",
    "    resume_epoch = 0\n",
    "    iters_to_accumulate = 1\n",
    "    resume_root = None\n",
    "    wandb_log = True\n",
    "    model_name = 'tf_efficientnet_b4_ns'\n",
    "    fold = 0\n",
    "    n_split = 5\n",
    "    seed = 2022\n",
    "    data_dir = '/root/data2/' # root/data/train_images\n",
    "    root_dir = '.'\n",
    "    batch_size = 16\n",
    "    lr = 1e-4\n",
    "    weight_decay = 0.0005\n",
    "    epoch = 20\n",
    "    exp_name = 'test'\n",
    "config = Config()"
   ]
  },
  {
   "cell_type": "code",
   "execution_count": 3,
   "id": "06571d4f-d3ad-491d-85d9-7e29a2cdc7a8",
   "metadata": {},
   "outputs": [],
   "source": [
    "seed_everything(2022)"
   ]
  },
  {
   "cell_type": "code",
   "execution_count": 4,
   "id": "0e40b185-9dba-4f50-ab4c-aae2c79057a9",
   "metadata": {},
   "outputs": [],
   "source": [
    "df = pd.read_csv('/root/data/train.csv')\n",
    "df.species.replace({\"globis\": \"short_finned_pilot_whale\",\n",
    "                  \"pilot_whale\": \"short_finned_pilot_whale\",\n",
    "                  \"kiler_whale\": \"killer_whale\",\n",
    "                  \"bottlenose_dolpin\": \"bottlenose_dolphin\"}, inplace=True)"
   ]
  },
  {
   "cell_type": "code",
   "execution_count": 5,
   "id": "aa7105f7-62c8-4452-8383-d3e4f4e35e3f",
   "metadata": {},
   "outputs": [],
   "source": [
    "specie_unique = df.species.unique()\n",
    "specie_indices = range(len(specie_unique))\n",
    "species2idx = {k: v for k, v in zip(specie_unique, specie_indices)}\n",
    "df.species = df.species.map(species2idx)\n",
    "\n",
    "individual_unique = df.individual_id.unique()\n",
    "individual_indices = range(len(individual_unique))\n",
    "individual2idx = {k : v for k, v in zip(individual_unique, individual_indices)}\n",
    "df.individual_id = df.individual_id.map(individual2idx)"
   ]
  },
  {
   "cell_type": "code",
   "execution_count": 6,
   "id": "f8514e42-a2b2-4b03-9db3-b759ca21bfbe",
   "metadata": {},
   "outputs": [
    {
     "name": "stdout",
     "output_type": "stream",
     "text": [
      "num_species 26\n",
      "num_individual 15587\n"
     ]
    }
   ],
   "source": [
    "print('num_species', len(df.species.unique()))\n",
    "print('num_individual', len(df.individual_id.unique()))\n",
    "      "
   ]
  },
  {
   "cell_type": "code",
   "execution_count": 7,
   "id": "3443e37e-6393-41b0-9bd9-d8d9d92dec91",
   "metadata": {},
   "outputs": [],
   "source": [
    "df_single = df[df['individual_id'].map(df['individual_id'].value_counts()) == 1]\n",
    "df_others = df[df['individual_id'].map(df['individual_id'].value_counts()) > 1]"
   ]
  },
  {
   "cell_type": "code",
   "execution_count": 8,
   "id": "69764e06-5613-4342-bd1c-2ea0a81d7902",
   "metadata": {},
   "outputs": [
    {
     "name": "stderr",
     "output_type": "stream",
     "text": [
      "/opt/conda/lib/python3.8/site-packages/sklearn/model_selection/_split.py:676: UserWarning: The least populated class in y has only 2 members, which is less than n_splits=5.\n",
      "  warnings.warn(\n"
     ]
    }
   ],
   "source": [
    "train_single, valid_single = stratified_kfold(df=df_single, fold=config.fold, n_split=config.n_split, seed=config.seed, target_col='species')\n",
    "train_others, valid_others = stratified_kfold(df=df_others, fold=config.fold, n_split=config.n_split, seed=config.seed, target_col='species')"
   ]
  },
  {
   "cell_type": "code",
   "execution_count": 9,
   "id": "74c399e4-32ac-4e06-b5df-f75984a60242",
   "metadata": {},
   "outputs": [],
   "source": [
    "train_single_indices = np.take(df_single.index.to_numpy(), train_single)    \n",
    "train_others_indices = np.take(df_others.index.to_numpy(), train_others)\n",
    "valid_single_indices = np.take(df_single.index.to_numpy(), valid_single)\n",
    "valid_others_indices = np.take(df_others.index.to_numpy(), valid_others)"
   ]
  },
  {
   "cell_type": "code",
   "execution_count": 10,
   "id": "4e1c2451-587e-43a6-adf8-8e13d96ebf6a",
   "metadata": {},
   "outputs": [],
   "source": [
    "full_train_indices = np.sort(np.concatenate((train_single_indices, train_others_indices), axis=0))"
   ]
  },
  {
   "cell_type": "code",
   "execution_count": 11,
   "id": "fc3fdd46-847f-4acc-b0d5-07ad92e54700",
   "metadata": {},
   "outputs": [],
   "source": [
    "fnames, labels = df['image'].values, df['species'].values"
   ]
  },
  {
   "cell_type": "code",
   "execution_count": 12,
   "id": "1714bad0-69e6-45a8-962e-dffc89f18a15",
   "metadata": {},
   "outputs": [],
   "source": [
    "fnames_train, labels_train = fnames[full_train_indices], labels[full_train_indices]\n",
    "fnames_valid_single, labels_valid_single = fnames[valid_single_indices], labels[valid_single_indices]\n",
    "fnames_valid_others, labels_valid_others = fnames[valid_others_indices], labels[valid_others_indices]"
   ]
  },
  {
   "cell_type": "code",
   "execution_count": 13,
   "id": "3ab3df49-e185-4e39-b2df-29d6ac843506",
   "metadata": {},
   "outputs": [],
   "source": [
    "train_transforms = get_train_transforms()\n",
    "valid_transforms = get_valid_transforms()"
   ]
  },
  {
   "cell_type": "code",
   "execution_count": 14,
   "id": "dd5f73e2-b89a-4271-a6ff-997e734de772",
   "metadata": {},
   "outputs": [],
   "source": [
    "train_dataset = ImageDataset(path=fnames_train, target=labels_train, transform=train_transforms, root=config.data_dir + '/train_detec_512_v3/')\n",
    "valid_dataset_single = ImageDataset(path=fnames_valid_single, target=labels_valid_single, transform=valid_transforms, root=config.data_dir + '/train_detec_512_v3/')\n",
    "valid_dataset_others = ImageDataset(path=fnames_valid_others, target=labels_valid_others, transform=valid_transforms, root=config.data_dir + '/train_detec_512_v3/')"
   ]
  },
  {
   "cell_type": "code",
   "execution_count": 15,
   "id": "bdb8ed2e-9efc-439f-a9df-de843f2cc8f7",
   "metadata": {},
   "outputs": [],
   "source": [
    "train_loader = DataLoader(train_dataset, batch_size=config.batch_size, shuffle=True, num_workers=8, pin_memory=True, drop_last=True)\n",
    "valid_loader_single = DataLoader(valid_dataset_single, batch_size=config.batch_size*2, shuffle=False, num_workers=8, pin_memory=True)\n",
    "valid_loader_others = DataLoader(valid_dataset_others, batch_size=config.batch_size*2, shuffle=False, num_workers=8, pin_memory=True)"
   ]
  },
  {
   "cell_type": "code",
   "execution_count": 16,
   "id": "d0cbe56b-0f00-4d85-ab78-936b282bb113",
   "metadata": {},
   "outputs": [],
   "source": [
    "model = SpecieClassifier(config.model_name).to(device)"
   ]
  },
  {
   "cell_type": "code",
   "execution_count": 17,
   "id": "8bb8e343-3b5d-4014-9f07-d17449e70a37",
   "metadata": {},
   "outputs": [],
   "source": [
    "criterion = nn.CrossEntropyLoss().to(device)\n",
    "optimizer = optim.AdamW(model.parameters(), lr=config.lr, weight_decay=config.weight_decay)"
   ]
  },
  {
   "cell_type": "code",
   "execution_count": 18,
   "id": "3c713a4a-a0bd-41fa-95ca-fe06b49ebf03",
   "metadata": {},
   "outputs": [],
   "source": [
    "cosine_annealing_scheduler_arg = dict(\n",
    "    first_cycle_steps=len(train_dataset)//config.batch_size*config.epoch,\n",
    "    cycle_mult=1.0,\n",
    "    max_lr=config.lr,\n",
    "    min_lr=1e-07,\n",
    "    warmup_steps=len(train_dataset)//config.batch_size*3, # wanrm up 0~3 epoch\n",
    "    gamma=0.9\n",
    ")"
   ]
  },
  {
   "cell_type": "code",
   "execution_count": 19,
   "id": "5c175981-f637-4d08-916d-8f467b362d33",
   "metadata": {},
   "outputs": [],
   "source": [
    "scheduler = CosineAnnealingWarmupRestarts(optimizer, **cosine_annealing_scheduler_arg)"
   ]
  },
  {
   "cell_type": "code",
   "execution_count": 20,
   "id": "d164bb3b-ea0e-473c-a6d2-21d02bd46207",
   "metadata": {},
   "outputs": [
    {
     "name": "stderr",
     "output_type": "stream",
     "text": [
      "Failed to detect the name of this notebook, you can set it manually with the WANDB_NOTEBOOK_NAME environment variable to enable code saving.\n",
      "\u001b[34m\u001b[1mwandb\u001b[0m: Currently logged in as: \u001b[33mjcdata\u001b[0m (use `wandb login --relogin` to force relogin)\n"
     ]
    },
    {
     "data": {
      "text/html": [
       "Tracking run with wandb version 0.12.11"
      ],
      "text/plain": [
       "<IPython.core.display.HTML object>"
      ]
     },
     "metadata": {},
     "output_type": "display_data"
    },
    {
     "data": {
      "text/html": [
       "Run data is saved locally in <code>/root/dl_whale_classification/wandb/run-20220329_232039-2k2mfdl3</code>"
      ],
      "text/plain": [
       "<IPython.core.display.HTML object>"
      ]
     },
     "metadata": {},
     "output_type": "display_data"
    },
    {
     "data": {
      "text/html": [
       "Syncing run <strong><a href=\"https://wandb.ai/jcdata/tf_efficientnet_b3_ns/runs/2k2mfdl3\" target=\"_blank\">test_fold0</a></strong> to <a href=\"https://wandb.ai/jcdata/tf_efficientnet_b3_ns\" target=\"_blank\">Weights & Biases</a> (<a href=\"https://wandb.me/run\" target=\"_blank\">docs</a>)<br/>"
      ],
      "text/plain": [
       "<IPython.core.display.HTML object>"
      ]
     },
     "metadata": {},
     "output_type": "display_data"
    }
   ],
   "source": [
    "if config.wandb_log:\n",
    "    run = wandb.init(config=config.__dict__,\n",
    "                project=config.model_name, \n",
    "                settings=wandb.Settings(start_method=\"thread\"), \n",
    "                name=f\"{config.exp_name}_fold{config.fold}\",\n",
    "                reinit=True)"
   ]
  },
  {
   "cell_type": "code",
   "execution_count": 21,
   "id": "6f875601-e1c9-4ffe-bf3c-b01011f75850",
   "metadata": {},
   "outputs": [],
   "source": [
    "grad_scaler = torch.cuda.amp.GradScaler()\n",
    "\n",
    "best_model = None\n",
    "best_acc,  best_epoch = 0, 0"
   ]
  },
  {
   "cell_type": "code",
   "execution_count": 22,
   "id": "abc5d5c2-b1ad-4eca-988b-70c766f38132",
   "metadata": {},
   "outputs": [],
   "source": [
    "if config.resume_root is not None:\n",
    "    check = torch.load(config.resume_root)\n",
    "    model.load_state_dict(check['model'])\n",
    "    optimizer.load_state_dict(check['optimizer'])\n",
    "    scheduler.load_state_dict(check['scheduler'])\n",
    "    print('loaded checkpoint')"
   ]
  },
  {
   "cell_type": "markdown",
   "id": "97e0f98d-5368-42e8-92b2-574f8dddbe62",
   "metadata": {},
   "source": [
    "# Train Functions"
   ]
  },
  {
   "cell_type": "code",
   "execution_count": 23,
   "id": "a4f0c62e-842f-49b5-b5bd-f45ece5a66b4",
   "metadata": {},
   "outputs": [],
   "source": [
    "def train_one_epoch(model, optimizer, criterion, loader, scheduler, scaler=None, iters_to_accumulate=1):\n",
    "    model.train()\n",
    "    \n",
    "    match = 0\n",
    "    top_k_match = 0\n",
    "    \n",
    "    losses, y_true, y_pred = [], [], []\n",
    "    for i, (x, y) in enumerate(tqdm(loader)):\n",
    "        x, y = x.to(device), y.to(device)\n",
    "        \n",
    "        if scaler is not None:\n",
    "            with torch.cuda.amp.autocast():\n",
    "                output = model(x) \n",
    "                loss = criterion(output, y)\n",
    "                \n",
    "            scaler.scale(loss).backward()\n",
    "\n",
    "            if ((i + 1) % iters_to_accumulate == 0) or ((i + 1) == len(loader)):\n",
    "                scaler.step(optimizer)\n",
    "                scaler.update()\n",
    "                optimizer.zero_grad()\n",
    "        \n",
    "\n",
    "        else:\n",
    "            output = model(x, y) \n",
    "            loss = criterion(output, y)\n",
    "\n",
    "            optimizer.zero_grad()\n",
    "            loss.backward()\n",
    "            optimizer.step()\n",
    "        \n",
    "        match += (torch.argmax(output.detach().cpu(), dim=-1) == y.detach().cpu()).sum()\n",
    "        top_k_match += (output.detach().topk(2, dim=-1).indices.cpu() == y.detach().cpu()[:, None]).sum()\n",
    "        scheduler.step()\n",
    "\n",
    "        losses.append(loss.detach().cpu().item())\n",
    "        # if i == 10:\n",
    "        #     break\n",
    "        \n",
    "    return np.mean(losses), match, top_k_match\n"
   ]
  },
  {
   "cell_type": "code",
   "execution_count": 24,
   "id": "1295dffa-6bd4-4400-b7d5-6cbe2d8aa532",
   "metadata": {},
   "outputs": [],
   "source": [
    "def valid_one_epoch(model, criterion, loader, tta=False):\n",
    "    model.eval()\n",
    "    \n",
    "    match = 0\n",
    "    top_k_match = 0\n",
    "\n",
    "    losses, y_trues, y_preds, tta_embed = [], [], [], []\n",
    "    with torch.no_grad():\n",
    "        for idx, (x, y) in tqdm(enumerate(loader)):\n",
    "            x, y = x.to(device), y.to(device)\n",
    "            with torch.cuda.amp.autocast():\n",
    "                output = model(x) \n",
    "                loss = criterion(output, y)\n",
    "  \n",
    "            match += (torch.argmax(output.detach().cpu(), dim=-1) == y.detach().cpu()).sum()\n",
    "            top_k_match += (output.detach().topk(2, dim=-1).indices.cpu() == y.detach().cpu()[:, None]).sum()\n",
    "            losses.append(loss.detach().cpu().item())\n",
    "            \n",
    "            y_preds.extend(np.argmax(output.detach().cpu().numpy(), axis=-1))\n",
    "            y_trues.extend(y.detach().cpu().numpy())\n",
    "            \n",
    "    return np.mean(losses), match, top_k_match, np.array(y_preds), np.array(y_trues)"
   ]
  },
  {
   "cell_type": "markdown",
   "id": "0a645c01-6050-4ed7-9b91-abcbe45121a5",
   "metadata": {
    "tags": []
   },
   "source": [
    "# Train"
   ]
  },
  {
   "cell_type": "code",
   "execution_count": 25,
   "id": "64ac3fb1-cb07-4a61-aeac-ef7f72fbcc96",
   "metadata": {
    "tags": []
   },
   "outputs": [
    {
     "name": "stdout",
     "output_type": "stream",
     "text": [
      "Start Training\n",
      "epoch: 0\n"
     ]
    },
    {
     "data": {
      "application/vnd.jupyter.widget-view+json": {
       "model_id": "502c931472ec46679989483c15a0acce",
       "version_major": 2,
       "version_minor": 0
      },
      "text/plain": [
       "HBox(children=(HTML(value=''), FloatProgress(value=0.0, max=2551.0), HTML(value='')))"
      ]
     },
     "metadata": {},
     "output_type": "display_data"
    },
    {
     "name": "stdout",
     "output_type": "stream",
     "text": [
      "\n"
     ]
    },
    {
     "data": {
      "application/vnd.jupyter.widget-view+json": {
       "model_id": "9ceda1f1228a48cfab0af197c8bcc08b",
       "version_major": 2,
       "version_minor": 0
      },
      "text/plain": [
       "HBox(children=(HTML(value=''), FloatProgress(value=1.0, bar_style='info', layout=Layout(width='20px'), max=1.0…"
      ]
     },
     "metadata": {},
     "output_type": "display_data"
    },
    {
     "name": "stdout",
     "output_type": "stream",
     "text": [
      "\n"
     ]
    },
    {
     "data": {
      "application/vnd.jupyter.widget-view+json": {
       "model_id": "354dcd31ea37457c85c344fc32df9bc1",
       "version_major": 2,
       "version_minor": 0
      },
      "text/plain": [
       "HBox(children=(HTML(value=''), FloatProgress(value=1.0, bar_style='info', layout=Layout(width='20px'), max=1.0…"
      ]
     },
     "metadata": {},
     "output_type": "display_data"
    },
    {
     "name": "stdout",
     "output_type": "stream",
     "text": [
      "\n",
      "train loss 1.4549 acc 25190.0000 topk 29005.0000\n",
      "valid loss (single) 0.3428 acc 0.9001 topk 0.9460\n",
      "valid loss (others) 0.2230 acc 0.9363 topk 0.9672\n",
      "lr 1e-07 time 4407.69s\n",
      "-------------------- class (single) --------------------\n",
      "00-#0228 : 0.978070 / 01-#0370 : 0.986486 / 02-#0008 : 0.750000 / 03-#0051 : 0.960784 / \n",
      "04-#0052 : 1.000000 / 05-#0007 : 0.857143 / 06-#0062 : 0.887097 / 07-#0185 : 0.962162 / \n",
      "08-#0011 : 1.000000 / 09-#0061 : 0.983607 / 10-#0002 : 0.000000 / 11-#0031 : 0.741935 / \n",
      "12-#0045 : 0.577778 / 13-#0492 : 0.989837 / 14-#0012 : 0.000000 / 15-#0017 : 0.941176 / \n",
      "16-#0104 : 0.951923 / 17-#0021 : 0.190476 / 18-#0036 : 0.194444 / 19-#0004 : 0.000000 / \n",
      "20-#0010 : 0.000000 / 21-#0027 : 0.000000 / 22-#0007 : 0.000000 / 23-#0005 : 0.000000 / \n",
      "24-#0002 : 0.000000 / 25-#0002 : 0.000000 / \n",
      "-------------------- class (others) --------------------\n",
      "00-#0111 : 0.954955 / 01-#1109 : 0.971145 / 02-#0657 : 0.955860 / 03-#2105 : 0.981473 / \n",
      "04-#1436 : 0.997214 / 05-#0315 : 0.955556 / 06-#0203 : 0.886700 / 07-#0781 : 0.984635 / \n",
      "08-#0214 : 0.953271 / 09-#0111 : 1.000000 / 10-#0068 : 0.000000 / 11-#0460 : 0.943478 / \n",
      "12-#0105 : 0.771429 / 13-#0136 : 0.985294 / 14-#0035 : 0.000000 / 15-#0069 : 0.956522 / \n",
      "16-#0237 : 0.953586 / 17-#0046 : 0.108696 / 18-#0061 : 0.049180 / 19-#0027 : 0.000000 / \n",
      "20-#0008 : 0.000000 / 21-#0018 : 0.000000 / 22-#0005 : 0.000000 / 23-#0024 : 0.000000 / \n",
      "24-#0014 : 0.000000 / 25-#0000 : 0nan / \n",
      "best acc updated 0.9363255500793457\n"
     ]
    },
    {
     "name": "stderr",
     "output_type": "stream",
     "text": [
      "<ipython-input-25-bffddad4bef7>:25: RuntimeWarning: invalid value encountered in long_scalars\n",
      "  print(f\"{i:02d}-#{(valid_trues2==i).sum():04d} : {((valid_preds2==i)&(valid_trues2==i)).sum()/(valid_trues2==i).sum():04f}\", end=' / ')\n"
     ]
    },
    {
     "name": "stdout",
     "output_type": "stream",
     "text": [
      "epoch: 1\n"
     ]
    },
    {
     "data": {
      "application/vnd.jupyter.widget-view+json": {
       "model_id": "c10b12a8b1d045108a181d0535b225fb",
       "version_major": 2,
       "version_minor": 0
      },
      "text/plain": [
       "HBox(children=(HTML(value=''), FloatProgress(value=0.0, max=2551.0), HTML(value='')))"
      ]
     },
     "metadata": {},
     "output_type": "display_data"
    },
    {
     "name": "stdout",
     "output_type": "stream",
     "text": [
      "\n"
     ]
    },
    {
     "data": {
      "application/vnd.jupyter.widget-view+json": {
       "model_id": "431e1d7b2d404d28ae0e6d687293c1f4",
       "version_major": 2,
       "version_minor": 0
      },
      "text/plain": [
       "HBox(children=(HTML(value=''), FloatProgress(value=1.0, bar_style='info', layout=Layout(width='20px'), max=1.0…"
      ]
     },
     "metadata": {},
     "output_type": "display_data"
    },
    {
     "name": "stdout",
     "output_type": "stream",
     "text": [
      "\n"
     ]
    },
    {
     "data": {
      "application/vnd.jupyter.widget-view+json": {
       "model_id": "b2e9da400a964241a2a0bea8e79d0033",
       "version_major": 2,
       "version_minor": 0
      },
      "text/plain": [
       "HBox(children=(HTML(value=''), FloatProgress(value=1.0, bar_style='info', layout=Layout(width='20px'), max=1.0…"
      ]
     },
     "metadata": {},
     "output_type": "display_data"
    },
    {
     "name": "stdout",
     "output_type": "stream",
     "text": [
      "\n",
      "train loss 0.2206 acc 38204.0000 topk 39726.0000\n",
      "valid loss (single) 0.1216 acc 0.9633 topk 0.9870\n",
      "valid loss (others) 0.0827 acc 0.9767 topk 0.9913\n",
      "lr 3.34e-05 time 10763.45s\n",
      "-------------------- class (single) --------------------\n",
      "00-#0228 : 0.995614 / 01-#0370 : 0.983784 / 02-#0008 : 0.625000 / 03-#0051 : 0.901961 / \n",
      "04-#0052 : 1.000000 / 05-#0007 : 1.000000 / 06-#0062 : 0.919355 / 07-#0185 : 0.994595 / \n",
      "08-#0011 : 1.000000 / 09-#0061 : 1.000000 / 10-#0002 : 1.000000 / 11-#0031 : 0.935484 / \n",
      "12-#0045 : 0.866667 / 13-#0492 : 0.993902 / 14-#0012 : 0.833333 / 15-#0017 : 1.000000 / \n",
      "16-#0104 : 0.951923 / 17-#0021 : 0.857143 / 18-#0036 : 0.888889 / 19-#0004 : 0.250000 / \n",
      "20-#0010 : 0.600000 / 21-#0027 : 1.000000 / 22-#0007 : 0.000000 / 23-#0005 : 0.200000 / \n",
      "24-#0002 : 0.000000 / 25-#0002 : 0.000000 / \n",
      "-------------------- class (others) --------------------\n",
      "00-#0111 : 0.954955 / 01-#1109 : 0.981064 / 02-#0657 : 0.969559 / 03-#2105 : 0.988124 / \n",
      "04-#1436 : 0.996518 / 05-#0315 : 0.974603 / 06-#0203 : 0.955665 / 07-#0781 : 0.984635 / \n",
      "08-#0214 : 0.981308 / 09-#0111 : 1.000000 / 10-#0068 : 0.911765 / 11-#0460 : 0.991304 / \n",
      "12-#0105 : 0.914286 / 13-#0136 : 0.985294 / 14-#0035 : 0.971429 / 15-#0069 : 1.000000 / \n",
      "16-#0237 : 0.983122 / 17-#0046 : 0.891304 / 18-#0061 : 0.950820 / 19-#0027 : 0.555556 / \n",
      "20-#0008 : 1.000000 / 21-#0018 : 1.000000 / 22-#0005 : 0.000000 / 23-#0024 : 0.125000 / \n",
      "24-#0014 : 0.000000 / 25-#0000 : 0nan / \n",
      "best acc updated 0.9766606688499451\n",
      "epoch: 2\n"
     ]
    },
    {
     "data": {
      "application/vnd.jupyter.widget-view+json": {
       "model_id": "47c862801ca04b3ab847155d8332d2ae",
       "version_major": 2,
       "version_minor": 0
      },
      "text/plain": [
       "HBox(children=(HTML(value=''), FloatProgress(value=0.0, max=2551.0), HTML(value='')))"
      ]
     },
     "metadata": {},
     "output_type": "display_data"
    },
    {
     "name": "stdout",
     "output_type": "stream",
     "text": [
      "\n"
     ]
    },
    {
     "data": {
      "application/vnd.jupyter.widget-view+json": {
       "model_id": "cc6a2469021d497d887adaa47ff12d8a",
       "version_major": 2,
       "version_minor": 0
      },
      "text/plain": [
       "HBox(children=(HTML(value=''), FloatProgress(value=1.0, bar_style='info', layout=Layout(width='20px'), max=1.0…"
      ]
     },
     "metadata": {},
     "output_type": "display_data"
    },
    {
     "name": "stdout",
     "output_type": "stream",
     "text": [
      "\n"
     ]
    },
    {
     "data": {
      "application/vnd.jupyter.widget-view+json": {
       "model_id": "d49e60f7cec7404e9477ca13ed8ff7fe",
       "version_major": 2,
       "version_minor": 0
      },
      "text/plain": [
       "HBox(children=(HTML(value=''), FloatProgress(value=1.0, bar_style='info', layout=Layout(width='20px'), max=1.0…"
      ]
     },
     "metadata": {},
     "output_type": "display_data"
    },
    {
     "name": "stdout",
     "output_type": "stream",
     "text": [
      "\n",
      "train loss 0.1193 acc 39372.0000 topk 40272.0000\n",
      "valid loss (single) 0.1043 acc 0.9676 topk 0.9892\n",
      "valid loss (others) 0.0729 acc 0.9785 topk 0.9937\n",
      "lr 6.67e-05 time 15833.49s\n",
      "-------------------- class (single) --------------------\n",
      "00-#0228 : 1.000000 / 01-#0370 : 0.997297 / 02-#0008 : 0.875000 / 03-#0051 : 0.862745 / \n",
      "04-#0052 : 1.000000 / 05-#0007 : 1.000000 / 06-#0062 : 0.951613 / 07-#0185 : 0.989189 / \n",
      "08-#0011 : 1.000000 / 09-#0061 : 1.000000 / 10-#0002 : 1.000000 / 11-#0031 : 1.000000 / \n",
      "12-#0045 : 0.555556 / 13-#0492 : 0.995935 / 14-#0012 : 0.750000 / 15-#0017 : 1.000000 / \n",
      "16-#0104 : 0.971154 / 17-#0021 : 0.809524 / 18-#0036 : 1.000000 / 19-#0004 : 0.500000 / \n",
      "20-#0010 : 1.000000 / 21-#0027 : 1.000000 / 22-#0007 : 0.285714 / 23-#0005 : 0.400000 / \n",
      "24-#0002 : 0.000000 / 25-#0002 : 0.000000 / \n",
      "-------------------- class (others) --------------------\n",
      "00-#0111 : 0.972973 / 01-#1109 : 0.986474 / 02-#0657 : 0.981735 / 03-#2105 : 0.984798 / \n",
      "04-#1436 : 0.998607 / 05-#0315 : 0.980952 / 06-#0203 : 0.960591 / 07-#0781 : 0.982074 / \n",
      "08-#0214 : 0.985981 / 09-#0111 : 1.000000 / 10-#0068 : 0.970588 / 11-#0460 : 0.980435 / \n",
      "12-#0105 : 0.809524 / 13-#0136 : 0.992647 / 14-#0035 : 0.971429 / 15-#0069 : 1.000000 / \n",
      "16-#0237 : 0.962025 / 17-#0046 : 0.826087 / 18-#0061 : 0.983607 / 19-#0027 : 0.740741 / \n",
      "20-#0008 : 1.000000 / 21-#0018 : 1.000000 / 22-#0005 : 0.200000 / 23-#0024 : 0.625000 / \n",
      "24-#0014 : 0.000000 / 25-#0000 : 0nan / \n",
      "best acc updated 0.9784560203552246\n",
      "epoch: 3\n"
     ]
    },
    {
     "data": {
      "application/vnd.jupyter.widget-view+json": {
       "model_id": "5b1e03c01b7248f4a278c1ebc2a3fe48",
       "version_major": 2,
       "version_minor": 0
      },
      "text/plain": [
       "HBox(children=(HTML(value=''), FloatProgress(value=0.0, max=2551.0), HTML(value='')))"
      ]
     },
     "metadata": {},
     "output_type": "display_data"
    },
    {
     "name": "stdout",
     "output_type": "stream",
     "text": [
      "\n"
     ]
    },
    {
     "data": {
      "application/vnd.jupyter.widget-view+json": {
       "model_id": "08f845420111474894fec8a854e5e5f6",
       "version_major": 2,
       "version_minor": 0
      },
      "text/plain": [
       "HBox(children=(HTML(value=''), FloatProgress(value=1.0, bar_style='info', layout=Layout(width='20px'), max=1.0…"
      ]
     },
     "metadata": {},
     "output_type": "display_data"
    },
    {
     "name": "stdout",
     "output_type": "stream",
     "text": [
      "\n"
     ]
    },
    {
     "data": {
      "application/vnd.jupyter.widget-view+json": {
       "model_id": "2729d64fd5504d258ccf97588089ea04",
       "version_major": 2,
       "version_minor": 0
      },
      "text/plain": [
       "HBox(children=(HTML(value=''), FloatProgress(value=1.0, bar_style='info', layout=Layout(width='20px'), max=1.0…"
      ]
     },
     "metadata": {},
     "output_type": "display_data"
    },
    {
     "name": "stdout",
     "output_type": "stream",
     "text": [
      "\n",
      "train loss 0.0871 acc 39721.0000 topk 40454.0000\n",
      "valid loss (single) 0.0780 acc 0.9789 topk 0.9941\n",
      "valid loss (others) 0.0545 acc 0.9866 topk 0.9964\n",
      "lr 0.0001 time 18644.95s\n",
      "-------------------- class (single) --------------------\n",
      "00-#0228 : 0.951754 / 01-#0370 : 0.997297 / 02-#0008 : 0.625000 / 03-#0051 : 0.960784 / \n",
      "04-#0052 : 1.000000 / 05-#0007 : 0.857143 / 06-#0062 : 0.983871 / 07-#0185 : 1.000000 / \n",
      "08-#0011 : 1.000000 / 09-#0061 : 1.000000 / 10-#0002 : 1.000000 / 11-#0031 : 1.000000 / \n",
      "12-#0045 : 0.933333 / 13-#0492 : 0.995935 / 14-#0012 : 0.916667 / 15-#0017 : 1.000000 / \n",
      "16-#0104 : 0.980769 / 17-#0021 : 0.904762 / 18-#0036 : 1.000000 / 19-#0004 : 0.500000 / \n",
      "20-#0010 : 1.000000 / 21-#0027 : 1.000000 / 22-#0007 : 0.428571 / 23-#0005 : 0.800000 / \n",
      "24-#0002 : 0.500000 / 25-#0002 : 0.000000 / \n",
      "-------------------- class (others) --------------------\n",
      "00-#0111 : 0.936937 / 01-#1109 : 0.987376 / 02-#0657 : 0.984779 / 03-#2105 : 0.996200 / \n",
      "04-#1436 : 0.996518 / 05-#0315 : 0.977778 / 06-#0203 : 0.980296 / 07-#0781 : 0.992318 / \n",
      "08-#0214 : 0.976636 / 09-#0111 : 1.000000 / 10-#0068 : 0.955882 / 11-#0460 : 0.986957 / \n",
      "12-#0105 : 0.971429 / 13-#0136 : 0.985294 / 14-#0035 : 0.885714 / 15-#0069 : 0.985507 / \n",
      "16-#0237 : 0.983122 / 17-#0046 : 0.891304 / 18-#0061 : 0.967213 / 19-#0027 : 0.925926 / \n",
      "20-#0008 : 1.000000 / 21-#0018 : 1.000000 / 22-#0005 : 0.200000 / 23-#0024 : 0.958333 / \n",
      "24-#0014 : 0.357143 / 25-#0000 : 0nan / \n",
      "best acc updated 0.9865948557853699\n",
      "epoch: 4\n"
     ]
    },
    {
     "data": {
      "application/vnd.jupyter.widget-view+json": {
       "model_id": "9b74c496bf9842d3ad649d637fffcff5",
       "version_major": 2,
       "version_minor": 0
      },
      "text/plain": [
       "HBox(children=(HTML(value=''), FloatProgress(value=0.0, max=2551.0), HTML(value='')))"
      ]
     },
     "metadata": {},
     "output_type": "display_data"
    },
    {
     "name": "stdout",
     "output_type": "stream",
     "text": [
      "\n"
     ]
    },
    {
     "data": {
      "application/vnd.jupyter.widget-view+json": {
       "model_id": "e72fba50919047bfad3868861fe08ae1",
       "version_major": 2,
       "version_minor": 0
      },
      "text/plain": [
       "HBox(children=(HTML(value=''), FloatProgress(value=1.0, bar_style='info', layout=Layout(width='20px'), max=1.0…"
      ]
     },
     "metadata": {},
     "output_type": "display_data"
    },
    {
     "name": "stdout",
     "output_type": "stream",
     "text": [
      "\n"
     ]
    },
    {
     "data": {
      "application/vnd.jupyter.widget-view+json": {
       "model_id": "44dfdd7dbeeb4f7b8e9f7f71484bc2fc",
       "version_major": 2,
       "version_minor": 0
      },
      "text/plain": [
       "HBox(children=(HTML(value=''), FloatProgress(value=1.0, bar_style='info', layout=Layout(width='20px'), max=1.0…"
      ]
     },
     "metadata": {},
     "output_type": "display_data"
    },
    {
     "name": "stdout",
     "output_type": "stream",
     "text": [
      "\n",
      "train loss 0.0639 acc 39991.0000 topk 40592.0000\n",
      "valid loss (single) 0.0715 acc 0.9789 topk 0.9951\n",
      "valid loss (others) 0.0587 acc 0.9834 topk 0.9966\n",
      "lr 9.914950632921091e-05 time 21113.00s\n",
      "-------------------- class (single) --------------------\n",
      "00-#0228 : 0.973684 / 01-#0370 : 0.989189 / 02-#0008 : 0.875000 / 03-#0051 : 0.941176 / \n",
      "04-#0052 : 1.000000 / 05-#0007 : 1.000000 / 06-#0062 : 0.967742 / 07-#0185 : 0.994595 / \n",
      "08-#0011 : 1.000000 / 09-#0061 : 1.000000 / 10-#0002 : 1.000000 / 11-#0031 : 1.000000 / \n",
      "12-#0045 : 0.933333 / 13-#0492 : 0.993902 / 14-#0012 : 1.000000 / 15-#0017 : 0.882353 / \n",
      "16-#0104 : 0.961538 / 17-#0021 : 0.904762 / 18-#0036 : 0.972222 / 19-#0004 : 0.250000 / \n",
      "20-#0010 : 1.000000 / 21-#0027 : 1.000000 / 22-#0007 : 0.857143 / 23-#0005 : 0.800000 / \n",
      "24-#0002 : 1.000000 / 25-#0002 : 0.000000 / \n",
      "-------------------- class (others) --------------------\n",
      "00-#0111 : 0.954955 / 01-#1109 : 0.981064 / 02-#0657 : 0.958904 / 03-#2105 : 0.993824 / \n",
      "04-#1436 : 0.997911 / 05-#0315 : 0.996825 / 06-#0203 : 1.000000 / 07-#0781 : 0.994878 / \n",
      "08-#0214 : 0.985981 / 09-#0111 : 1.000000 / 10-#0068 : 0.897059 / 11-#0460 : 0.980435 / \n",
      "12-#0105 : 0.942857 / 13-#0136 : 0.992647 / 14-#0035 : 0.971429 / 15-#0069 : 0.956522 / \n",
      "16-#0237 : 0.966245 / 17-#0046 : 0.782609 / 18-#0061 : 0.967213 / 19-#0027 : 0.925926 / \n",
      "20-#0008 : 1.000000 / 21-#0018 : 1.000000 / 22-#0005 : 0.600000 / 23-#0024 : 0.875000 / \n",
      "24-#0014 : 0.428571 / 25-#0000 : 0nan / \n",
      "epoch: 5\n"
     ]
    },
    {
     "data": {
      "application/vnd.jupyter.widget-view+json": {
       "model_id": "69aa5fb20f164434ac62558883dd034b",
       "version_major": 2,
       "version_minor": 0
      },
      "text/plain": [
       "HBox(children=(HTML(value=''), FloatProgress(value=0.0, max=2551.0), HTML(value='')))"
      ]
     },
     "metadata": {},
     "output_type": "display_data"
    },
    {
     "name": "stdout",
     "output_type": "stream",
     "text": [
      "\n"
     ]
    },
    {
     "data": {
      "application/vnd.jupyter.widget-view+json": {
       "model_id": "f40ec33c728b4079890efba51a7a7791",
       "version_major": 2,
       "version_minor": 0
      },
      "text/plain": [
       "HBox(children=(HTML(value=''), FloatProgress(value=1.0, bar_style='info', layout=Layout(width='20px'), max=1.0…"
      ]
     },
     "metadata": {},
     "output_type": "display_data"
    },
    {
     "name": "stdout",
     "output_type": "stream",
     "text": [
      "\n"
     ]
    },
    {
     "data": {
      "application/vnd.jupyter.widget-view+json": {
       "model_id": "ed7e11c29a3e41c9a289d8dc4cee778c",
       "version_major": 2,
       "version_minor": 0
      },
      "text/plain": [
       "HBox(children=(HTML(value=''), FloatProgress(value=1.0, bar_style='info', layout=Layout(width='20px'), max=1.0…"
      ]
     },
     "metadata": {},
     "output_type": "display_data"
    },
    {
     "name": "stdout",
     "output_type": "stream",
     "text": [
      "\n",
      "train loss 0.0484 acc 40169.0000 topk 40654.0000\n",
      "valid loss (single) 0.0701 acc 0.9789 topk 0.9968\n",
      "valid loss (others) 0.0449 acc 0.9882 topk 0.9968\n",
      "lr 9.662698785874757e-05 time 23660.96s\n",
      "-------------------- class (single) --------------------\n",
      "00-#0228 : 0.964912 / 01-#0370 : 0.994595 / 02-#0008 : 0.625000 / 03-#0051 : 0.980392 / \n",
      "04-#0052 : 1.000000 / 05-#0007 : 1.000000 / 06-#0062 : 0.983871 / 07-#0185 : 0.989189 / \n",
      "08-#0011 : 1.000000 / 09-#0061 : 1.000000 / 10-#0002 : 1.000000 / 11-#0031 : 0.967742 / \n",
      "12-#0045 : 0.911111 / 13-#0492 : 0.997967 / 14-#0012 : 0.916667 / 15-#0017 : 0.941176 / \n",
      "16-#0104 : 0.990385 / 17-#0021 : 0.904762 / 18-#0036 : 0.916667 / 19-#0004 : 1.000000 / \n",
      "20-#0010 : 0.900000 / 21-#0027 : 1.000000 / 22-#0007 : 0.857143 / 23-#0005 : 0.200000 / \n",
      "24-#0002 : 1.000000 / 25-#0002 : 0.000000 / \n",
      "-------------------- class (others) --------------------\n",
      "00-#0111 : 0.945946 / 01-#1109 : 0.990081 / 02-#0657 : 0.989346 / 03-#2105 : 0.996200 / \n",
      "04-#1436 : 0.997214 / 05-#0315 : 0.987302 / 06-#0203 : 0.980296 / 07-#0781 : 0.992318 / \n",
      "08-#0214 : 0.990654 / 09-#0111 : 1.000000 / 10-#0068 : 0.926471 / 11-#0460 : 0.984783 / \n",
      "12-#0105 : 0.990476 / 13-#0136 : 1.000000 / 14-#0035 : 0.971429 / 15-#0069 : 1.000000 / \n",
      "16-#0237 : 0.970464 / 17-#0046 : 0.913043 / 18-#0061 : 0.950820 / 19-#0027 : 0.925926 / \n",
      "20-#0008 : 1.000000 / 21-#0018 : 1.000000 / 22-#0005 : 0.200000 / 23-#0024 : 0.625000 / \n",
      "24-#0014 : 0.714286 / 25-#0000 : 0nan / \n",
      "best acc updated 0.9881508350372314\n",
      "epoch: 6\n"
     ]
    },
    {
     "data": {
      "application/vnd.jupyter.widget-view+json": {
       "model_id": "7395ee5416bd4f43976bfe5332627459",
       "version_major": 2,
       "version_minor": 0
      },
      "text/plain": [
       "HBox(children=(HTML(value=''), FloatProgress(value=0.0, max=2551.0), HTML(value='')))"
      ]
     },
     "metadata": {},
     "output_type": "display_data"
    },
    {
     "name": "stdout",
     "output_type": "stream",
     "text": [
      "\n"
     ]
    },
    {
     "data": {
      "application/vnd.jupyter.widget-view+json": {
       "model_id": "219627103f554aa3a45305a23bdba0cb",
       "version_major": 2,
       "version_minor": 0
      },
      "text/plain": [
       "HBox(children=(HTML(value=''), FloatProgress(value=1.0, bar_style='info', layout=Layout(width='20px'), max=1.0…"
      ]
     },
     "metadata": {},
     "output_type": "display_data"
    },
    {
     "name": "stdout",
     "output_type": "stream",
     "text": [
      "\n"
     ]
    },
    {
     "data": {
      "application/vnd.jupyter.widget-view+json": {
       "model_id": "6da0bda7f515482a8af244a5878a10bc",
       "version_major": 2,
       "version_minor": 0
      },
      "text/plain": [
       "HBox(children=(HTML(value=''), FloatProgress(value=1.0, bar_style='info', layout=Layout(width='20px'), max=1.0…"
      ]
     },
     "metadata": {},
     "output_type": "display_data"
    },
    {
     "name": "stdout",
     "output_type": "stream",
     "text": [
      "\n",
      "train loss 0.0370 acc 40333.0000 topk 40715.0000\n",
      "valid loss (single) 0.0453 acc 0.9865 topk 0.9968\n",
      "valid loss (others) 0.0559 acc 0.9878 topk 0.9964\n",
      "lr 9.251834592969423e-05 time 26192.43s\n",
      "-------------------- class (single) --------------------\n",
      "00-#0228 : 0.995614 / 01-#0370 : 0.997297 / 02-#0008 : 0.625000 / 03-#0051 : 0.960784 / \n",
      "04-#0052 : 1.000000 / 05-#0007 : 1.000000 / 06-#0062 : 0.967742 / 07-#0185 : 0.994595 / \n",
      "08-#0011 : 1.000000 / 09-#0061 : 1.000000 / 10-#0002 : 1.000000 / 11-#0031 : 1.000000 / \n",
      "12-#0045 : 0.977778 / 13-#0492 : 0.997967 / 14-#0012 : 0.833333 / 15-#0017 : 1.000000 / \n",
      "16-#0104 : 0.990385 / 17-#0021 : 0.952381 / 18-#0036 : 1.000000 / 19-#0004 : 1.000000 / \n",
      "20-#0010 : 1.000000 / 21-#0027 : 1.000000 / 22-#0007 : 0.857143 / 23-#0005 : 0.200000 / \n",
      "24-#0002 : 0.000000 / 25-#0002 : 0.000000 / \n",
      "-------------------- class (others) --------------------\n",
      "00-#0111 : 0.990991 / 01-#1109 : 0.992786 / 02-#0657 : 0.957382 / 03-#2105 : 0.992874 / \n",
      "04-#1436 : 0.999304 / 05-#0315 : 0.984127 / 06-#0203 : 0.975369 / 07-#0781 : 0.992318 / \n",
      "08-#0214 : 0.990654 / 09-#0111 : 1.000000 / 10-#0068 : 0.911765 / 11-#0460 : 0.989130 / \n",
      "12-#0105 : 1.000000 / 13-#0136 : 1.000000 / 14-#0035 : 0.914286 / 15-#0069 : 1.000000 / \n",
      "16-#0237 : 0.995781 / 17-#0046 : 0.934783 / 18-#0061 : 0.983607 / 19-#0027 : 1.000000 / \n",
      "20-#0008 : 1.000000 / 21-#0018 : 1.000000 / 22-#0005 : 0.200000 / 23-#0024 : 0.750000 / \n",
      "24-#0014 : 0.857143 / 25-#0000 : 0nan / \n",
      "epoch: 7\n"
     ]
    },
    {
     "data": {
      "application/vnd.jupyter.widget-view+json": {
       "model_id": "3050f195ec97436b9cdc21858641b13a",
       "version_major": 2,
       "version_minor": 0
      },
      "text/plain": [
       "HBox(children=(HTML(value=''), FloatProgress(value=0.0, max=2551.0), HTML(value='')))"
      ]
     },
     "metadata": {},
     "output_type": "display_data"
    },
    {
     "name": "stdout",
     "output_type": "stream",
     "text": [
      "\n"
     ]
    },
    {
     "data": {
      "application/vnd.jupyter.widget-view+json": {
       "model_id": "d36adac9b4c9497db0f29352fd3945ec",
       "version_major": 2,
       "version_minor": 0
      },
      "text/plain": [
       "HBox(children=(HTML(value=''), FloatProgress(value=1.0, bar_style='info', layout=Layout(width='20px'), max=1.0…"
      ]
     },
     "metadata": {},
     "output_type": "display_data"
    },
    {
     "name": "stdout",
     "output_type": "stream",
     "text": [
      "\n"
     ]
    },
    {
     "data": {
      "application/vnd.jupyter.widget-view+json": {
       "model_id": "03722ec320c64f0585e9ba6e2cc8f92e",
       "version_major": 2,
       "version_minor": 0
      },
      "text/plain": [
       "HBox(children=(HTML(value=''), FloatProgress(value=1.0, bar_style='info', layout=Layout(width='20px'), max=1.0…"
      ]
     },
     "metadata": {},
     "output_type": "display_data"
    },
    {
     "name": "stdout",
     "output_type": "stream",
     "text": [
      "\n",
      "train loss 0.0292 acc 40413.0000 topk 40740.0000\n",
      "valid loss (single) 0.0557 acc 0.9860 topk 0.9957\n",
      "valid loss (others) 0.0463 acc 0.9921 topk 0.9972\n",
      "lr 8.696349541517193e-05 time 28709.73s\n",
      "-------------------- class (single) --------------------\n",
      "00-#0228 : 0.986842 / 01-#0370 : 0.991892 / 02-#0008 : 0.750000 / 03-#0051 : 0.941176 / \n",
      "04-#0052 : 1.000000 / 05-#0007 : 1.000000 / 06-#0062 : 0.967742 / 07-#0185 : 1.000000 / \n",
      "08-#0011 : 1.000000 / 09-#0061 : 1.000000 / 10-#0002 : 1.000000 / 11-#0031 : 1.000000 / \n",
      "12-#0045 : 0.933333 / 13-#0492 : 0.997967 / 14-#0012 : 0.916667 / 15-#0017 : 0.941176 / \n",
      "16-#0104 : 0.980769 / 17-#0021 : 0.904762 / 18-#0036 : 1.000000 / 19-#0004 : 1.000000 / \n",
      "20-#0010 : 1.000000 / 21-#0027 : 1.000000 / 22-#0007 : 0.857143 / 23-#0005 : 1.000000 / \n",
      "24-#0002 : 0.500000 / 25-#0002 : 0.500000 / \n",
      "-------------------- class (others) --------------------\n",
      "00-#0111 : 0.990991 / 01-#1109 : 0.987376 / 02-#0657 : 0.998478 / 03-#2105 : 0.997150 / \n",
      "04-#1436 : 0.999304 / 05-#0315 : 0.990476 / 06-#0203 : 0.975369 / 07-#0781 : 0.991037 / \n",
      "08-#0214 : 0.990654 / 09-#0111 : 1.000000 / 10-#0068 : 0.985294 / 11-#0460 : 0.989130 / \n",
      "12-#0105 : 0.980952 / 13-#0136 : 1.000000 / 14-#0035 : 0.971429 / 15-#0069 : 1.000000 / \n",
      "16-#0237 : 0.974684 / 17-#0046 : 0.978261 / 18-#0061 : 1.000000 / 19-#0027 : 0.962963 / \n",
      "20-#0008 : 1.000000 / 21-#0018 : 1.000000 / 22-#0005 : 0.600000 / 23-#0024 : 0.916667 / \n",
      "24-#0014 : 0.642857 / 25-#0000 : 0nan / \n",
      "best acc updated 0.9921005368232727\n",
      "epoch: 8\n"
     ]
    },
    {
     "data": {
      "application/vnd.jupyter.widget-view+json": {
       "model_id": "1f9573e364f14069a76b69ad7c8ca107",
       "version_major": 2,
       "version_minor": 0
      },
      "text/plain": [
       "HBox(children=(HTML(value=''), FloatProgress(value=0.0, max=2551.0), HTML(value='')))"
      ]
     },
     "metadata": {},
     "output_type": "display_data"
    },
    {
     "name": "stdout",
     "output_type": "stream",
     "text": [
      "\n"
     ]
    },
    {
     "data": {
      "application/vnd.jupyter.widget-view+json": {
       "model_id": "49b3aa2b35e44455a49dd4568661dc39",
       "version_major": 2,
       "version_minor": 0
      },
      "text/plain": [
       "HBox(children=(HTML(value=''), FloatProgress(value=1.0, bar_style='info', layout=Layout(width='20px'), max=1.0…"
      ]
     },
     "metadata": {},
     "output_type": "display_data"
    },
    {
     "name": "stdout",
     "output_type": "stream",
     "text": [
      "\n"
     ]
    },
    {
     "data": {
      "application/vnd.jupyter.widget-view+json": {
       "model_id": "66fac06ddb7146fab01b1253b0d9aad0",
       "version_major": 2,
       "version_minor": 0
      },
      "text/plain": [
       "HBox(children=(HTML(value=''), FloatProgress(value=1.0, bar_style='info', layout=Layout(width='20px'), max=1.0…"
      ]
     },
     "metadata": {},
     "output_type": "display_data"
    },
    {
     "name": "stdout",
     "output_type": "stream",
     "text": [
      "\n",
      "train loss 0.0254 acc 40476.0000 topk 40755.0000\n",
      "valid loss (single) 0.0625 acc 0.9822 topk 0.9973\n",
      "valid loss (others) 0.0585 acc 0.9890 topk 0.9970\n",
      "lr 8.015160008714386e-05 time 31256.80s\n",
      "-------------------- class (single) --------------------\n",
      "00-#0228 : 0.916667 / 01-#0370 : 1.000000 / 02-#0008 : 0.750000 / 03-#0051 : 0.980392 / \n",
      "04-#0052 : 1.000000 / 05-#0007 : 1.000000 / 06-#0062 : 0.983871 / 07-#0185 : 1.000000 / \n",
      "08-#0011 : 1.000000 / 09-#0061 : 1.000000 / 10-#0002 : 1.000000 / 11-#0031 : 1.000000 / \n",
      "12-#0045 : 1.000000 / 13-#0492 : 0.997967 / 14-#0012 : 0.916667 / 15-#0017 : 0.941176 / \n",
      "16-#0104 : 0.990385 / 17-#0021 : 0.952381 / 18-#0036 : 1.000000 / 19-#0004 : 1.000000 / \n",
      "20-#0010 : 1.000000 / 21-#0027 : 1.000000 / 22-#0007 : 0.857143 / 23-#0005 : 0.600000 / \n",
      "24-#0002 : 0.500000 / 25-#0002 : 0.500000 / \n",
      "-------------------- class (others) --------------------\n",
      "00-#0111 : 0.855856 / 01-#1109 : 0.996393 / 02-#0657 : 0.978691 / 03-#2105 : 0.997625 / \n",
      "04-#1436 : 0.997911 / 05-#0315 : 0.993651 / 06-#0203 : 0.955665 / 07-#0781 : 0.996159 / \n",
      "08-#0214 : 0.995327 / 09-#0111 : 1.000000 / 10-#0068 : 0.970588 / 11-#0460 : 0.986957 / \n",
      "12-#0105 : 0.980952 / 13-#0136 : 0.992647 / 14-#0035 : 1.000000 / 15-#0069 : 1.000000 / \n",
      "16-#0237 : 0.962025 / 17-#0046 : 0.891304 / 18-#0061 : 0.967213 / 19-#0027 : 0.962963 / \n",
      "20-#0008 : 1.000000 / 21-#0018 : 1.000000 / 22-#0005 : 0.600000 / 23-#0024 : 0.875000 / \n",
      "24-#0014 : 0.857143 / 25-#0000 : 0nan / \n",
      "epoch: 9\n"
     ]
    },
    {
     "data": {
      "application/vnd.jupyter.widget-view+json": {
       "model_id": "9f548ac488744352a5494b05db401678",
       "version_major": 2,
       "version_minor": 0
      },
      "text/plain": [
       "HBox(children=(HTML(value=''), FloatProgress(value=0.0, max=2551.0), HTML(value='')))"
      ]
     },
     "metadata": {},
     "output_type": "display_data"
    },
    {
     "name": "stdout",
     "output_type": "stream",
     "text": [
      "\n"
     ]
    },
    {
     "data": {
      "application/vnd.jupyter.widget-view+json": {
       "model_id": "250224d6311343e08e39c45e4feefd73",
       "version_major": 2,
       "version_minor": 0
      },
      "text/plain": [
       "HBox(children=(HTML(value=''), FloatProgress(value=1.0, bar_style='info', layout=Layout(width='20px'), max=1.0…"
      ]
     },
     "metadata": {},
     "output_type": "display_data"
    },
    {
     "name": "stdout",
     "output_type": "stream",
     "text": [
      "\n"
     ]
    },
    {
     "data": {
      "application/vnd.jupyter.widget-view+json": {
       "model_id": "1a7ff02e09954059867dc0c38af5ff53",
       "version_major": 2,
       "version_minor": 0
      },
      "text/plain": [
       "HBox(children=(HTML(value=''), FloatProgress(value=1.0, bar_style='info', layout=Layout(width='20px'), max=1.0…"
      ]
     },
     "metadata": {},
     "output_type": "display_data"
    },
    {
     "name": "stdout",
     "output_type": "stream",
     "text": [
      "\n",
      "train loss 0.0193 acc 40574.0000 topk 40774.0000\n",
      "valid loss (single) 0.0495 acc 0.9860 topk 0.9946\n",
      "valid loss (others) 0.0574 acc 0.9901 topk 0.9968\n",
      "lr 7.23146308710381e-05 time 33719.86s\n",
      "-------------------- class (single) --------------------\n",
      "00-#0228 : 0.991228 / 01-#0370 : 0.997297 / 02-#0008 : 0.625000 / 03-#0051 : 0.960784 / \n",
      "04-#0052 : 1.000000 / 05-#0007 : 1.000000 / 06-#0062 : 0.983871 / 07-#0185 : 0.989189 / \n",
      "08-#0011 : 1.000000 / 09-#0061 : 1.000000 / 10-#0002 : 1.000000 / 11-#0031 : 1.000000 / \n",
      "12-#0045 : 0.933333 / 13-#0492 : 0.993902 / 14-#0012 : 0.916667 / 15-#0017 : 1.000000 / \n",
      "16-#0104 : 0.990385 / 17-#0021 : 0.904762 / 18-#0036 : 1.000000 / 19-#0004 : 1.000000 / \n",
      "20-#0010 : 0.900000 / 21-#0027 : 1.000000 / 22-#0007 : 1.000000 / 23-#0005 : 0.800000 / \n",
      "24-#0002 : 0.000000 / 25-#0002 : 0.500000 / \n",
      "-------------------- class (others) --------------------\n",
      "00-#0111 : 0.990991 / 01-#1109 : 0.990983 / 02-#0657 : 0.987823 / 03-#2105 : 0.992874 / \n",
      "04-#1436 : 0.998607 / 05-#0315 : 0.993651 / 06-#0203 : 0.990148 / 07-#0781 : 0.992318 / \n",
      "08-#0214 : 0.990654 / 09-#0111 : 1.000000 / 10-#0068 : 0.970588 / 11-#0460 : 0.978261 / \n",
      "12-#0105 : 0.971429 / 13-#0136 : 0.985294 / 14-#0035 : 0.942857 / 15-#0069 : 1.000000 / \n",
      "16-#0237 : 0.987342 / 17-#0046 : 0.891304 / 18-#0061 : 0.983607 / 19-#0027 : 0.962963 / \n",
      "20-#0008 : 1.000000 / 21-#0018 : 1.000000 / 22-#0005 : 0.800000 / 23-#0024 : 0.916667 / \n",
      "24-#0014 : 0.785714 / 25-#0000 : 0nan / \n",
      "epoch: 10\n"
     ]
    },
    {
     "data": {
      "application/vnd.jupyter.widget-view+json": {
       "model_id": "cbd7a4266750494885ea72ccfa6e34c0",
       "version_major": 2,
       "version_minor": 0
      },
      "text/plain": [
       "HBox(children=(HTML(value=''), FloatProgress(value=0.0, max=2551.0), HTML(value='')))"
      ]
     },
     "metadata": {},
     "output_type": "display_data"
    },
    {
     "name": "stdout",
     "output_type": "stream",
     "text": [
      "\n"
     ]
    },
    {
     "data": {
      "application/vnd.jupyter.widget-view+json": {
       "model_id": "6fc4a066591d4a3085c255b89a50a57e",
       "version_major": 2,
       "version_minor": 0
      },
      "text/plain": [
       "HBox(children=(HTML(value=''), FloatProgress(value=1.0, bar_style='info', layout=Layout(width='20px'), max=1.0…"
      ]
     },
     "metadata": {},
     "output_type": "display_data"
    },
    {
     "name": "stdout",
     "output_type": "stream",
     "text": [
      "\n"
     ]
    },
    {
     "data": {
      "application/vnd.jupyter.widget-view+json": {
       "model_id": "d6ff0d718b9d4bb8ada8a8f710417f15",
       "version_major": 2,
       "version_minor": 0
      },
      "text/plain": [
       "HBox(children=(HTML(value=''), FloatProgress(value=1.0, bar_style='info', layout=Layout(width='20px'), max=1.0…"
      ]
     },
     "metadata": {},
     "output_type": "display_data"
    },
    {
     "name": "stdout",
     "output_type": "stream",
     "text": [
      "\n",
      "train loss 0.0138 acc 40629.0000 topk 40786.0000\n",
      "valid loss (single) 0.0471 acc 0.9892 topk 0.9957\n",
      "valid loss (others) 0.0532 acc 0.9922 topk 0.9976\n",
      "lr 6.371946635410054e-05 time 36488.40s\n",
      "-------------------- class (single) --------------------\n",
      "00-#0228 : 0.991228 / 01-#0370 : 1.000000 / 02-#0008 : 0.625000 / 03-#0051 : 0.980392 / \n",
      "04-#0052 : 1.000000 / 05-#0007 : 0.857143 / 06-#0062 : 1.000000 / 07-#0185 : 1.000000 / \n",
      "08-#0011 : 1.000000 / 09-#0061 : 1.000000 / 10-#0002 : 1.000000 / 11-#0031 : 1.000000 / \n",
      "12-#0045 : 0.911111 / 13-#0492 : 0.995935 / 14-#0012 : 0.916667 / 15-#0017 : 0.941176 / \n",
      "16-#0104 : 1.000000 / 17-#0021 : 0.952381 / 18-#0036 : 1.000000 / 19-#0004 : 1.000000 / \n",
      "20-#0010 : 1.000000 / 21-#0027 : 1.000000 / 22-#0007 : 1.000000 / 23-#0005 : 1.000000 / \n",
      "24-#0002 : 0.000000 / 25-#0002 : 0.000000 / \n",
      "-------------------- class (others) --------------------\n",
      "00-#0111 : 1.000000 / 01-#1109 : 0.994590 / 02-#0657 : 0.987823 / 03-#2105 : 0.995724 / \n",
      "04-#1436 : 0.997214 / 05-#0315 : 0.987302 / 06-#0203 : 0.990148 / 07-#0781 : 0.993598 / \n",
      "08-#0214 : 0.995327 / 09-#0111 : 1.000000 / 10-#0068 : 0.985294 / 11-#0460 : 0.991304 / \n",
      "12-#0105 : 0.961905 / 13-#0136 : 0.992647 / 14-#0035 : 1.000000 / 15-#0069 : 1.000000 / \n",
      "16-#0237 : 0.987342 / 17-#0046 : 0.869565 / 18-#0061 : 0.983607 / 19-#0027 : 0.962963 / \n",
      "20-#0008 : 1.000000 / 21-#0018 : 1.000000 / 22-#0005 : 1.000000 / 23-#0024 : 0.875000 / \n",
      "24-#0014 : 0.857143 / 25-#0000 : 0nan / \n",
      "best acc updated 0.9922202229499817\n",
      "epoch: 11\n"
     ]
    },
    {
     "data": {
      "application/vnd.jupyter.widget-view+json": {
       "model_id": "7e4c8b1c46954f80a931e1896345ea4f",
       "version_major": 2,
       "version_minor": 0
      },
      "text/plain": [
       "HBox(children=(HTML(value=''), FloatProgress(value=0.0, max=2551.0), HTML(value='')))"
      ]
     },
     "metadata": {},
     "output_type": "display_data"
    },
    {
     "name": "stdout",
     "output_type": "stream",
     "text": [
      "\n"
     ]
    },
    {
     "data": {
      "application/vnd.jupyter.widget-view+json": {
       "model_id": "0c22fbed1bb042f0a772bb3b56ca4f42",
       "version_major": 2,
       "version_minor": 0
      },
      "text/plain": [
       "HBox(children=(HTML(value=''), FloatProgress(value=1.0, bar_style='info', layout=Layout(width='20px'), max=1.0…"
      ]
     },
     "metadata": {},
     "output_type": "display_data"
    },
    {
     "name": "stdout",
     "output_type": "stream",
     "text": [
      "\n"
     ]
    },
    {
     "data": {
      "application/vnd.jupyter.widget-view+json": {
       "model_id": "201ba5e1b25748efae07acf73cf0d259",
       "version_major": 2,
       "version_minor": 0
      },
      "text/plain": [
       "HBox(children=(HTML(value=''), FloatProgress(value=1.0, bar_style='info', layout=Layout(width='20px'), max=1.0…"
      ]
     },
     "metadata": {},
     "output_type": "display_data"
    },
    {
     "name": "stdout",
     "output_type": "stream",
     "text": [
      "\n",
      "train loss 0.0110 acc 40675.0000 topk 40803.0000\n",
      "valid loss (single) 0.0692 acc 0.9854 topk 0.9957\n",
      "valid loss (others) 0.0382 acc 0.9935 topk 0.9976\n",
      "lr 5.465880455519194e-05 time 38973.94s\n",
      "-------------------- class (single) --------------------\n",
      "00-#0228 : 0.986842 / 01-#0370 : 0.989189 / 02-#0008 : 0.750000 / 03-#0051 : 0.980392 / \n",
      "04-#0052 : 1.000000 / 05-#0007 : 1.000000 / 06-#0062 : 0.967742 / 07-#0185 : 1.000000 / \n",
      "08-#0011 : 1.000000 / 09-#0061 : 1.000000 / 10-#0002 : 1.000000 / 11-#0031 : 1.000000 / \n",
      "12-#0045 : 0.955556 / 13-#0492 : 0.995935 / 14-#0012 : 0.916667 / 15-#0017 : 0.941176 / \n",
      "16-#0104 : 1.000000 / 17-#0021 : 0.952381 / 18-#0036 : 0.916667 / 19-#0004 : 0.750000 / \n",
      "20-#0010 : 1.000000 / 21-#0027 : 1.000000 / 22-#0007 : 0.857143 / 23-#0005 : 0.800000 / \n",
      "24-#0002 : 1.000000 / 25-#0002 : 0.000000 / \n",
      "-------------------- class (others) --------------------\n",
      "00-#0111 : 1.000000 / 01-#1109 : 0.991885 / 02-#0657 : 0.992390 / 03-#2105 : 0.997150 / \n",
      "04-#1436 : 0.997911 / 05-#0315 : 0.996825 / 06-#0203 : 0.995074 / 07-#0781 : 0.996159 / \n",
      "08-#0214 : 0.985981 / 09-#0111 : 1.000000 / 10-#0068 : 1.000000 / 11-#0460 : 0.986957 / \n",
      "12-#0105 : 0.971429 / 13-#0136 : 1.000000 / 14-#0035 : 1.000000 / 15-#0069 : 0.971014 / \n",
      "16-#0237 : 1.000000 / 17-#0046 : 0.891304 / 18-#0061 : 1.000000 / 19-#0027 : 0.962963 / \n",
      "20-#0008 : 1.000000 / 21-#0018 : 0.944444 / 22-#0005 : 0.400000 / 23-#0024 : 0.916667 / \n",
      "24-#0014 : 1.000000 / 25-#0000 : 0nan / \n",
      "best acc updated 0.9935368299484253\n",
      "epoch: 12\n"
     ]
    },
    {
     "data": {
      "application/vnd.jupyter.widget-view+json": {
       "model_id": "0976313c2356456e914951c61416daec",
       "version_major": 2,
       "version_minor": 0
      },
      "text/plain": [
       "HBox(children=(HTML(value=''), FloatProgress(value=0.0, max=2551.0), HTML(value='')))"
      ]
     },
     "metadata": {},
     "output_type": "display_data"
    },
    {
     "name": "stdout",
     "output_type": "stream",
     "text": [
      "\n"
     ]
    },
    {
     "data": {
      "application/vnd.jupyter.widget-view+json": {
       "model_id": "fa091531095c4ecf9b74e26fb02a14ba",
       "version_major": 2,
       "version_minor": 0
      },
      "text/plain": [
       "HBox(children=(HTML(value=''), FloatProgress(value=1.0, bar_style='info', layout=Layout(width='20px'), max=1.0…"
      ]
     },
     "metadata": {},
     "output_type": "display_data"
    },
    {
     "name": "stdout",
     "output_type": "stream",
     "text": [
      "\n"
     ]
    },
    {
     "data": {
      "application/vnd.jupyter.widget-view+json": {
       "model_id": "ecd09a4d94cd4760ac2ce32ef852207e",
       "version_major": 2,
       "version_minor": 0
      },
      "text/plain": [
       "HBox(children=(HTML(value=''), FloatProgress(value=1.0, bar_style='info', layout=Layout(width='20px'), max=1.0…"
      ]
     },
     "metadata": {},
     "output_type": "display_data"
    },
    {
     "name": "stdout",
     "output_type": "stream",
     "text": [
      "\n",
      "train loss 0.0080 acc 40718.0000 topk 40802.0000\n",
      "valid loss (single) 0.0495 acc 0.9887 topk 0.9973\n",
      "valid loss (others) 0.0445 acc 0.9937 topk 0.9980\n",
      "lr 4.544119544480807e-05 time 41596.43s\n",
      "-------------------- class (single) --------------------\n",
      "00-#0228 : 0.991228 / 01-#0370 : 0.997297 / 02-#0008 : 0.750000 / 03-#0051 : 0.980392 / \n",
      "04-#0052 : 1.000000 / 05-#0007 : 1.000000 / 06-#0062 : 0.983871 / 07-#0185 : 0.978378 / \n",
      "08-#0011 : 1.000000 / 09-#0061 : 1.000000 / 10-#0002 : 1.000000 / 11-#0031 : 1.000000 / \n",
      "12-#0045 : 0.955556 / 13-#0492 : 0.997967 / 14-#0012 : 0.916667 / 15-#0017 : 0.941176 / \n",
      "16-#0104 : 0.990385 / 17-#0021 : 0.952381 / 18-#0036 : 1.000000 / 19-#0004 : 1.000000 / \n",
      "20-#0010 : 1.000000 / 21-#0027 : 1.000000 / 22-#0007 : 0.857143 / 23-#0005 : 1.000000 / \n",
      "24-#0002 : 1.000000 / 25-#0002 : 0.000000 / \n",
      "-------------------- class (others) --------------------\n",
      "00-#0111 : 1.000000 / 01-#1109 : 0.997295 / 02-#0657 : 0.993912 / 03-#2105 : 0.997625 / \n",
      "04-#1436 : 0.997214 / 05-#0315 : 0.993651 / 06-#0203 : 1.000000 / 07-#0781 : 0.996159 / \n",
      "08-#0214 : 0.985981 / 09-#0111 : 1.000000 / 10-#0068 : 1.000000 / 11-#0460 : 0.984783 / \n",
      "12-#0105 : 0.971429 / 13-#0136 : 0.992647 / 14-#0035 : 0.971429 / 15-#0069 : 1.000000 / \n",
      "16-#0237 : 0.978903 / 17-#0046 : 0.869565 / 18-#0061 : 1.000000 / 19-#0027 : 0.962963 / \n",
      "20-#0008 : 1.000000 / 21-#0018 : 1.000000 / 22-#0005 : 0.600000 / 23-#0024 : 0.875000 / \n",
      "24-#0014 : 1.000000 / 25-#0000 : 0nan / \n",
      "best acc updated 0.9936565160751343\n",
      "epoch: 13\n"
     ]
    },
    {
     "data": {
      "application/vnd.jupyter.widget-view+json": {
       "model_id": "b414a5f9353a4a26aec28c170a4c1cba",
       "version_major": 2,
       "version_minor": 0
      },
      "text/plain": [
       "HBox(children=(HTML(value=''), FloatProgress(value=0.0, max=2551.0), HTML(value='')))"
      ]
     },
     "metadata": {},
     "output_type": "display_data"
    },
    {
     "name": "stdout",
     "output_type": "stream",
     "text": [
      "\n"
     ]
    },
    {
     "data": {
      "application/vnd.jupyter.widget-view+json": {
       "model_id": "a65dab2b205745ad9c4fc2be99bd6481",
       "version_major": 2,
       "version_minor": 0
      },
      "text/plain": [
       "HBox(children=(HTML(value=''), FloatProgress(value=1.0, bar_style='info', layout=Layout(width='20px'), max=1.0…"
      ]
     },
     "metadata": {},
     "output_type": "display_data"
    },
    {
     "name": "stdout",
     "output_type": "stream",
     "text": [
      "\n"
     ]
    },
    {
     "data": {
      "application/vnd.jupyter.widget-view+json": {
       "model_id": "2b44bd25873743b8a31793bef1a512ca",
       "version_major": 2,
       "version_minor": 0
      },
      "text/plain": [
       "HBox(children=(HTML(value=''), FloatProgress(value=1.0, bar_style='info', layout=Layout(width='20px'), max=1.0…"
      ]
     },
     "metadata": {},
     "output_type": "display_data"
    },
    {
     "name": "stdout",
     "output_type": "stream",
     "text": [
      "\n",
      "train loss 0.0056 acc 40745.0000 topk 40803.0000\n",
      "valid loss (single) 0.0515 acc 0.9865 topk 0.9957\n",
      "valid loss (others) 0.0490 acc 0.9937 topk 0.9980\n",
      "lr 3.638053364589948e-05 time 44646.42s\n",
      "-------------------- class (single) --------------------\n",
      "00-#0228 : 0.991228 / 01-#0370 : 0.997297 / 02-#0008 : 0.625000 / 03-#0051 : 0.980392 / \n",
      "04-#0052 : 1.000000 / 05-#0007 : 0.857143 / 06-#0062 : 1.000000 / 07-#0185 : 0.972973 / \n",
      "08-#0011 : 1.000000 / 09-#0061 : 1.000000 / 10-#0002 : 1.000000 / 11-#0031 : 1.000000 / \n",
      "12-#0045 : 0.955556 / 13-#0492 : 0.997967 / 14-#0012 : 0.916667 / 15-#0017 : 0.941176 / \n",
      "16-#0104 : 0.990385 / 17-#0021 : 0.952381 / 18-#0036 : 0.972222 / 19-#0004 : 1.000000 / \n",
      "20-#0010 : 1.000000 / 21-#0027 : 1.000000 / 22-#0007 : 0.857143 / 23-#0005 : 0.800000 / \n",
      "24-#0002 : 1.000000 / 25-#0002 : 0.000000 / \n",
      "-------------------- class (others) --------------------\n",
      "00-#0111 : 0.990991 / 01-#1109 : 0.994590 / 02-#0657 : 0.995434 / 03-#2105 : 0.998575 / \n",
      "04-#1436 : 0.998607 / 05-#0315 : 0.996825 / 06-#0203 : 0.995074 / 07-#0781 : 0.991037 / \n",
      "08-#0214 : 0.985981 / 09-#0111 : 1.000000 / 10-#0068 : 0.985294 / 11-#0460 : 0.991304 / \n",
      "12-#0105 : 0.990476 / 13-#0136 : 0.992647 / 14-#0035 : 0.971429 / 15-#0069 : 1.000000 / \n",
      "16-#0237 : 0.983122 / 17-#0046 : 0.847826 / 18-#0061 : 0.983607 / 19-#0027 : 0.962963 / \n",
      "20-#0008 : 1.000000 / 21-#0018 : 1.000000 / 22-#0005 : 0.600000 / 23-#0024 : 0.875000 / \n",
      "24-#0014 : 1.000000 / 25-#0000 : 0nan / \n",
      "epoch: 14\n"
     ]
    },
    {
     "data": {
      "application/vnd.jupyter.widget-view+json": {
       "model_id": "1e61a78c0ae74d5882a6dc02e987ccc7",
       "version_major": 2,
       "version_minor": 0
      },
      "text/plain": [
       "HBox(children=(HTML(value=''), FloatProgress(value=0.0, max=2551.0), HTML(value='')))"
      ]
     },
     "metadata": {},
     "output_type": "display_data"
    },
    {
     "name": "stdout",
     "output_type": "stream",
     "text": [
      "\n"
     ]
    },
    {
     "data": {
      "application/vnd.jupyter.widget-view+json": {
       "model_id": "67d5e81a1f0b4501bcde132f99d3a447",
       "version_major": 2,
       "version_minor": 0
      },
      "text/plain": [
       "HBox(children=(HTML(value=''), FloatProgress(value=1.0, bar_style='info', layout=Layout(width='20px'), max=1.0…"
      ]
     },
     "metadata": {},
     "output_type": "display_data"
    },
    {
     "name": "stdout",
     "output_type": "stream",
     "text": [
      "\n"
     ]
    },
    {
     "data": {
      "application/vnd.jupyter.widget-view+json": {
       "model_id": "bfffd9c39b874963b782689d41ee6909",
       "version_major": 2,
       "version_minor": 0
      },
      "text/plain": [
       "HBox(children=(HTML(value=''), FloatProgress(value=1.0, bar_style='info', layout=Layout(width='20px'), max=1.0…"
      ]
     },
     "metadata": {},
     "output_type": "display_data"
    },
    {
     "name": "stdout",
     "output_type": "stream",
     "text": [
      "\n",
      "train loss 0.0043 acc 40755.0000 topk 40809.0000\n",
      "valid loss (single) 0.0497 acc 0.9870 topk 0.9978\n",
      "valid loss (others) 0.0460 acc 0.9951 topk 0.9983\n",
      "lr 2.7785369128961917e-05 time 47655.99s\n",
      "-------------------- class (single) --------------------\n",
      "00-#0228 : 0.995614 / 01-#0370 : 0.994595 / 02-#0008 : 0.625000 / 03-#0051 : 0.980392 / \n",
      "04-#0052 : 1.000000 / 05-#0007 : 1.000000 / 06-#0062 : 0.983871 / 07-#0185 : 0.994595 / \n",
      "08-#0011 : 1.000000 / 09-#0061 : 1.000000 / 10-#0002 : 1.000000 / 11-#0031 : 1.000000 / \n",
      "12-#0045 : 0.888889 / 13-#0492 : 0.997967 / 14-#0012 : 0.916667 / 15-#0017 : 0.941176 / \n",
      "16-#0104 : 1.000000 / 17-#0021 : 0.952381 / 18-#0036 : 0.944444 / 19-#0004 : 1.000000 / \n",
      "20-#0010 : 1.000000 / 21-#0027 : 1.000000 / 22-#0007 : 0.857143 / 23-#0005 : 0.800000 / \n",
      "24-#0002 : 1.000000 / 25-#0002 : 0.000000 / \n",
      "-------------------- class (others) --------------------\n",
      "00-#0111 : 1.000000 / 01-#1109 : 0.994590 / 02-#0657 : 0.996956 / 03-#2105 : 0.998575 / \n",
      "04-#1436 : 0.999304 / 05-#0315 : 0.990476 / 06-#0203 : 1.000000 / 07-#0781 : 0.997439 / \n",
      "08-#0214 : 0.990654 / 09-#0111 : 1.000000 / 10-#0068 : 0.985294 / 11-#0460 : 0.993478 / \n",
      "12-#0105 : 0.961905 / 13-#0136 : 1.000000 / 14-#0035 : 1.000000 / 15-#0069 : 1.000000 / \n",
      "16-#0237 : 0.995781 / 17-#0046 : 0.891304 / 18-#0061 : 0.983607 / 19-#0027 : 0.962963 / \n",
      "20-#0008 : 1.000000 / 21-#0018 : 1.000000 / 22-#0005 : 0.600000 / 23-#0024 : 0.833333 / \n",
      "24-#0014 : 1.000000 / 25-#0000 : 0nan / \n",
      "best acc updated 0.9950927495956421\n",
      "epoch: 15\n"
     ]
    },
    {
     "data": {
      "application/vnd.jupyter.widget-view+json": {
       "model_id": "aedc7527d3c841c7a7642a467a6be20d",
       "version_major": 2,
       "version_minor": 0
      },
      "text/plain": [
       "HBox(children=(HTML(value=''), FloatProgress(value=0.0, max=2551.0), HTML(value='')))"
      ]
     },
     "metadata": {},
     "output_type": "display_data"
    },
    {
     "name": "stdout",
     "output_type": "stream",
     "text": [
      "\n"
     ]
    },
    {
     "data": {
      "application/vnd.jupyter.widget-view+json": {
       "model_id": "b76f6e940a7d43cf8b4d94b08925083f",
       "version_major": 2,
       "version_minor": 0
      },
      "text/plain": [
       "HBox(children=(HTML(value=''), FloatProgress(value=1.0, bar_style='info', layout=Layout(width='20px'), max=1.0…"
      ]
     },
     "metadata": {},
     "output_type": "display_data"
    },
    {
     "name": "stdout",
     "output_type": "stream",
     "text": [
      "\n"
     ]
    },
    {
     "data": {
      "application/vnd.jupyter.widget-view+json": {
       "model_id": "757e88c838d145979d58aa694966a3be",
       "version_major": 2,
       "version_minor": 0
      },
      "text/plain": [
       "HBox(children=(HTML(value=''), FloatProgress(value=1.0, bar_style='info', layout=Layout(width='20px'), max=1.0…"
      ]
     },
     "metadata": {},
     "output_type": "display_data"
    },
    {
     "name": "stdout",
     "output_type": "stream",
     "text": [
      "\n",
      "train loss 0.0030 acc 40777.0000 topk 40809.0000\n",
      "valid loss (single) 0.0371 acc 0.9919 topk 0.9978\n",
      "valid loss (others) 0.0397 acc 0.9951 topk 0.9986\n",
      "lr 1.9948399912856146e-05 time 50228.59s\n",
      "-------------------- class (single) --------------------\n",
      "00-#0228 : 0.995614 / 01-#0370 : 0.994595 / 02-#0008 : 0.750000 / 03-#0051 : 0.980392 / \n",
      "04-#0052 : 1.000000 / 05-#0007 : 0.857143 / 06-#0062 : 0.983871 / 07-#0185 : 1.000000 / \n",
      "08-#0011 : 1.000000 / 09-#0061 : 1.000000 / 10-#0002 : 1.000000 / 11-#0031 : 1.000000 / \n",
      "12-#0045 : 0.977778 / 13-#0492 : 0.997967 / 14-#0012 : 1.000000 / 15-#0017 : 1.000000 / \n",
      "16-#0104 : 0.990385 / 17-#0021 : 1.000000 / 18-#0036 : 1.000000 / 19-#0004 : 1.000000 / \n",
      "20-#0010 : 1.000000 / 21-#0027 : 1.000000 / 22-#0007 : 0.857143 / 23-#0005 : 0.800000 / \n",
      "24-#0002 : 0.500000 / 25-#0002 : 0.500000 / \n",
      "-------------------- class (others) --------------------\n",
      "00-#0111 : 0.990991 / 01-#1109 : 0.995491 / 02-#0657 : 0.996956 / 03-#2105 : 0.998575 / \n",
      "04-#1436 : 0.999304 / 05-#0315 : 0.990476 / 06-#0203 : 0.995074 / 07-#0781 : 0.996159 / \n",
      "08-#0214 : 0.990654 / 09-#0111 : 1.000000 / 10-#0068 : 0.985294 / 11-#0460 : 0.993478 / \n",
      "12-#0105 : 0.990476 / 13-#0136 : 1.000000 / 14-#0035 : 1.000000 / 15-#0069 : 1.000000 / \n",
      "16-#0237 : 0.995781 / 17-#0046 : 0.891304 / 18-#0061 : 0.983607 / 19-#0027 : 0.962963 / \n",
      "20-#0008 : 1.000000 / 21-#0018 : 1.000000 / 22-#0005 : 0.600000 / 23-#0024 : 0.833333 / \n",
      "24-#0014 : 0.928571 / 25-#0000 : 0nan / \n",
      "epoch: 16\n"
     ]
    },
    {
     "data": {
      "application/vnd.jupyter.widget-view+json": {
       "model_id": "88ae225e37be411d98caf869e2cab19a",
       "version_major": 2,
       "version_minor": 0
      },
      "text/plain": [
       "HBox(children=(HTML(value=''), FloatProgress(value=0.0, max=2551.0), HTML(value='')))"
      ]
     },
     "metadata": {},
     "output_type": "display_data"
    },
    {
     "name": "stdout",
     "output_type": "stream",
     "text": [
      "\n"
     ]
    },
    {
     "data": {
      "application/vnd.jupyter.widget-view+json": {
       "model_id": "b041fa22ddac49caab218e18e435e6ca",
       "version_major": 2,
       "version_minor": 0
      },
      "text/plain": [
       "HBox(children=(HTML(value=''), FloatProgress(value=1.0, bar_style='info', layout=Layout(width='20px'), max=1.0…"
      ]
     },
     "metadata": {},
     "output_type": "display_data"
    },
    {
     "name": "stdout",
     "output_type": "stream",
     "text": [
      "\n"
     ]
    },
    {
     "data": {
      "application/vnd.jupyter.widget-view+json": {
       "model_id": "c919cad78f3a46229794b80b0dea85a0",
       "version_major": 2,
       "version_minor": 0
      },
      "text/plain": [
       "HBox(children=(HTML(value=''), FloatProgress(value=1.0, bar_style='info', layout=Layout(width='20px'), max=1.0…"
      ]
     },
     "metadata": {},
     "output_type": "display_data"
    },
    {
     "name": "stdout",
     "output_type": "stream",
     "text": [
      "\n",
      "train loss 0.0026 acc 40780.0000 topk 40814.0000\n",
      "valid loss (single) 0.0365 acc 0.9924 topk 0.9984\n",
      "valid loss (others) 0.0391 acc 0.9953 topk 0.9988\n",
      "lr 1.3136504584828086e-05 time 52910.29s\n",
      "-------------------- class (single) --------------------\n",
      "00-#0228 : 0.995614 / 01-#0370 : 1.000000 / 02-#0008 : 0.750000 / 03-#0051 : 0.980392 / \n",
      "04-#0052 : 1.000000 / 05-#0007 : 0.857143 / 06-#0062 : 0.983871 / 07-#0185 : 0.994595 / \n",
      "08-#0011 : 1.000000 / 09-#0061 : 1.000000 / 10-#0002 : 1.000000 / 11-#0031 : 1.000000 / \n",
      "12-#0045 : 0.977778 / 13-#0492 : 0.997967 / 14-#0012 : 1.000000 / 15-#0017 : 1.000000 / \n",
      "16-#0104 : 0.990385 / 17-#0021 : 1.000000 / 18-#0036 : 1.000000 / 19-#0004 : 1.000000 / \n",
      "20-#0010 : 1.000000 / 21-#0027 : 1.000000 / 22-#0007 : 0.857143 / 23-#0005 : 1.000000 / \n",
      "24-#0002 : 0.500000 / 25-#0002 : 0.000000 / \n",
      "-------------------- class (others) --------------------\n",
      "00-#0111 : 0.981982 / 01-#1109 : 0.994590 / 02-#0657 : 0.998478 / 03-#2105 : 0.998100 / \n",
      "04-#1436 : 0.999304 / 05-#0315 : 0.996825 / 06-#0203 : 0.995074 / 07-#0781 : 0.996159 / \n",
      "08-#0214 : 0.990654 / 09-#0111 : 1.000000 / 10-#0068 : 1.000000 / 11-#0460 : 0.991304 / \n",
      "12-#0105 : 1.000000 / 13-#0136 : 1.000000 / 14-#0035 : 1.000000 / 15-#0069 : 1.000000 / \n",
      "16-#0237 : 0.987342 / 17-#0046 : 0.891304 / 18-#0061 : 1.000000 / 19-#0027 : 0.962963 / \n",
      "20-#0008 : 1.000000 / 21-#0018 : 1.000000 / 22-#0005 : 0.600000 / 23-#0024 : 0.916667 / \n",
      "24-#0014 : 0.928571 / 25-#0000 : 0nan / \n",
      "best acc updated 0.9953321218490601\n",
      "epoch: 17\n"
     ]
    },
    {
     "data": {
      "application/vnd.jupyter.widget-view+json": {
       "model_id": "12fb333208af4ffc9e4945ba49bf66b9",
       "version_major": 2,
       "version_minor": 0
      },
      "text/plain": [
       "HBox(children=(HTML(value=''), FloatProgress(value=0.0, max=2551.0), HTML(value='')))"
      ]
     },
     "metadata": {},
     "output_type": "display_data"
    },
    {
     "name": "stdout",
     "output_type": "stream",
     "text": [
      "\n"
     ]
    },
    {
     "data": {
      "application/vnd.jupyter.widget-view+json": {
       "model_id": "2af1a7ab37594870b31e27ddd952d93a",
       "version_major": 2,
       "version_minor": 0
      },
      "text/plain": [
       "HBox(children=(HTML(value=''), FloatProgress(value=1.0, bar_style='info', layout=Layout(width='20px'), max=1.0…"
      ]
     },
     "metadata": {},
     "output_type": "display_data"
    },
    {
     "name": "stdout",
     "output_type": "stream",
     "text": [
      "\n"
     ]
    },
    {
     "data": {
      "application/vnd.jupyter.widget-view+json": {
       "model_id": "eea97791d1c147ce8808318fe34781f9",
       "version_major": 2,
       "version_minor": 0
      },
      "text/plain": [
       "HBox(children=(HTML(value=''), FloatProgress(value=1.0, bar_style='info', layout=Layout(width='20px'), max=1.0…"
      ]
     },
     "metadata": {},
     "output_type": "display_data"
    },
    {
     "name": "stdout",
     "output_type": "stream",
     "text": [
      "\n",
      "train loss 0.0017 acc 40796.0000 topk 40815.0000\n",
      "valid loss (single) 0.0337 acc 0.9935 topk 0.9984\n",
      "valid loss (others) 0.0381 acc 0.9955 topk 0.9986\n",
      "lr 7.58165407030577e-06 time 55353.34s\n",
      "-------------------- class (single) --------------------\n",
      "00-#0228 : 0.991228 / 01-#0370 : 0.997297 / 02-#0008 : 0.750000 / 03-#0051 : 0.980392 / \n",
      "04-#0052 : 1.000000 / 05-#0007 : 1.000000 / 06-#0062 : 1.000000 / 07-#0185 : 1.000000 / \n",
      "08-#0011 : 1.000000 / 09-#0061 : 1.000000 / 10-#0002 : 1.000000 / 11-#0031 : 1.000000 / \n",
      "12-#0045 : 0.955556 / 13-#0492 : 0.997967 / 14-#0012 : 1.000000 / 15-#0017 : 1.000000 / \n",
      "16-#0104 : 1.000000 / 17-#0021 : 1.000000 / 18-#0036 : 1.000000 / 19-#0004 : 1.000000 / \n",
      "20-#0010 : 1.000000 / 21-#0027 : 1.000000 / 22-#0007 : 0.857143 / 23-#0005 : 0.800000 / \n",
      "24-#0002 : 1.000000 / 25-#0002 : 0.500000 / \n",
      "-------------------- class (others) --------------------\n",
      "00-#0111 : 0.981982 / 01-#1109 : 0.994590 / 02-#0657 : 0.998478 / 03-#2105 : 0.999525 / \n",
      "04-#1436 : 0.997911 / 05-#0315 : 0.993651 / 06-#0203 : 0.995074 / 07-#0781 : 0.997439 / \n",
      "08-#0214 : 0.990654 / 09-#0111 : 1.000000 / 10-#0068 : 1.000000 / 11-#0460 : 0.991304 / \n",
      "12-#0105 : 0.990476 / 13-#0136 : 1.000000 / 14-#0035 : 1.000000 / 15-#0069 : 0.985507 / \n",
      "16-#0237 : 0.995781 / 17-#0046 : 0.891304 / 18-#0061 : 1.000000 / 19-#0027 : 0.962963 / \n",
      "20-#0008 : 1.000000 / 21-#0018 : 1.000000 / 22-#0005 : 0.600000 / 23-#0024 : 0.875000 / \n",
      "24-#0014 : 1.000000 / 25-#0000 : 0nan / \n",
      "best acc updated 0.995451807975769\n",
      "epoch: 18\n"
     ]
    },
    {
     "data": {
      "application/vnd.jupyter.widget-view+json": {
       "model_id": "0651a921ee82451aa10ca871cc232bf9",
       "version_major": 2,
       "version_minor": 0
      },
      "text/plain": [
       "HBox(children=(HTML(value=''), FloatProgress(value=0.0, max=2551.0), HTML(value='')))"
      ]
     },
     "metadata": {},
     "output_type": "display_data"
    },
    {
     "name": "stdout",
     "output_type": "stream",
     "text": [
      "\n"
     ]
    },
    {
     "data": {
      "application/vnd.jupyter.widget-view+json": {
       "model_id": "8a427e883e7b463d8600e644866ee147",
       "version_major": 2,
       "version_minor": 0
      },
      "text/plain": [
       "HBox(children=(HTML(value=''), FloatProgress(value=1.0, bar_style='info', layout=Layout(width='20px'), max=1.0…"
      ]
     },
     "metadata": {},
     "output_type": "display_data"
    },
    {
     "name": "stdout",
     "output_type": "stream",
     "text": [
      "\n"
     ]
    },
    {
     "data": {
      "application/vnd.jupyter.widget-view+json": {
       "model_id": "3ad5cf5d1d56447a845cdb4df627ff50",
       "version_major": 2,
       "version_minor": 0
      },
      "text/plain": [
       "HBox(children=(HTML(value=''), FloatProgress(value=1.0, bar_style='info', layout=Layout(width='20px'), max=1.0…"
      ]
     },
     "metadata": {},
     "output_type": "display_data"
    },
    {
     "name": "stdout",
     "output_type": "stream",
     "text": [
      "\n",
      "train loss 0.0013 acc 40806.0000 topk 40815.0000\n",
      "valid loss (single) 0.0342 acc 0.9930 topk 0.9989\n",
      "valid loss (others) 0.0371 acc 0.9959 topk 0.9988\n",
      "lr 3.473012141252427e-06 time 57796.59s\n",
      "-------------------- class (single) --------------------\n",
      "00-#0228 : 0.995614 / 01-#0370 : 1.000000 / 02-#0008 : 0.750000 / 03-#0051 : 0.980392 / \n",
      "04-#0052 : 1.000000 / 05-#0007 : 1.000000 / 06-#0062 : 1.000000 / 07-#0185 : 1.000000 / \n",
      "08-#0011 : 1.000000 / 09-#0061 : 1.000000 / 10-#0002 : 1.000000 / 11-#0031 : 1.000000 / \n",
      "12-#0045 : 0.933333 / 13-#0492 : 0.997967 / 14-#0012 : 1.000000 / 15-#0017 : 1.000000 / \n",
      "16-#0104 : 1.000000 / 17-#0021 : 0.952381 / 18-#0036 : 1.000000 / 19-#0004 : 1.000000 / \n",
      "20-#0010 : 1.000000 / 21-#0027 : 1.000000 / 22-#0007 : 0.857143 / 23-#0005 : 0.800000 / \n",
      "24-#0002 : 0.500000 / 25-#0002 : 0.500000 / \n",
      "-------------------- class (others) --------------------\n",
      "00-#0111 : 0.981982 / 01-#1109 : 0.994590 / 02-#0657 : 1.000000 / 03-#2105 : 0.999525 / \n",
      "04-#1436 : 0.999304 / 05-#0315 : 0.993651 / 06-#0203 : 0.995074 / 07-#0781 : 0.996159 / \n",
      "08-#0214 : 0.990654 / 09-#0111 : 1.000000 / 10-#0068 : 1.000000 / 11-#0460 : 0.993478 / \n",
      "12-#0105 : 0.990476 / 13-#0136 : 1.000000 / 14-#0035 : 1.000000 / 15-#0069 : 1.000000 / \n",
      "16-#0237 : 0.995781 / 17-#0046 : 0.891304 / 18-#0061 : 1.000000 / 19-#0027 : 0.962963 / \n",
      "20-#0008 : 1.000000 / 21-#0018 : 1.000000 / 22-#0005 : 0.600000 / 23-#0024 : 0.916667 / \n",
      "24-#0014 : 0.928571 / 25-#0000 : 0nan / \n",
      "best acc updated 0.995930552482605\n",
      "epoch: 19\n"
     ]
    },
    {
     "data": {
      "application/vnd.jupyter.widget-view+json": {
       "model_id": "717f46cb25c5490dbb3a995d57aa0ef9",
       "version_major": 2,
       "version_minor": 0
      },
      "text/plain": [
       "HBox(children=(HTML(value=''), FloatProgress(value=0.0, max=2551.0), HTML(value='')))"
      ]
     },
     "metadata": {},
     "output_type": "display_data"
    },
    {
     "name": "stdout",
     "output_type": "stream",
     "text": [
      "\n"
     ]
    },
    {
     "data": {
      "application/vnd.jupyter.widget-view+json": {
       "model_id": "ed1ceb71913a43c183a242abd2774c3c",
       "version_major": 2,
       "version_minor": 0
      },
      "text/plain": [
       "HBox(children=(HTML(value=''), FloatProgress(value=1.0, bar_style='info', layout=Layout(width='20px'), max=1.0…"
      ]
     },
     "metadata": {},
     "output_type": "display_data"
    },
    {
     "name": "stdout",
     "output_type": "stream",
     "text": [
      "\n"
     ]
    },
    {
     "data": {
      "application/vnd.jupyter.widget-view+json": {
       "model_id": "0261cafd15264754b98c8ef52add5ecc",
       "version_major": 2,
       "version_minor": 0
      },
      "text/plain": [
       "HBox(children=(HTML(value=''), FloatProgress(value=1.0, bar_style='info', layout=Layout(width='20px'), max=1.0…"
      ]
     },
     "metadata": {},
     "output_type": "display_data"
    },
    {
     "name": "stdout",
     "output_type": "stream",
     "text": [
      "\n",
      "train loss 0.0012 acc 40798.0000 topk 40813.0000\n",
      "valid loss (single) 0.0363 acc 0.9946 topk 0.9989\n",
      "valid loss (others) 0.0378 acc 0.9957 topk 0.9984\n",
      "lr 9.504936707891058e-07 time 60246.04s\n",
      "-------------------- class (single) --------------------\n",
      "00-#0228 : 1.000000 / 01-#0370 : 1.000000 / 02-#0008 : 0.750000 / 03-#0051 : 0.980392 / \n",
      "04-#0052 : 1.000000 / 05-#0007 : 1.000000 / 06-#0062 : 1.000000 / 07-#0185 : 1.000000 / \n",
      "08-#0011 : 1.000000 / 09-#0061 : 1.000000 / 10-#0002 : 1.000000 / 11-#0031 : 1.000000 / \n",
      "12-#0045 : 0.933333 / 13-#0492 : 0.997967 / 14-#0012 : 1.000000 / 15-#0017 : 1.000000 / \n",
      "16-#0104 : 1.000000 / 17-#0021 : 1.000000 / 18-#0036 : 1.000000 / 19-#0004 : 1.000000 / \n",
      "20-#0010 : 1.000000 / 21-#0027 : 1.000000 / 22-#0007 : 0.857143 / 23-#0005 : 0.800000 / \n",
      "24-#0002 : 1.000000 / 25-#0002 : 0.500000 / \n",
      "-------------------- class (others) --------------------\n",
      "00-#0111 : 0.981982 / 01-#1109 : 0.995491 / 02-#0657 : 1.000000 / 03-#2105 : 0.999525 / \n",
      "04-#1436 : 0.998607 / 05-#0315 : 0.993651 / 06-#0203 : 0.995074 / 07-#0781 : 0.996159 / \n",
      "08-#0214 : 0.990654 / 09-#0111 : 1.000000 / 10-#0068 : 1.000000 / 11-#0460 : 0.991304 / \n",
      "12-#0105 : 0.990476 / 13-#0136 : 1.000000 / 14-#0035 : 1.000000 / 15-#0069 : 1.000000 / \n",
      "16-#0237 : 0.991561 / 17-#0046 : 0.891304 / 18-#0061 : 1.000000 / 19-#0027 : 0.962963 / \n",
      "20-#0008 : 1.000000 / 21-#0018 : 1.000000 / 22-#0005 : 0.600000 / 23-#0024 : 0.916667 / \n",
      "24-#0014 : 0.928571 / 25-#0000 : 0nan / \n"
     ]
    }
   ],
   "source": [
    "start = time.time()\n",
    "os.makedirs(f\"{config.checkpoint}/{config.model_name}\", exist_ok=True)\n",
    "\n",
    "print('Start Training')\n",
    "for epo in range(config.resume_epoch, config.epoch):\n",
    "    print(f\"epoch: {epo}\")\n",
    "    lr = scheduler.get_lr()[0]\n",
    "    train_loss, train_acc, train_top_k = train_one_epoch(model, optimizer, criterion, train_loader, scheduler, grad_scaler, config.iters_to_accumulate)\n",
    "    valid_loss1, valid_acc1, valid_top_k1, valid_preds1, valid_trues1 = valid_one_epoch(model, criterion, valid_loader_single, config.tta)\n",
    "    valid_loss2, valid_acc2, valid_top_k2, valid_preds2, valid_trues2 = valid_one_epoch(model, criterion, valid_loader_others, config.tta)\n",
    "\n",
    "    print(f\"train loss {train_loss :.4f} acc {train_acc :.4f} topk {train_top_k :.4f}\")\n",
    "    print(f\"valid loss (single) {valid_loss1 :.4f} acc {valid_acc1/len(valid_loader_single.dataset) :.4f} topk {valid_top_k1/len(valid_loader_single.dataset) :.4f}\")\n",
    "    print(f\"valid loss (others) {valid_loss2 :.4f} acc {valid_acc2/len(valid_loader_others.dataset) :.4f} topk {valid_top_k2/len(valid_loader_others.dataset) :.4f}\")\n",
    "    print(f\"lr {lr} time {time.time() - start :.2f}s\")\n",
    "    \n",
    "    print(\"-\"*20, f\"class (single)\", \"-\"*20)\n",
    "    for i in range(26):\n",
    "        print(f\"{i:02d}-#{(valid_trues1==i).sum():04d} : {((valid_preds1==i)&(valid_trues1==i)).sum()/(valid_trues1==i).sum():04f}\", end=' / ') \n",
    "        if i % 4 == 3 and i > 0 or i == 25:\n",
    "            print()\n",
    "\n",
    "    print(\"-\"*20, f\"class (others)\", \"-\"*20)\n",
    "    for i in range(26):\n",
    "        print(f\"{i:02d}-#{(valid_trues2==i).sum():04d} : {((valid_preds2==i)&(valid_trues2==i)).sum()/(valid_trues2==i).sum():04f}\", end=' / ') \n",
    "        if i % 4 == 3 and i > 0 or i == 25:\n",
    "            print()\n",
    "                                     \n",
    "    if best_acc < valid_acc2/len(valid_loader_others.dataset):\n",
    "        best_acc = valid_acc2/len(valid_loader_others.dataset)\n",
    "        best_epoch = epo\n",
    "        print(f'best acc updated {best_acc}')\n",
    "        best_model_dict = {\n",
    "            'model': deepcopy(model.state_dict()),\n",
    "            'optimizer': deepcopy(optimizer.state_dict()),\n",
    "            'scheduler': deepcopy(scheduler.state_dict()),\n",
    "        }\n",
    "        torch.save(best_model_dict, f\"{config.checkpoint}/{config.model_name}/best.pt\")\n",
    "\n",
    "    if config.wandb_log:\n",
    "        wandb_dict = {\n",
    "            'train loss': train_loss,\n",
    "            'train acc': train_acc,\n",
    "            'valid loss (single)': valid_loss1,\n",
    "            'valid acc (single)': valid_acc1 / len(valid_loader_single.dataset),\n",
    "            'valid topk (single)': valid_top_k1 / len(valid_loader_single.dataset),\n",
    "            'valid loss (others)': valid_loss2,\n",
    "            'valid acc (others)': valid_acc2 / len(valid_loader_others.dataset),\n",
    "            'valid topk (others)': valid_top_k2 / len(valid_loader_others.dataset),\n",
    "            'learning rate': scheduler.get_lr()[0],\n",
    "        }\n",
    "        wandb.log(wandb_dict)\n",
    "        \n",
    "os.rename(f\"{config.checkpoint}/{config.model_name}/best.pt\", \\\n",
    "          f\"{config.checkpoint}/{config.model_name}/fold{config.fold}_epoch{best_epoch}_{best_acc:.04f}.pt\")"
   ]
  },
  {
   "cell_type": "code",
   "execution_count": 26,
   "id": "84f5652a-72e6-49f0-aeb6-86b7bc18e489",
   "metadata": {},
   "outputs": [
    {
     "data": {
      "text/plain": [
       "array([False, False, False, ..., False, False, False])"
      ]
     },
     "execution_count": 26,
     "metadata": {},
     "output_type": "execute_result"
    }
   ],
   "source": [
    "valid_trues1==0"
   ]
  },
  {
   "cell_type": "code",
   "execution_count": null,
   "id": "f2ff39ee-7ffb-4dea-bf7f-42667bf36320",
   "metadata": {},
   "outputs": [],
   "source": []
  },
  {
   "cell_type": "code",
   "execution_count": null,
   "id": "cad83ae2-acd5-41f0-96a2-423197e39543",
   "metadata": {},
   "outputs": [],
   "source": []
  },
  {
   "cell_type": "code",
   "execution_count": null,
   "id": "b94a74ab-fa43-4e6d-8928-02aad2a38968",
   "metadata": {},
   "outputs": [],
   "source": []
  }
 ],
 "metadata": {
  "kernelspec": {
   "display_name": "Python 3",
   "language": "python",
   "name": "python3"
  },
  "language_info": {
   "codemirror_mode": {
    "name": "ipython",
    "version": 3
   },
   "file_extension": ".py",
   "mimetype": "text/x-python",
   "name": "python",
   "nbconvert_exporter": "python",
   "pygments_lexer": "ipython3",
   "version": "3.8.5"
  }
 },
 "nbformat": 4,
 "nbformat_minor": 5
}
