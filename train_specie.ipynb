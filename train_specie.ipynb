{
 "cells": [
  {
   "cell_type": "code",
   "execution_count": 1,
   "id": "ad2bfb14-aecd-4f7f-99a5-61c830bec6d9",
   "metadata": {},
   "outputs": [],
   "source": [
    "import os\n",
    "import time\n",
    "import wandb\n",
    "from tqdm.notebook import tqdm\n",
    "from copy import deepcopy\n",
    "\n",
    "import numpy as np\n",
    "import pandas as pd\n",
    "\n",
    "import torch\n",
    "import torch.nn as nn\n",
    "import torch.optim as optim\n",
    "\n",
    "from torch.utils.data import DataLoader\n",
    "\n",
    "from utils import seed_everything\n",
    "from data import ImageDataset, stratified_kfold, get_train_transforms, get_valid_transforms\n",
    "from model import SpecieClassifier\n",
    "from scheduler import CosineAnnealingWarmupRestarts\n",
    "\n",
    "device = torch.device('cuda' if torch.cuda.is_available() else 'cpu')\n",
    "\n",
    "import os\n",
    "os.environ['CUDA_LAUNCH_BLOCKING'] = \"1\"\n",
    "os.environ[\"CUDA_VISIBLE_DEVICES\"] = \"0\""
   ]
  },
  {
   "cell_type": "code",
   "execution_count": 2,
   "id": "c65d0fe7-39de-426c-9184-3a8859536b29",
   "metadata": {},
   "outputs": [],
   "source": [
    "class Config:\n",
    "    checkpoint = '/root/dl_whale_classification/pths_specie'\n",
    "    test = False\n",
    "    tta = False\n",
    "    resume_epoch = 0\n",
    "    iters_to_accumulate = 1\n",
    "    resume_root = None\n",
    "    wandb_log = True\n",
    "    model_name = 'tf_efficientnet_b3_ns'\n",
    "    fold = 0\n",
    "    n_split = 5\n",
    "    seed = 2022\n",
    "    data_dir = '/root/data2/' # root/data/train_images\n",
    "    root_dir = '.'\n",
    "    batch_size = 24\n",
    "    lr = 1e-4\n",
    "    weight_decay = 0.0005\n",
    "    epoch = 20\n",
    "    exp_name = 'test'\n",
    "config = Config()"
   ]
  },
  {
   "cell_type": "code",
   "execution_count": 3,
   "id": "06571d4f-d3ad-491d-85d9-7e29a2cdc7a8",
   "metadata": {},
   "outputs": [],
   "source": [
    "seed_everything(2022)"
   ]
  },
  {
   "cell_type": "code",
   "execution_count": 4,
   "id": "0e40b185-9dba-4f50-ab4c-aae2c79057a9",
   "metadata": {},
   "outputs": [],
   "source": [
    "df = pd.read_csv('/root/data/train.csv')\n",
    "df.species.replace({\"globis\": \"short_finned_pilot_whale\",\n",
    "                  \"pilot_whale\": \"short_finned_pilot_whale\",\n",
    "                  \"kiler_whale\": \"killer_whale\",\n",
    "                  \"bottlenose_dolpin\": \"bottlenose_dolphin\"}, inplace=True)"
   ]
  },
  {
   "cell_type": "code",
   "execution_count": 5,
   "id": "aa7105f7-62c8-4452-8383-d3e4f4e35e3f",
   "metadata": {},
   "outputs": [],
   "source": [
    "specie_unique = df.species.unique()\n",
    "specie_indices = range(len(specie_unique))\n",
    "species2idx = {k: v for k, v in zip(specie_unique, specie_indices)}\n",
    "df.species = df.species.map(species2idx)\n",
    "\n",
    "individual_unique = df.individual_id.unique()\n",
    "individual_indices = range(len(individual_unique))\n",
    "individual2idx = {k : v for k, v in zip(individual_unique, individual_indices)}\n",
    "df.individual_id = df.individual_id.map(individual2idx)"
   ]
  },
  {
   "cell_type": "code",
   "execution_count": 6,
   "id": "f8514e42-a2b2-4b03-9db3-b759ca21bfbe",
   "metadata": {},
   "outputs": [
    {
     "name": "stdout",
     "output_type": "stream",
     "text": [
      "num_species 26\n",
      "num_individual 15587\n"
     ]
    }
   ],
   "source": [
    "print('num_species', len(df.species.unique()))\n",
    "print('num_individual', len(df.individual_id.unique()))\n",
    "      "
   ]
  },
  {
   "cell_type": "code",
   "execution_count": 7,
   "id": "3443e37e-6393-41b0-9bd9-d8d9d92dec91",
   "metadata": {},
   "outputs": [],
   "source": [
    "df_single = df[df['individual_id'].map(df['individual_id'].value_counts()) == 1]\n",
    "df_others = df[df['individual_id'].map(df['individual_id'].value_counts()) > 1]"
   ]
  },
  {
   "cell_type": "code",
   "execution_count": 8,
   "id": "69764e06-5613-4342-bd1c-2ea0a81d7902",
   "metadata": {},
   "outputs": [
    {
     "name": "stderr",
     "output_type": "stream",
     "text": [
      "/opt/conda/lib/python3.8/site-packages/sklearn/model_selection/_split.py:676: UserWarning: The least populated class in y has only 2 members, which is less than n_splits=5.\n",
      "  warnings.warn(\n"
     ]
    }
   ],
   "source": [
    "train_single, valid_single = stratified_kfold(df=df_single, fold=config.fold, n_split=config.n_split, seed=config.seed, target_col='species')\n",
    "train_others, valid_others = stratified_kfold(df=df_others, fold=config.fold, n_split=config.n_split, seed=config.seed, target_col='species')"
   ]
  },
  {
   "cell_type": "code",
   "execution_count": 9,
   "id": "74c399e4-32ac-4e06-b5df-f75984a60242",
   "metadata": {},
   "outputs": [],
   "source": [
    "train_single_indices = np.take(df_single.index.to_numpy(), train_single)    \n",
    "train_others_indices = np.take(df_others.index.to_numpy(), train_others)\n",
    "valid_single_indices = np.take(df_single.index.to_numpy(), valid_single)\n",
    "valid_others_indices = np.take(df_others.index.to_numpy(), valid_others)"
   ]
  },
  {
   "cell_type": "code",
   "execution_count": 10,
   "id": "4e1c2451-587e-43a6-adf8-8e13d96ebf6a",
   "metadata": {},
   "outputs": [],
   "source": [
    "full_train_indices = np.sort(np.concatenate((train_single_indices, train_others_indices), axis=0))"
   ]
  },
  {
   "cell_type": "code",
   "execution_count": 11,
   "id": "fc3fdd46-847f-4acc-b0d5-07ad92e54700",
   "metadata": {},
   "outputs": [],
   "source": [
    "fnames, labels = df['image'].values, df['species'].values"
   ]
  },
  {
   "cell_type": "code",
   "execution_count": 12,
   "id": "1714bad0-69e6-45a8-962e-dffc89f18a15",
   "metadata": {},
   "outputs": [],
   "source": [
    "fnames_train, labels_train = fnames[full_train_indices], labels[full_train_indices]\n",
    "fnames_valid_single, labels_valid_single = fnames[valid_single_indices], labels[valid_single_indices]\n",
    "fnames_valid_others, labels_valid_others = fnames[valid_others_indices], labels[valid_others_indices]"
   ]
  },
  {
   "cell_type": "code",
   "execution_count": 13,
   "id": "3ab3df49-e185-4e39-b2df-29d6ac843506",
   "metadata": {},
   "outputs": [],
   "source": [
    "train_transforms = get_train_transforms()\n",
    "valid_transforms = get_valid_transforms()"
   ]
  },
  {
   "cell_type": "code",
   "execution_count": 14,
   "id": "dd5f73e2-b89a-4271-a6ff-997e734de772",
   "metadata": {},
   "outputs": [],
   "source": [
    "train_dataset = ImageDataset(path=fnames_train, target=labels_train, transform=train_transforms, root=config.data_dir + '/train_detec_512_v3/')\n",
    "valid_dataset_single = ImageDataset(path=fnames_valid_single, target=labels_valid_single, transform=valid_transforms, root=config.data_dir + '/train_detec_512_v3/')\n",
    "valid_dataset_others = ImageDataset(path=fnames_valid_others, target=labels_valid_others, transform=valid_transforms, root=config.data_dir + '/train_detec_512_v3/')"
   ]
  },
  {
   "cell_type": "code",
   "execution_count": 15,
   "id": "bdb8ed2e-9efc-439f-a9df-de843f2cc8f7",
   "metadata": {},
   "outputs": [],
   "source": [
    "train_loader = DataLoader(train_dataset, batch_size=config.batch_size, shuffle=True, num_workers=8, pin_memory=True, drop_last=True)\n",
    "valid_loader_single = DataLoader(valid_dataset_single, batch_size=config.batch_size*2, shuffle=False, num_workers=8, pin_memory=True)\n",
    "valid_loader_others = DataLoader(valid_dataset_others, batch_size=config.batch_size*2, shuffle=False, num_workers=8, pin_memory=True)"
   ]
  },
  {
   "cell_type": "code",
   "execution_count": 16,
   "id": "d0cbe56b-0f00-4d85-ab78-936b282bb113",
   "metadata": {},
   "outputs": [],
   "source": [
    "model = SpecieClassifier('tf_efficientnet_b3_ns').to(device)"
   ]
  },
  {
   "cell_type": "code",
   "execution_count": 17,
   "id": "8bb8e343-3b5d-4014-9f07-d17449e70a37",
   "metadata": {},
   "outputs": [],
   "source": [
    "criterion = nn.CrossEntropyLoss().to(device)\n",
    "optimizer = optim.AdamW(model.parameters(), lr=config.lr, weight_decay=config.weight_decay)"
   ]
  },
  {
   "cell_type": "code",
   "execution_count": 18,
   "id": "3c713a4a-a0bd-41fa-95ca-fe06b49ebf03",
   "metadata": {},
   "outputs": [],
   "source": [
    "cosine_annealing_scheduler_arg = dict(\n",
    "    first_cycle_steps=len(train_dataset)//config.batch_size*config.epoch,\n",
    "    cycle_mult=1.0,\n",
    "    max_lr=config.lr,\n",
    "    min_lr=1e-07,\n",
    "    warmup_steps=len(train_dataset)//config.batch_size*3, # wanrm up 0~3 epoch\n",
    "    gamma=0.9\n",
    ")"
   ]
  },
  {
   "cell_type": "code",
   "execution_count": 19,
   "id": "5c175981-f637-4d08-916d-8f467b362d33",
   "metadata": {},
   "outputs": [],
   "source": [
    "scheduler = CosineAnnealingWarmupRestarts(optimizer, **cosine_annealing_scheduler_arg)"
   ]
  },
  {
   "cell_type": "code",
   "execution_count": 20,
   "id": "d164bb3b-ea0e-473c-a6d2-21d02bd46207",
   "metadata": {},
   "outputs": [
    {
     "name": "stderr",
     "output_type": "stream",
     "text": [
      "Failed to detect the name of this notebook, you can set it manually with the WANDB_NOTEBOOK_NAME environment variable to enable code saving.\n",
      "\u001b[34m\u001b[1mwandb\u001b[0m: Currently logged in as: \u001b[33mjcdata\u001b[0m (use `wandb login --relogin` to force relogin)\n"
     ]
    },
    {
     "data": {
      "text/html": [
       "Tracking run with wandb version 0.12.11"
      ],
      "text/plain": [
       "<IPython.core.display.HTML object>"
      ]
     },
     "metadata": {},
     "output_type": "display_data"
    },
    {
     "data": {
      "text/html": [
       "Run data is saved locally in <code>/root/dl_whale_classification/wandb/run-20220329_052756-z3yfhva5</code>"
      ],
      "text/plain": [
       "<IPython.core.display.HTML object>"
      ]
     },
     "metadata": {},
     "output_type": "display_data"
    },
    {
     "data": {
      "text/html": [
       "Syncing run <strong><a href=\"https://wandb.ai/jcdata/tf_efficientnet_b3_ns/runs/z3yfhva5\" target=\"_blank\">test_fold0</a></strong> to <a href=\"https://wandb.ai/jcdata/tf_efficientnet_b3_ns\" target=\"_blank\">Weights & Biases</a> (<a href=\"https://wandb.me/run\" target=\"_blank\">docs</a>)<br/>"
      ],
      "text/plain": [
       "<IPython.core.display.HTML object>"
      ]
     },
     "metadata": {},
     "output_type": "display_data"
    }
   ],
   "source": [
    "if config.wandb_log:\n",
    "    run = wandb.init(config=config.__dict__,\n",
    "                project=config.model_name, \n",
    "                settings=wandb.Settings(start_method=\"thread\"), \n",
    "                name=f\"{config.exp_name}_fold{config.fold}\",\n",
    "                reinit=True)"
   ]
  },
  {
   "cell_type": "code",
   "execution_count": 21,
   "id": "6f875601-e1c9-4ffe-bf3c-b01011f75850",
   "metadata": {},
   "outputs": [],
   "source": [
    "grad_scaler = torch.cuda.amp.GradScaler()\n",
    "\n",
    "best_model = None\n",
    "best_acc,  best_epoch = 0, 0"
   ]
  },
  {
   "cell_type": "code",
   "execution_count": 22,
   "id": "abc5d5c2-b1ad-4eca-988b-70c766f38132",
   "metadata": {},
   "outputs": [],
   "source": [
    "if config.resume_root is not None:\n",
    "    check = torch.load(config.resume_root)\n",
    "    model.load_state_dict(check['model'])\n",
    "    optimizer.load_state_dict(check['optimizer'])\n",
    "    scheduler.load_state_dict(check['scheduler'])\n",
    "    print('loaded checkpoint')"
   ]
  },
  {
   "cell_type": "markdown",
   "id": "97e0f98d-5368-42e8-92b2-574f8dddbe62",
   "metadata": {},
   "source": [
    "# Train Functions"
   ]
  },
  {
   "cell_type": "code",
   "execution_count": 23,
   "id": "a4f0c62e-842f-49b5-b5bd-f45ece5a66b4",
   "metadata": {},
   "outputs": [],
   "source": [
    "def train_one_epoch(model, optimizer, criterion, loader, scheduler, scaler=None, iters_to_accumulate=1):\n",
    "    model.train()\n",
    "    \n",
    "    match = 0\n",
    "    top_k_match = 0\n",
    "    \n",
    "    losses, y_true, y_pred = [], [], []\n",
    "    for i, (x, y) in enumerate(tqdm(loader)):\n",
    "        x, y = x.to(device), y.to(device)\n",
    "        \n",
    "        if scaler is not None:\n",
    "            with torch.cuda.amp.autocast():\n",
    "                output = model(x) \n",
    "                loss = criterion(output, y)\n",
    "                \n",
    "            scaler.scale(loss).backward()\n",
    "\n",
    "            if ((i + 1) % iters_to_accumulate == 0) or ((i + 1) == len(loader)):\n",
    "                scaler.step(optimizer)\n",
    "                scaler.update()\n",
    "                optimizer.zero_grad()\n",
    "        \n",
    "\n",
    "        else:\n",
    "            output = model(x, y) \n",
    "            loss = criterion(output, y)\n",
    "\n",
    "            optimizer.zero_grad()\n",
    "            loss.backward()\n",
    "            optimizer.step()\n",
    "        \n",
    "        match += (torch.argmax(output.detach().cpu(), dim=-1) == y.detach().cpu()).sum()\n",
    "        top_k_match += (output.detach().topk(2, dim=-1).indices.cpu() == y.detach().cpu()[:, None]).sum()\n",
    "        scheduler.step()\n",
    "\n",
    "        losses.append(loss.detach().cpu().item())\n",
    "        # if i == 10:\n",
    "        #     break\n",
    "        \n",
    "    return np.mean(losses), match, top_k_match\n"
   ]
  },
  {
   "cell_type": "code",
   "execution_count": 24,
   "id": "1295dffa-6bd4-4400-b7d5-6cbe2d8aa532",
   "metadata": {},
   "outputs": [],
   "source": [
    "def valid_one_epoch(model, criterion, loader, tta=False):\n",
    "    model.eval()\n",
    "    \n",
    "    match = 0\n",
    "    top_k_match = 0\n",
    "\n",
    "    losses, y_trues, y_preds, tta_embed = [], [], [], []\n",
    "    with torch.no_grad():\n",
    "        for idx, (x, y) in tqdm(enumerate(loader)):\n",
    "            x, y = x.to(device), y.to(device)\n",
    "            with torch.cuda.amp.autocast():\n",
    "                output = model(x) \n",
    "                loss = criterion(output, y)\n",
    "  \n",
    "            match += (torch.argmax(output.detach().cpu(), dim=-1) == y.detach().cpu()).sum()\n",
    "            top_k_match += (output.detach().topk(2, dim=-1).indices.cpu() == y.detach().cpu()[:, None]).sum()\n",
    "            losses.append(loss.detach().cpu().item())\n",
    "            \n",
    "            y_preds.extend(np.argmax(output.detach().cpu().numpy(), axis=-1))\n",
    "            y_trues.extend(y.detach().cpu().numpy())\n",
    "            \n",
    "    return np.mean(losses), match, top_k_match, np.array(y_preds), np.array(y_trues)"
   ]
  },
  {
   "cell_type": "markdown",
   "id": "0a645c01-6050-4ed7-9b91-abcbe45121a5",
   "metadata": {
    "tags": []
   },
   "source": [
    "# Train"
   ]
  },
  {
   "cell_type": "code",
   "execution_count": null,
   "id": "64ac3fb1-cb07-4a61-aeac-ef7f72fbcc96",
   "metadata": {
    "tags": []
   },
   "outputs": [
    {
     "name": "stdout",
     "output_type": "stream",
     "text": [
      "Start Training\n",
      "epoch: 0\n"
     ]
    },
    {
     "data": {
      "application/vnd.jupyter.widget-view+json": {
       "model_id": "ea5611ecfa8e407bad36d6a890b00721",
       "version_major": 2,
       "version_minor": 0
      },
      "text/plain": [
       "HBox(children=(HTML(value=''), FloatProgress(value=0.0, max=1701.0), HTML(value='')))"
      ]
     },
     "metadata": {},
     "output_type": "display_data"
    },
    {
     "name": "stdout",
     "output_type": "stream",
     "text": [
      "\n"
     ]
    },
    {
     "data": {
      "application/vnd.jupyter.widget-view+json": {
       "model_id": "8dab9f589fe0480582841d0f983af3af",
       "version_major": 2,
       "version_minor": 0
      },
      "text/plain": [
       "HBox(children=(HTML(value=''), FloatProgress(value=1.0, bar_style='info', layout=Layout(width='20px'), max=1.0…"
      ]
     },
     "metadata": {},
     "output_type": "display_data"
    },
    {
     "name": "stdout",
     "output_type": "stream",
     "text": [
      "\n"
     ]
    },
    {
     "data": {
      "application/vnd.jupyter.widget-view+json": {
       "model_id": "0f46e12291c043ea9873f797fe591a70",
       "version_major": 2,
       "version_minor": 0
      },
      "text/plain": [
       "HBox(children=(HTML(value=''), FloatProgress(value=1.0, bar_style='info', layout=Layout(width='20px'), max=1.0…"
      ]
     },
     "metadata": {},
     "output_type": "display_data"
    },
    {
     "name": "stdout",
     "output_type": "stream",
     "text": [
      "\n",
      "train loss 1.6808 acc 22959.0000 topk 27200.0000\n",
      "valid loss (single) 0.5072 acc 0.8553 topk 0.9174\n",
      "valid loss (others) 0.3431 acc 0.9053 topk 0.9469\n",
      "lr 1e-07 time 1738.09s\n",
      "-------------------- class (single) --------------------\n",
      "00-#0228 : 0.833333 / 01-#0370 : 0.970270 / 02-#0008 : 0.625000 / 03-#0051 : 0.941176 / \n",
      "04-#0052 : 1.000000 / 05-#0007 : 0.714286 / 06-#0062 : 0.838710 / 07-#0185 : 0.978378 / \n",
      "08-#0011 : 1.000000 / 09-#0061 : 1.000000 / 10-#0002 : 0.000000 / 11-#0031 : 0.870968 / \n",
      "12-#0045 : 0.244444 / 13-#0492 : 0.989837 / 14-#0012 : 0.000000 / 15-#0017 : 0.117647 / \n",
      "16-#0104 : 0.894231 / 17-#0021 : 0.000000 / 18-#0036 : 0.000000 / 19-#0004 : 0.000000 / \n",
      "20-#0010 : 0.000000 / 21-#0027 : 0.000000 / 22-#0007 : 0.000000 / 23-#0005 : 0.000000 / \n",
      "24-#0002 : 0.000000 / 25-#0002 : 0.000000 / \n",
      "-------------------- class (others) --------------------\n",
      "00-#0111 : 0.864865 / 01-#1109 : 0.963030 / 02-#0657 : 0.856925 / 03-#2105 : 0.983848 / \n",
      "04-#1436 : 0.990251 / 05-#0315 : 0.901587 / 06-#0203 : 0.729064 / 07-#0781 : 0.985915 / \n",
      "08-#0214 : 0.925234 / 09-#0111 : 1.000000 / 10-#0068 : 0.000000 / 11-#0460 : 0.917391 / \n",
      "12-#0105 : 0.533333 / 13-#0136 : 0.992647 / 14-#0035 : 0.000000 / 15-#0069 : 0.115942 / \n",
      "16-#0237 : 0.890295 / 17-#0046 : 0.000000 / 18-#0061 : 0.016393 / 19-#0027 : 0.000000 / \n",
      "20-#0008 : 0.000000 / 21-#0018 : 0.000000 / 22-#0005 : 0.000000 / 23-#0024 : 0.000000 / \n",
      "24-#0014 : 0.000000 / 25-#0000 : 0nan / \n",
      "best acc updated 0.8552916049957275\n"
     ]
    },
    {
     "name": "stderr",
     "output_type": "stream",
     "text": [
      "<ipython-input-25-8f53dd3d1892>:25: RuntimeWarning: invalid value encountered in long_scalars\n",
      "  print(f\"{i:02d}-#{(valid_trues2==i).sum():04d} : {((valid_preds2==i)&(valid_trues2==i)).sum()/(valid_trues2==i).sum():04f}\", end=' / ')\n"
     ]
    },
    {
     "name": "stdout",
     "output_type": "stream",
     "text": [
      "epoch: 1\n"
     ]
    },
    {
     "data": {
      "application/vnd.jupyter.widget-view+json": {
       "model_id": "770776df332d48aa980caf7898ad63d7",
       "version_major": 2,
       "version_minor": 0
      },
      "text/plain": [
       "HBox(children=(HTML(value=''), FloatProgress(value=0.0, max=1701.0), HTML(value='')))"
      ]
     },
     "metadata": {},
     "output_type": "display_data"
    },
    {
     "name": "stdout",
     "output_type": "stream",
     "text": [
      "\n"
     ]
    },
    {
     "data": {
      "application/vnd.jupyter.widget-view+json": {
       "model_id": "a5a8b281d61441959e33e7ea217f3e51",
       "version_major": 2,
       "version_minor": 0
      },
      "text/plain": [
       "HBox(children=(HTML(value=''), FloatProgress(value=1.0, bar_style='info', layout=Layout(width='20px'), max=1.0…"
      ]
     },
     "metadata": {},
     "output_type": "display_data"
    },
    {
     "name": "stdout",
     "output_type": "stream",
     "text": [
      "\n"
     ]
    },
    {
     "data": {
      "application/vnd.jupyter.widget-view+json": {
       "model_id": "69976dcb18e04fd690bb10edbe1e373c",
       "version_major": 2,
       "version_minor": 0
      },
      "text/plain": [
       "HBox(children=(HTML(value=''), FloatProgress(value=1.0, bar_style='info', layout=Layout(width='20px'), max=1.0…"
      ]
     },
     "metadata": {},
     "output_type": "display_data"
    },
    {
     "name": "stdout",
     "output_type": "stream",
     "text": [
      "\n",
      "train loss 0.2762 acc 37601.0000 topk 39286.0000\n",
      "valid loss (single) 0.1465 acc 0.9552 topk 0.9811\n",
      "valid loss (others) 0.1165 acc 0.9700 topk 0.9872\n",
      "lr 3.34e-05 time 3482.14s\n",
      "-------------------- class (single) --------------------\n",
      "00-#0228 : 0.991228 / 01-#0370 : 0.994595 / 02-#0008 : 0.500000 / 03-#0051 : 0.882353 / \n",
      "04-#0052 : 1.000000 / 05-#0007 : 0.714286 / 06-#0062 : 0.887097 / 07-#0185 : 0.956757 / \n",
      "08-#0011 : 1.000000 / 09-#0061 : 1.000000 / 10-#0002 : 1.000000 / 11-#0031 : 0.935484 / \n",
      "12-#0045 : 0.844444 / 13-#0492 : 0.989837 / 14-#0012 : 0.666667 / 15-#0017 : 0.941176 / \n",
      "16-#0104 : 0.961538 / 17-#0021 : 0.857143 / 18-#0036 : 0.916667 / 19-#0004 : 0.250000 / \n",
      "20-#0010 : 0.600000 / 21-#0027 : 0.962963 / 22-#0007 : 0.000000 / 23-#0005 : 0.200000 / \n",
      "24-#0002 : 0.000000 / 25-#0002 : 0.000000 / \n",
      "-------------------- class (others) --------------------\n",
      "00-#0111 : 0.981982 / 01-#1109 : 0.982867 / 02-#0657 : 0.957382 / 03-#2105 : 0.987173 / \n",
      "04-#1436 : 0.997214 / 05-#0315 : 0.974603 / 06-#0203 : 0.931034 / 07-#0781 : 0.978233 / \n",
      "08-#0214 : 0.976636 / 09-#0111 : 1.000000 / 10-#0068 : 0.838235 / 11-#0460 : 0.978261 / \n",
      "12-#0105 : 0.914286 / 13-#0136 : 0.977941 / 14-#0035 : 0.914286 / 15-#0069 : 0.971014 / \n",
      "16-#0237 : 0.974684 / 17-#0046 : 0.695652 / 18-#0061 : 0.868852 / 19-#0027 : 0.222222 / \n",
      "20-#0008 : 0.875000 / 21-#0018 : 0.944444 / 22-#0005 : 0.000000 / 23-#0024 : 0.208333 / \n",
      "24-#0014 : 0.000000 / 25-#0000 : 0nan / \n",
      "best acc updated 0.9551835656166077\n",
      "epoch: 2\n"
     ]
    },
    {
     "data": {
      "application/vnd.jupyter.widget-view+json": {
       "model_id": "663b4ffb49f74370b45df4685b11e2c8",
       "version_major": 2,
       "version_minor": 0
      },
      "text/plain": [
       "HBox(children=(HTML(value=''), FloatProgress(value=0.0, max=1701.0), HTML(value='')))"
      ]
     },
     "metadata": {},
     "output_type": "display_data"
    },
    {
     "name": "stdout",
     "output_type": "stream",
     "text": [
      "\n"
     ]
    },
    {
     "data": {
      "application/vnd.jupyter.widget-view+json": {
       "model_id": "a71d8d77c08d4eb290c7ba3d9c85dd66",
       "version_major": 2,
       "version_minor": 0
      },
      "text/plain": [
       "HBox(children=(HTML(value=''), FloatProgress(value=1.0, bar_style='info', layout=Layout(width='20px'), max=1.0…"
      ]
     },
     "metadata": {},
     "output_type": "display_data"
    },
    {
     "name": "stdout",
     "output_type": "stream",
     "text": [
      "\n"
     ]
    },
    {
     "data": {
      "application/vnd.jupyter.widget-view+json": {
       "model_id": "88cf2433ebf94b50807083621d6c18aa",
       "version_major": 2,
       "version_minor": 0
      },
      "text/plain": [
       "HBox(children=(HTML(value=''), FloatProgress(value=1.0, bar_style='info', layout=Layout(width='20px'), max=1.0…"
      ]
     },
     "metadata": {},
     "output_type": "display_data"
    },
    {
     "name": "stdout",
     "output_type": "stream",
     "text": [
      "\n",
      "train loss 0.1382 acc 39140.0000 topk 40202.0000\n",
      "valid loss (single) 0.1422 acc 0.9573 topk 0.9849\n",
      "valid loss (others) 0.1103 acc 0.9710 topk 0.9914\n",
      "lr 6.67e-05 time 5234.42s\n",
      "-------------------- class (single) --------------------\n",
      "00-#0228 : 0.956140 / 01-#0370 : 0.983784 / 02-#0008 : 0.750000 / 03-#0051 : 0.941176 / \n",
      "04-#0052 : 0.980769 / 05-#0007 : 0.714286 / 06-#0062 : 0.967742 / 07-#0185 : 0.945946 / \n",
      "08-#0011 : 1.000000 / 09-#0061 : 1.000000 / 10-#0002 : 1.000000 / 11-#0031 : 0.935484 / \n",
      "12-#0045 : 0.933333 / 13-#0492 : 0.985772 / 14-#0012 : 0.916667 / 15-#0017 : 1.000000 / \n",
      "16-#0104 : 0.951923 / 17-#0021 : 0.809524 / 18-#0036 : 0.916667 / 19-#0004 : 0.250000 / \n",
      "20-#0010 : 1.000000 / 21-#0027 : 1.000000 / 22-#0007 : 0.000000 / 23-#0005 : 0.200000 / \n",
      "24-#0002 : 0.000000 / 25-#0002 : 0.000000 / \n",
      "-------------------- class (others) --------------------\n",
      "00-#0111 : 0.900901 / 01-#1109 : 0.983769 / 02-#0657 : 0.974125 / 03-#2105 : 0.994774 / \n",
      "04-#1436 : 0.986769 / 05-#0315 : 0.961905 / 06-#0203 : 0.990148 / 07-#0781 : 0.942382 / \n",
      "08-#0214 : 0.990654 / 09-#0111 : 1.000000 / 10-#0068 : 0.911765 / 11-#0460 : 0.973913 / \n",
      "12-#0105 : 0.961905 / 13-#0136 : 0.970588 / 14-#0035 : 0.942857 / 15-#0069 : 0.985507 / \n",
      "16-#0237 : 0.881857 / 17-#0046 : 0.826087 / 18-#0061 : 0.868852 / 19-#0027 : 0.925926 / \n",
      "20-#0008 : 1.000000 / 21-#0018 : 1.000000 / 22-#0005 : 0.000000 / 23-#0024 : 0.500000 / \n",
      "24-#0014 : 0.071429 / 25-#0000 : 0nan / \n",
      "best acc updated 0.9573433995246887\n",
      "epoch: 3\n"
     ]
    },
    {
     "data": {
      "application/vnd.jupyter.widget-view+json": {
       "model_id": "3c53f7efa4ca4a329c9905ea0b0a0c36",
       "version_major": 2,
       "version_minor": 0
      },
      "text/plain": [
       "HBox(children=(HTML(value=''), FloatProgress(value=0.0, max=1701.0), HTML(value='')))"
      ]
     },
     "metadata": {},
     "output_type": "display_data"
    },
    {
     "name": "stdout",
     "output_type": "stream",
     "text": [
      "\n"
     ]
    },
    {
     "data": {
      "application/vnd.jupyter.widget-view+json": {
       "model_id": "48218d3e1b77434580330d936391b95c",
       "version_major": 2,
       "version_minor": 0
      },
      "text/plain": [
       "HBox(children=(HTML(value=''), FloatProgress(value=1.0, bar_style='info', layout=Layout(width='20px'), max=1.0…"
      ]
     },
     "metadata": {},
     "output_type": "display_data"
    },
    {
     "name": "stdout",
     "output_type": "stream",
     "text": [
      "\n"
     ]
    },
    {
     "data": {
      "application/vnd.jupyter.widget-view+json": {
       "model_id": "0b6e0404ff724460a84890fe59325813",
       "version_major": 2,
       "version_minor": 0
      },
      "text/plain": [
       "HBox(children=(HTML(value=''), FloatProgress(value=1.0, bar_style='info', layout=Layout(width='20px'), max=1.0…"
      ]
     },
     "metadata": {},
     "output_type": "display_data"
    },
    {
     "name": "stdout",
     "output_type": "stream",
     "text": [
      "\n",
      "train loss 0.0893 acc 39686.0000 topk 40477.0000\n",
      "valid loss (single) 0.0767 acc 0.9746 topk 0.9919\n",
      "valid loss (others) 0.0743 acc 0.9812 topk 0.9951\n",
      "lr 0.0001 time 7050.00s\n",
      "-------------------- class (single) --------------------\n",
      "00-#0228 : 0.956140 / 01-#0370 : 0.997297 / 02-#0008 : 0.750000 / 03-#0051 : 0.980392 / \n",
      "04-#0052 : 1.000000 / 05-#0007 : 0.428571 / 06-#0062 : 0.951613 / 07-#0185 : 0.989189 / \n",
      "08-#0011 : 1.000000 / 09-#0061 : 1.000000 / 10-#0002 : 1.000000 / 11-#0031 : 1.000000 / \n",
      "12-#0045 : 0.866667 / 13-#0492 : 0.997967 / 14-#0012 : 0.916667 / 15-#0017 : 0.941176 / \n",
      "16-#0104 : 0.990385 / 17-#0021 : 0.904762 / 18-#0036 : 0.944444 / 19-#0004 : 1.000000 / \n",
      "20-#0010 : 1.000000 / 21-#0027 : 0.925926 / 22-#0007 : 0.571429 / 23-#0005 : 0.600000 / \n",
      "24-#0002 : 0.500000 / 25-#0002 : 0.000000 / \n",
      "-------------------- class (others) --------------------\n",
      "00-#0111 : 0.873874 / 01-#1109 : 0.995491 / 02-#0657 : 0.983257 / 03-#2105 : 0.993349 / \n",
      "04-#1436 : 0.972841 / 05-#0315 : 0.968254 / 06-#0203 : 0.970443 / 07-#0781 : 0.991037 / \n",
      "08-#0214 : 0.948598 / 09-#0111 : 1.000000 / 10-#0068 : 0.955882 / 11-#0460 : 0.986957 / \n",
      "12-#0105 : 0.923810 / 13-#0136 : 1.000000 / 14-#0035 : 0.914286 / 15-#0069 : 1.000000 / \n",
      "16-#0237 : 0.991561 / 17-#0046 : 0.934783 / 18-#0061 : 1.000000 / 19-#0027 : 0.962963 / \n",
      "20-#0008 : 1.000000 / 21-#0018 : 1.000000 / 22-#0005 : 0.600000 / 23-#0024 : 0.833333 / \n",
      "24-#0014 : 0.428571 / 25-#0000 : 0nan / \n",
      "best acc updated 0.9746220111846924\n",
      "epoch: 4\n"
     ]
    },
    {
     "data": {
      "application/vnd.jupyter.widget-view+json": {
       "model_id": "53141695faa14c1c9991b54533633b87",
       "version_major": 2,
       "version_minor": 0
      },
      "text/plain": [
       "HBox(children=(HTML(value=''), FloatProgress(value=0.0, max=1701.0), HTML(value='')))"
      ]
     },
     "metadata": {},
     "output_type": "display_data"
    },
    {
     "name": "stdout",
     "output_type": "stream",
     "text": [
      "\n"
     ]
    },
    {
     "data": {
      "application/vnd.jupyter.widget-view+json": {
       "model_id": "aaf5ee5911a94e978ce823be93f6411e",
       "version_major": 2,
       "version_minor": 0
      },
      "text/plain": [
       "HBox(children=(HTML(value=''), FloatProgress(value=1.0, bar_style='info', layout=Layout(width='20px'), max=1.0…"
      ]
     },
     "metadata": {},
     "output_type": "display_data"
    },
    {
     "name": "stdout",
     "output_type": "stream",
     "text": [
      "\n"
     ]
    },
    {
     "data": {
      "application/vnd.jupyter.widget-view+json": {
       "model_id": "c16bf20ec841443a957f00a3279079e9",
       "version_major": 2,
       "version_minor": 0
      },
      "text/plain": [
       "HBox(children=(HTML(value=''), FloatProgress(value=1.0, bar_style='info', layout=Layout(width='20px'), max=1.0…"
      ]
     },
     "metadata": {},
     "output_type": "display_data"
    },
    {
     "name": "stdout",
     "output_type": "stream",
     "text": [
      "\n",
      "train loss 0.0619 acc 40019.0000 topk 40642.0000\n",
      "valid loss (single) 0.0631 acc 0.9795 topk 0.9924\n",
      "valid loss (others) 0.0644 acc 0.9840 topk 0.9950\n",
      "lr 9.914950632921091e-05 time 8803.07s\n",
      "-------------------- class (single) --------------------\n",
      "00-#0228 : 0.986842 / 01-#0370 : 0.994595 / 02-#0008 : 0.500000 / 03-#0051 : 0.921569 / \n",
      "04-#0052 : 1.000000 / 05-#0007 : 0.714286 / 06-#0062 : 0.983871 / 07-#0185 : 0.994595 / \n",
      "08-#0011 : 1.000000 / 09-#0061 : 1.000000 / 10-#0002 : 1.000000 / 11-#0031 : 0.967742 / \n",
      "12-#0045 : 0.955556 / 13-#0492 : 0.997967 / 14-#0012 : 0.916667 / 15-#0017 : 1.000000 / \n",
      "16-#0104 : 0.971154 / 17-#0021 : 0.952381 / 18-#0036 : 0.861111 / 19-#0004 : 1.000000 / \n",
      "20-#0010 : 0.900000 / 21-#0027 : 1.000000 / 22-#0007 : 0.714286 / 23-#0005 : 0.600000 / \n",
      "24-#0002 : 0.500000 / 25-#0002 : 0.500000 / \n",
      "-------------------- class (others) --------------------\n",
      "00-#0111 : 0.945946 / 01-#1109 : 0.985573 / 02-#0657 : 0.971081 / 03-#2105 : 0.988124 / \n",
      "04-#1436 : 0.998607 / 05-#0315 : 0.974603 / 06-#0203 : 0.975369 / 07-#0781 : 0.983355 / \n",
      "08-#0214 : 0.995327 / 09-#0111 : 1.000000 / 10-#0068 : 0.955882 / 11-#0460 : 0.984783 / \n",
      "12-#0105 : 0.980952 / 13-#0136 : 1.000000 / 14-#0035 : 0.942857 / 15-#0069 : 0.985507 / \n",
      "16-#0237 : 0.991561 / 17-#0046 : 0.891304 / 18-#0061 : 0.918033 / 19-#0027 : 0.888889 / \n",
      "20-#0008 : 1.000000 / 21-#0018 : 1.000000 / 22-#0005 : 0.600000 / 23-#0024 : 0.916667 / \n",
      "24-#0014 : 0.642857 / 25-#0000 : 0nan / \n",
      "best acc updated 0.9794816374778748\n",
      "epoch: 5\n"
     ]
    },
    {
     "data": {
      "application/vnd.jupyter.widget-view+json": {
       "model_id": "89784525cee94e2ea01e422321b6a9c8",
       "version_major": 2,
       "version_minor": 0
      },
      "text/plain": [
       "HBox(children=(HTML(value=''), FloatProgress(value=0.0, max=1701.0), HTML(value='')))"
      ]
     },
     "metadata": {},
     "output_type": "display_data"
    },
    {
     "name": "stdout",
     "output_type": "stream",
     "text": [
      "\n"
     ]
    },
    {
     "data": {
      "application/vnd.jupyter.widget-view+json": {
       "model_id": "f085f952458d4ac6bc2be3eca802e6ab",
       "version_major": 2,
       "version_minor": 0
      },
      "text/plain": [
       "HBox(children=(HTML(value=''), FloatProgress(value=1.0, bar_style='info', layout=Layout(width='20px'), max=1.0…"
      ]
     },
     "metadata": {},
     "output_type": "display_data"
    },
    {
     "name": "stdout",
     "output_type": "stream",
     "text": [
      "\n"
     ]
    },
    {
     "data": {
      "application/vnd.jupyter.widget-view+json": {
       "model_id": "7b1fb66d25c145a890709b7c1e9c8496",
       "version_major": 2,
       "version_minor": 0
      },
      "text/plain": [
       "HBox(children=(HTML(value=''), FloatProgress(value=1.0, bar_style='info', layout=Layout(width='20px'), max=1.0…"
      ]
     },
     "metadata": {},
     "output_type": "display_data"
    },
    {
     "name": "stdout",
     "output_type": "stream",
     "text": [
      "\n",
      "train loss 0.0493 acc 40191.0000 topk 40667.0000\n",
      "valid loss (single) 0.0647 acc 0.9768 topk 0.9930\n",
      "valid loss (others) 0.0649 acc 0.9855 topk 0.9958\n",
      "lr 9.662698785874757e-05 time 10632.19s\n",
      "-------------------- class (single) --------------------\n",
      "00-#0228 : 0.982456 / 01-#0370 : 0.994595 / 02-#0008 : 0.625000 / 03-#0051 : 0.823529 / \n",
      "04-#0052 : 1.000000 / 05-#0007 : 0.714286 / 06-#0062 : 0.967742 / 07-#0185 : 0.978378 / \n",
      "08-#0011 : 1.000000 / 09-#0061 : 0.983607 / 10-#0002 : 1.000000 / 11-#0031 : 1.000000 / \n",
      "12-#0045 : 0.977778 / 13-#0492 : 0.993902 / 14-#0012 : 0.833333 / 15-#0017 : 0.882353 / \n",
      "16-#0104 : 0.980769 / 17-#0021 : 0.952381 / 18-#0036 : 0.972222 / 19-#0004 : 1.000000 / \n",
      "20-#0010 : 0.900000 / 21-#0027 : 1.000000 / 22-#0007 : 0.714286 / 23-#0005 : 0.800000 / \n",
      "24-#0002 : 1.000000 / 25-#0002 : 1.000000 / \n",
      "-------------------- class (others) --------------------\n",
      "00-#0111 : 0.963964 / 01-#1109 : 0.990081 / 02-#0657 : 0.975647 / 03-#2105 : 0.984798 / \n",
      "04-#1436 : 0.997911 / 05-#0315 : 0.971429 / 06-#0203 : 0.980296 / 07-#0781 : 0.989757 / \n",
      "08-#0214 : 0.976636 / 09-#0111 : 1.000000 / 10-#0068 : 0.985294 / 11-#0460 : 0.993478 / \n",
      "12-#0105 : 0.990476 / 13-#0136 : 0.992647 / 14-#0035 : 0.942857 / 15-#0069 : 0.985507 / \n",
      "16-#0237 : 0.983122 / 17-#0046 : 0.934783 / 18-#0061 : 1.000000 / 19-#0027 : 0.962963 / \n",
      "20-#0008 : 1.000000 / 21-#0018 : 1.000000 / 22-#0005 : 0.600000 / 23-#0024 : 0.625000 / \n",
      "24-#0014 : 0.928571 / 25-#0000 : 0nan / \n",
      "epoch: 6\n"
     ]
    },
    {
     "data": {
      "application/vnd.jupyter.widget-view+json": {
       "model_id": "d185463abaae429fa745352c89cb0e00",
       "version_major": 2,
       "version_minor": 0
      },
      "text/plain": [
       "HBox(children=(HTML(value=''), FloatProgress(value=0.0, max=1701.0), HTML(value='')))"
      ]
     },
     "metadata": {},
     "output_type": "display_data"
    },
    {
     "name": "stdout",
     "output_type": "stream",
     "text": [
      "\n"
     ]
    },
    {
     "data": {
      "application/vnd.jupyter.widget-view+json": {
       "model_id": "3b99d281336d4406b4caf744bfc2a626",
       "version_major": 2,
       "version_minor": 0
      },
      "text/plain": [
       "HBox(children=(HTML(value=''), FloatProgress(value=1.0, bar_style='info', layout=Layout(width='20px'), max=1.0…"
      ]
     },
     "metadata": {},
     "output_type": "display_data"
    },
    {
     "name": "stdout",
     "output_type": "stream",
     "text": [
      "\n"
     ]
    },
    {
     "data": {
      "application/vnd.jupyter.widget-view+json": {
       "model_id": "024ac62834ab40418b6acbe78b589846",
       "version_major": 2,
       "version_minor": 0
      },
      "text/plain": [
       "HBox(children=(HTML(value=''), FloatProgress(value=1.0, bar_style='info', layout=Layout(width='20px'), max=1.0…"
      ]
     },
     "metadata": {},
     "output_type": "display_data"
    },
    {
     "name": "stdout",
     "output_type": "stream",
     "text": [
      "\n",
      "train loss 0.0383 acc 40321.0000 topk 40709.0000\n",
      "valid loss (single) 0.0717 acc 0.9795 topk 0.9935\n",
      "valid loss (others) 0.0827 acc 0.9848 topk 0.9947\n",
      "lr 9.251834592969423e-05 time 12452.81s\n",
      "-------------------- class (single) --------------------\n",
      "00-#0228 : 0.991228 / 01-#0370 : 1.000000 / 02-#0008 : 0.875000 / 03-#0051 : 0.980392 / \n",
      "04-#0052 : 1.000000 / 05-#0007 : 0.714286 / 06-#0062 : 0.983871 / 07-#0185 : 1.000000 / \n",
      "08-#0011 : 1.000000 / 09-#0061 : 1.000000 / 10-#0002 : 1.000000 / 11-#0031 : 0.967742 / \n",
      "12-#0045 : 0.866667 / 13-#0492 : 0.995935 / 14-#0012 : 0.916667 / 15-#0017 : 0.941176 / \n",
      "16-#0104 : 0.971154 / 17-#0021 : 0.857143 / 18-#0036 : 0.944444 / 19-#0004 : 0.750000 / \n",
      "20-#0010 : 1.000000 / 21-#0027 : 1.000000 / 22-#0007 : 0.285714 / 23-#0005 : 0.400000 / \n",
      "24-#0002 : 0.000000 / 25-#0002 : 0.500000 / \n",
      "-------------------- class (others) --------------------\n",
      "00-#0111 : 0.981982 / 01-#1109 : 0.992786 / 02-#0657 : 0.992390 / 03-#2105 : 0.991449 / \n",
      "04-#1436 : 0.999304 / 05-#0315 : 0.984127 / 06-#0203 : 0.955665 / 07-#0781 : 0.989757 / \n",
      "08-#0214 : 0.976636 / 09-#0111 : 1.000000 / 10-#0068 : 0.955882 / 11-#0460 : 0.986957 / \n",
      "12-#0105 : 0.933333 / 13-#0136 : 1.000000 / 14-#0035 : 0.971429 / 15-#0069 : 0.985507 / \n",
      "16-#0237 : 0.924051 / 17-#0046 : 0.847826 / 18-#0061 : 0.983607 / 19-#0027 : 0.851852 / \n",
      "20-#0008 : 1.000000 / 21-#0018 : 1.000000 / 22-#0005 : 0.000000 / 23-#0024 : 0.666667 / \n",
      "24-#0014 : 0.642857 / 25-#0000 : 0nan / \n",
      "epoch: 7\n"
     ]
    },
    {
     "data": {
      "application/vnd.jupyter.widget-view+json": {
       "model_id": "aeaa5a75c08842d9aca915b85fb3eb71",
       "version_major": 2,
       "version_minor": 0
      },
      "text/plain": [
       "HBox(children=(HTML(value=''), FloatProgress(value=0.0, max=1701.0), HTML(value='')))"
      ]
     },
     "metadata": {},
     "output_type": "display_data"
    },
    {
     "name": "stdout",
     "output_type": "stream",
     "text": [
      "\n"
     ]
    },
    {
     "data": {
      "application/vnd.jupyter.widget-view+json": {
       "model_id": "d236d964cea04d3f97b770bce7c0cd48",
       "version_major": 2,
       "version_minor": 0
      },
      "text/plain": [
       "HBox(children=(HTML(value=''), FloatProgress(value=1.0, bar_style='info', layout=Layout(width='20px'), max=1.0…"
      ]
     },
     "metadata": {},
     "output_type": "display_data"
    },
    {
     "name": "stdout",
     "output_type": "stream",
     "text": [
      "\n"
     ]
    },
    {
     "data": {
      "application/vnd.jupyter.widget-view+json": {
       "model_id": "1f1e9443e3d94a0c90155fbdeb7c6595",
       "version_major": 2,
       "version_minor": 0
      },
      "text/plain": [
       "HBox(children=(HTML(value=''), FloatProgress(value=1.0, bar_style='info', layout=Layout(width='20px'), max=1.0…"
      ]
     },
     "metadata": {},
     "output_type": "display_data"
    },
    {
     "name": "stdout",
     "output_type": "stream",
     "text": [
      "\n",
      "train loss 0.0301 acc 40418.0000 topk 40751.0000\n",
      "valid loss (single) 0.0565 acc 0.9833 topk 0.9957\n",
      "valid loss (others) 0.0653 acc 0.9889 topk 0.9966\n",
      "lr 8.696349541517193e-05 time 15151.49s\n",
      "-------------------- class (single) --------------------\n",
      "00-#0228 : 0.986842 / 01-#0370 : 1.000000 / 02-#0008 : 0.750000 / 03-#0051 : 0.941176 / \n",
      "04-#0052 : 1.000000 / 05-#0007 : 0.714286 / 06-#0062 : 0.967742 / 07-#0185 : 0.983784 / \n",
      "08-#0011 : 1.000000 / 09-#0061 : 1.000000 / 10-#0002 : 1.000000 / 11-#0031 : 1.000000 / \n",
      "12-#0045 : 0.911111 / 13-#0492 : 1.000000 / 14-#0012 : 0.750000 / 15-#0017 : 0.941176 / \n",
      "16-#0104 : 0.990385 / 17-#0021 : 0.952381 / 18-#0036 : 1.000000 / 19-#0004 : 1.000000 / \n",
      "20-#0010 : 1.000000 / 21-#0027 : 1.000000 / 22-#0007 : 0.714286 / 23-#0005 : 0.800000 / \n",
      "24-#0002 : 0.500000 / 25-#0002 : 0.000000 / \n",
      "-------------------- class (others) --------------------\n",
      "00-#0111 : 0.972973 / 01-#1109 : 0.997295 / 02-#0657 : 0.983257 / 03-#2105 : 0.991449 / \n",
      "04-#1436 : 0.998607 / 05-#0315 : 0.993651 / 06-#0203 : 0.950739 / 07-#0781 : 0.984635 / \n",
      "08-#0214 : 0.990654 / 09-#0111 : 1.000000 / 10-#0068 : 0.955882 / 11-#0460 : 0.993478 / \n",
      "12-#0105 : 0.980952 / 13-#0136 : 1.000000 / 14-#0035 : 0.914286 / 15-#0069 : 1.000000 / \n",
      "16-#0237 : 0.987342 / 17-#0046 : 0.913043 / 18-#0061 : 0.983607 / 19-#0027 : 0.962963 / \n",
      "20-#0008 : 1.000000 / 21-#0018 : 1.000000 / 22-#0005 : 0.400000 / 23-#0024 : 0.875000 / \n",
      "24-#0014 : 0.714286 / 25-#0000 : 0nan / \n",
      "best acc updated 0.9832613468170166\n",
      "epoch: 8\n"
     ]
    },
    {
     "data": {
      "application/vnd.jupyter.widget-view+json": {
       "model_id": "591dbbb514ee42968154c63a4baeee20",
       "version_major": 2,
       "version_minor": 0
      },
      "text/plain": [
       "HBox(children=(HTML(value=''), FloatProgress(value=0.0, max=1701.0), HTML(value='')))"
      ]
     },
     "metadata": {},
     "output_type": "display_data"
    },
    {
     "name": "stdout",
     "output_type": "stream",
     "text": [
      "\n"
     ]
    },
    {
     "data": {
      "application/vnd.jupyter.widget-view+json": {
       "model_id": "ac1f8dbd5dd24afa9fb5b390150802a4",
       "version_major": 2,
       "version_minor": 0
      },
      "text/plain": [
       "HBox(children=(HTML(value=''), FloatProgress(value=1.0, bar_style='info', layout=Layout(width='20px'), max=1.0…"
      ]
     },
     "metadata": {},
     "output_type": "display_data"
    },
    {
     "name": "stdout",
     "output_type": "stream",
     "text": [
      "\n"
     ]
    },
    {
     "data": {
      "application/vnd.jupyter.widget-view+json": {
       "model_id": "7f28422284ac422d851ad80e2147d2ce",
       "version_major": 2,
       "version_minor": 0
      },
      "text/plain": [
       "HBox(children=(HTML(value=''), FloatProgress(value=1.0, bar_style='info', layout=Layout(width='20px'), max=1.0…"
      ]
     },
     "metadata": {},
     "output_type": "display_data"
    },
    {
     "name": "stdout",
     "output_type": "stream",
     "text": [
      "\n",
      "train loss 0.0223 acc 40532.0000 topk 40774.0000\n",
      "valid loss (single) 0.0494 acc 0.9860 topk 0.9957\n",
      "valid loss (others) 0.0652 acc 0.9887 topk 0.9971\n",
      "lr 8.015160008714386e-05 time 18054.43s\n",
      "-------------------- class (single) --------------------\n",
      "00-#0228 : 0.995614 / 01-#0370 : 0.997297 / 02-#0008 : 0.500000 / 03-#0051 : 0.960784 / \n",
      "04-#0052 : 1.000000 / 05-#0007 : 0.571429 / 06-#0062 : 0.983871 / 07-#0185 : 0.983784 / \n",
      "08-#0011 : 1.000000 / 09-#0061 : 1.000000 / 10-#0002 : 1.000000 / 11-#0031 : 1.000000 / \n",
      "12-#0045 : 0.933333 / 13-#0492 : 0.997967 / 14-#0012 : 1.000000 / 15-#0017 : 1.000000 / \n",
      "16-#0104 : 0.980769 / 17-#0021 : 0.952381 / 18-#0036 : 0.944444 / 19-#0004 : 1.000000 / \n",
      "20-#0010 : 1.000000 / 21-#0027 : 1.000000 / 22-#0007 : 1.000000 / 23-#0005 : 0.800000 / \n",
      "24-#0002 : 1.000000 / 25-#0002 : 0.500000 / \n",
      "-------------------- class (others) --------------------\n",
      "00-#0111 : 0.990991 / 01-#1109 : 0.993688 / 02-#0657 : 0.968037 / 03-#2105 : 0.994774 / \n",
      "04-#1436 : 0.998607 / 05-#0315 : 0.968254 / 06-#0203 : 0.985222 / 07-#0781 : 0.991037 / \n",
      "08-#0214 : 0.995327 / 09-#0111 : 1.000000 / 10-#0068 : 0.955882 / 11-#0460 : 0.991304 / \n",
      "12-#0105 : 0.961905 / 13-#0136 : 1.000000 / 14-#0035 : 0.942857 / 15-#0069 : 1.000000 / \n",
      "16-#0237 : 0.995781 / 17-#0046 : 0.847826 / 18-#0061 : 0.967213 / 19-#0027 : 0.962963 / \n",
      "20-#0008 : 1.000000 / 21-#0018 : 1.000000 / 22-#0005 : 0.400000 / 23-#0024 : 0.875000 / \n",
      "24-#0014 : 0.928571 / 25-#0000 : 0nan / \n",
      "best acc updated 0.9859611392021179\n",
      "epoch: 9\n"
     ]
    },
    {
     "data": {
      "application/vnd.jupyter.widget-view+json": {
       "model_id": "97df96f673a84e36ac6f27a5d766e37d",
       "version_major": 2,
       "version_minor": 0
      },
      "text/plain": [
       "HBox(children=(HTML(value=''), FloatProgress(value=0.0, max=1701.0), HTML(value='')))"
      ]
     },
     "metadata": {},
     "output_type": "display_data"
    },
    {
     "name": "stdout",
     "output_type": "stream",
     "text": [
      "\n"
     ]
    },
    {
     "data": {
      "application/vnd.jupyter.widget-view+json": {
       "model_id": "45ccb648a73e4b3faaff243a7751c24d",
       "version_major": 2,
       "version_minor": 0
      },
      "text/plain": [
       "HBox(children=(HTML(value=''), FloatProgress(value=1.0, bar_style='info', layout=Layout(width='20px'), max=1.0…"
      ]
     },
     "metadata": {},
     "output_type": "display_data"
    },
    {
     "name": "stdout",
     "output_type": "stream",
     "text": [
      "\n"
     ]
    },
    {
     "data": {
      "application/vnd.jupyter.widget-view+json": {
       "model_id": "95400eb59e81445ca44455c4a3b6b297",
       "version_major": 2,
       "version_minor": 0
      },
      "text/plain": [
       "HBox(children=(HTML(value=''), FloatProgress(value=1.0, bar_style='info', layout=Layout(width='20px'), max=1.0…"
      ]
     },
     "metadata": {},
     "output_type": "display_data"
    },
    {
     "name": "stdout",
     "output_type": "stream",
     "text": [
      "\n",
      "train loss 0.0211 acc 40561.0000 topk 40778.0000\n",
      "valid loss (single) 0.0426 acc 0.9897 topk 0.9973\n",
      "valid loss (others) 0.0559 acc 0.9907 topk 0.9964\n",
      "lr 7.23146308710381e-05 time 19813.92s\n",
      "-------------------- class (single) --------------------\n",
      "00-#0228 : 0.991228 / 01-#0370 : 0.997297 / 02-#0008 : 0.625000 / 03-#0051 : 0.960784 / \n",
      "04-#0052 : 1.000000 / 05-#0007 : 0.857143 / 06-#0062 : 0.983871 / 07-#0185 : 1.000000 / \n",
      "08-#0011 : 1.000000 / 09-#0061 : 1.000000 / 10-#0002 : 1.000000 / 11-#0031 : 1.000000 / \n",
      "12-#0045 : 0.977778 / 13-#0492 : 0.997967 / 14-#0012 : 0.833333 / 15-#0017 : 1.000000 / \n",
      "16-#0104 : 1.000000 / 17-#0021 : 0.952381 / 18-#0036 : 0.972222 / 19-#0004 : 1.000000 / \n",
      "20-#0010 : 1.000000 / 21-#0027 : 1.000000 / 22-#0007 : 0.857143 / 23-#0005 : 1.000000 / \n",
      "24-#0002 : 0.500000 / 25-#0002 : 0.500000 / \n",
      "-------------------- class (others) --------------------\n",
      "00-#0111 : 0.981982 / 01-#1109 : 0.991885 / 02-#0657 : 0.989346 / 03-#2105 : 0.992399 / \n",
      "04-#1436 : 0.998607 / 05-#0315 : 0.990476 / 06-#0203 : 0.975369 / 07-#0781 : 0.994878 / \n",
      "08-#0214 : 0.990654 / 09-#0111 : 1.000000 / 10-#0068 : 0.985294 / 11-#0460 : 0.989130 / \n",
      "12-#0105 : 0.980952 / 13-#0136 : 0.992647 / 14-#0035 : 0.942857 / 15-#0069 : 0.985507 / \n",
      "16-#0237 : 0.991561 / 17-#0046 : 0.891304 / 18-#0061 : 1.000000 / 19-#0027 : 0.962963 / \n",
      "20-#0008 : 1.000000 / 21-#0018 : 1.000000 / 22-#0005 : 0.200000 / 23-#0024 : 0.875000 / \n",
      "24-#0014 : 0.928571 / 25-#0000 : 0nan / \n",
      "best acc updated 0.9897408485412598\n",
      "epoch: 10\n"
     ]
    },
    {
     "data": {
      "application/vnd.jupyter.widget-view+json": {
       "model_id": "92a114b740ec4cdc8286d6d5d73b0b92",
       "version_major": 2,
       "version_minor": 0
      },
      "text/plain": [
       "HBox(children=(HTML(value=''), FloatProgress(value=0.0, max=1701.0), HTML(value='')))"
      ]
     },
     "metadata": {},
     "output_type": "display_data"
    },
    {
     "name": "stdout",
     "output_type": "stream",
     "text": [
      "\n"
     ]
    },
    {
     "data": {
      "application/vnd.jupyter.widget-view+json": {
       "model_id": "c4eec2a1e99a4fad9030a5eb28f60cfe",
       "version_major": 2,
       "version_minor": 0
      },
      "text/plain": [
       "HBox(children=(HTML(value=''), FloatProgress(value=1.0, bar_style='info', layout=Layout(width='20px'), max=1.0…"
      ]
     },
     "metadata": {},
     "output_type": "display_data"
    },
    {
     "name": "stdout",
     "output_type": "stream",
     "text": [
      "\n"
     ]
    },
    {
     "data": {
      "application/vnd.jupyter.widget-view+json": {
       "model_id": "55f7ad43a065463b944954844291382d",
       "version_major": 2,
       "version_minor": 0
      },
      "text/plain": [
       "HBox(children=(HTML(value=''), FloatProgress(value=1.0, bar_style='info', layout=Layout(width='20px'), max=1.0…"
      ]
     },
     "metadata": {},
     "output_type": "display_data"
    },
    {
     "name": "stdout",
     "output_type": "stream",
     "text": [
      "\n",
      "train loss 0.0139 acc 40645.0000 topk 40793.0000\n",
      "valid loss (single) 0.0678 acc 0.9822 topk 0.9951\n",
      "valid loss (others) 0.0617 acc 0.9887 topk 0.9966\n",
      "lr 6.371946635410054e-05 time 21611.09s\n",
      "-------------------- class (single) --------------------\n",
      "00-#0228 : 0.978070 / 01-#0370 : 0.997297 / 02-#0008 : 0.500000 / 03-#0051 : 0.960784 / \n",
      "04-#0052 : 1.000000 / 05-#0007 : 0.714286 / 06-#0062 : 0.967742 / 07-#0185 : 0.994595 / \n",
      "08-#0011 : 1.000000 / 09-#0061 : 1.000000 / 10-#0002 : 1.000000 / 11-#0031 : 1.000000 / \n",
      "12-#0045 : 0.933333 / 13-#0492 : 0.995935 / 14-#0012 : 0.916667 / 15-#0017 : 1.000000 / \n",
      "16-#0104 : 0.990385 / 17-#0021 : 0.904762 / 18-#0036 : 0.944444 / 19-#0004 : 1.000000 / \n",
      "20-#0010 : 0.900000 / 21-#0027 : 1.000000 / 22-#0007 : 0.714286 / 23-#0005 : 0.800000 / \n",
      "24-#0002 : 1.000000 / 25-#0002 : 0.500000 / \n",
      "-------------------- class (others) --------------------\n",
      "00-#0111 : 0.963964 / 01-#1109 : 0.988278 / 02-#0657 : 0.983257 / 03-#2105 : 0.996200 / \n",
      "04-#1436 : 0.999304 / 05-#0315 : 0.996825 / 06-#0203 : 0.970443 / 07-#0781 : 0.987196 / \n",
      "08-#0214 : 0.971963 / 09-#0111 : 1.000000 / 10-#0068 : 0.955882 / 11-#0460 : 0.984783 / \n",
      "12-#0105 : 0.971429 / 13-#0136 : 1.000000 / 14-#0035 : 0.942857 / 15-#0069 : 1.000000 / \n",
      "16-#0237 : 0.987342 / 17-#0046 : 0.826087 / 18-#0061 : 1.000000 / 19-#0027 : 0.962963 / \n",
      "20-#0008 : 1.000000 / 21-#0018 : 1.000000 / 22-#0005 : 0.400000 / 23-#0024 : 0.875000 / \n",
      "24-#0014 : 0.928571 / 25-#0000 : 0nan / \n",
      "epoch: 11\n"
     ]
    },
    {
     "data": {
      "application/vnd.jupyter.widget-view+json": {
       "model_id": "cd7e6d62a0794033bd3cee05ba7e3d26",
       "version_major": 2,
       "version_minor": 0
      },
      "text/plain": [
       "HBox(children=(HTML(value=''), FloatProgress(value=0.0, max=1701.0), HTML(value='')))"
      ]
     },
     "metadata": {},
     "output_type": "display_data"
    },
    {
     "name": "stdout",
     "output_type": "stream",
     "text": [
      "\n"
     ]
    },
    {
     "data": {
      "application/vnd.jupyter.widget-view+json": {
       "model_id": "d5dc7cf7217341368a1bc6e9ae5f1cba",
       "version_major": 2,
       "version_minor": 0
      },
      "text/plain": [
       "HBox(children=(HTML(value=''), FloatProgress(value=1.0, bar_style='info', layout=Layout(width='20px'), max=1.0…"
      ]
     },
     "metadata": {},
     "output_type": "display_data"
    },
    {
     "name": "stdout",
     "output_type": "stream",
     "text": [
      "\n"
     ]
    },
    {
     "data": {
      "application/vnd.jupyter.widget-view+json": {
       "model_id": "70359c7bd4394c72b126ad1913b1b112",
       "version_major": 2,
       "version_minor": 0
      },
      "text/plain": [
       "HBox(children=(HTML(value=''), FloatProgress(value=1.0, bar_style='info', layout=Layout(width='20px'), max=1.0…"
      ]
     },
     "metadata": {},
     "output_type": "display_data"
    },
    {
     "name": "stdout",
     "output_type": "stream",
     "text": [
      "\n",
      "train loss 0.0118 acc 40676.0000 topk 40803.0000\n",
      "valid loss (single) 0.0649 acc 0.9806 topk 0.9946\n",
      "valid loss (others) 0.0772 acc 0.9898 topk 0.9962\n",
      "lr 5.465880455519194e-05 time 23431.51s\n",
      "-------------------- class (single) --------------------\n",
      "00-#0228 : 0.982456 / 01-#0370 : 0.989189 / 02-#0008 : 0.500000 / 03-#0051 : 0.941176 / \n",
      "04-#0052 : 1.000000 / 05-#0007 : 0.714286 / 06-#0062 : 0.983871 / 07-#0185 : 1.000000 / \n",
      "08-#0011 : 1.000000 / 09-#0061 : 1.000000 / 10-#0002 : 1.000000 / 11-#0031 : 1.000000 / \n",
      "12-#0045 : 0.933333 / 13-#0492 : 0.995935 / 14-#0012 : 1.000000 / 15-#0017 : 1.000000 / \n",
      "16-#0104 : 0.980769 / 17-#0021 : 0.904762 / 18-#0036 : 0.944444 / 19-#0004 : 0.750000 / \n",
      "20-#0010 : 0.800000 / 21-#0027 : 1.000000 / 22-#0007 : 0.857143 / 23-#0005 : 0.800000 / \n",
      "24-#0002 : 0.500000 / 25-#0002 : 0.500000 / \n",
      "-------------------- class (others) --------------------\n",
      "00-#0111 : 0.963964 / 01-#1109 : 0.985573 / 02-#0657 : 0.996956 / 03-#2105 : 0.994299 / \n",
      "04-#1436 : 0.999304 / 05-#0315 : 0.990476 / 06-#0203 : 0.980296 / 07-#0781 : 0.994878 / \n",
      "08-#0214 : 0.995327 / 09-#0111 : 1.000000 / 10-#0068 : 0.970588 / 11-#0460 : 0.997826 / \n",
      "12-#0105 : 0.895238 / 13-#0136 : 1.000000 / 14-#0035 : 0.942857 / 15-#0069 : 1.000000 / \n",
      "16-#0237 : 0.995781 / 17-#0046 : 0.847826 / 18-#0061 : 0.918033 / 19-#0027 : 0.962963 / \n",
      "20-#0008 : 1.000000 / 21-#0018 : 1.000000 / 22-#0005 : 0.200000 / 23-#0024 : 0.833333 / \n",
      "24-#0014 : 1.000000 / 25-#0000 : 0nan / \n",
      "epoch: 12\n"
     ]
    },
    {
     "data": {
      "application/vnd.jupyter.widget-view+json": {
       "model_id": "7bbd52a9bfca4357a826a83ef18b3f9a",
       "version_major": 2,
       "version_minor": 0
      },
      "text/plain": [
       "HBox(children=(HTML(value=''), FloatProgress(value=0.0, max=1701.0), HTML(value='')))"
      ]
     },
     "metadata": {},
     "output_type": "display_data"
    },
    {
     "name": "stdout",
     "output_type": "stream",
     "text": [
      "\n"
     ]
    },
    {
     "data": {
      "application/vnd.jupyter.widget-view+json": {
       "model_id": "dc5f73178b554fa7959eb31bfe64a1da",
       "version_major": 2,
       "version_minor": 0
      },
      "text/plain": [
       "HBox(children=(HTML(value=''), FloatProgress(value=1.0, bar_style='info', layout=Layout(width='20px'), max=1.0…"
      ]
     },
     "metadata": {},
     "output_type": "display_data"
    },
    {
     "name": "stdout",
     "output_type": "stream",
     "text": [
      "\n"
     ]
    },
    {
     "data": {
      "application/vnd.jupyter.widget-view+json": {
       "model_id": "db53eda20862495a809ddaf8d31f2084",
       "version_major": 2,
       "version_minor": 0
      },
      "text/plain": [
       "HBox(children=(HTML(value=''), FloatProgress(value=1.0, bar_style='info', layout=Layout(width='20px'), max=1.0…"
      ]
     },
     "metadata": {},
     "output_type": "display_data"
    },
    {
     "name": "stdout",
     "output_type": "stream",
     "text": [
      "\n",
      "train loss 0.0087 acc 40713.0000 topk 40809.0000\n",
      "valid loss (single) 0.0585 acc 0.9854 topk 0.9957\n",
      "valid loss (others) 0.0640 acc 0.9907 topk 0.9974\n",
      "lr 4.5441195444808064e-05 time 25209.71s\n",
      "-------------------- class (single) --------------------\n",
      "00-#0228 : 0.991228 / 01-#0370 : 1.000000 / 02-#0008 : 0.625000 / 03-#0051 : 0.980392 / \n",
      "04-#0052 : 1.000000 / 05-#0007 : 0.714286 / 06-#0062 : 0.983871 / 07-#0185 : 0.989189 / \n",
      "08-#0011 : 1.000000 / 09-#0061 : 1.000000 / 10-#0002 : 1.000000 / 11-#0031 : 1.000000 / \n",
      "12-#0045 : 0.955556 / 13-#0492 : 0.997967 / 14-#0012 : 1.000000 / 15-#0017 : 1.000000 / \n",
      "16-#0104 : 0.971154 / 17-#0021 : 0.904762 / 18-#0036 : 0.944444 / 19-#0004 : 0.750000 / \n",
      "20-#0010 : 0.900000 / 21-#0027 : 1.000000 / 22-#0007 : 0.857143 / 23-#0005 : 0.800000 / \n",
      "24-#0002 : 0.500000 / 25-#0002 : 0.500000 / \n",
      "-------------------- class (others) --------------------\n",
      "00-#0111 : 0.954955 / 01-#1109 : 0.992786 / 02-#0657 : 0.998478 / 03-#2105 : 0.992874 / \n",
      "04-#1436 : 0.999304 / 05-#0315 : 0.984127 / 06-#0203 : 0.990148 / 07-#0781 : 0.987196 / \n",
      "08-#0214 : 0.995327 / 09-#0111 : 1.000000 / 10-#0068 : 0.985294 / 11-#0460 : 0.993478 / \n",
      "12-#0105 : 1.000000 / 13-#0136 : 0.992647 / 14-#0035 : 0.971429 / 15-#0069 : 1.000000 / \n",
      "16-#0237 : 0.983122 / 17-#0046 : 0.891304 / 18-#0061 : 1.000000 / 19-#0027 : 0.740741 / \n",
      "20-#0008 : 1.000000 / 21-#0018 : 1.000000 / 22-#0005 : 0.400000 / 23-#0024 : 0.791667 / \n",
      "24-#0014 : 1.000000 / 25-#0000 : 0nan / \n",
      "epoch: 13\n"
     ]
    },
    {
     "data": {
      "application/vnd.jupyter.widget-view+json": {
       "model_id": "e3f90f45f0d4460f95c4764ab7018985",
       "version_major": 2,
       "version_minor": 0
      },
      "text/plain": [
       "HBox(children=(HTML(value=''), FloatProgress(value=0.0, max=1701.0), HTML(value='')))"
      ]
     },
     "metadata": {},
     "output_type": "display_data"
    }
   ],
   "source": [
    "start = time.time()\n",
    "os.makedirs(f\"{config.checkpoint}/{config.model_name}\", exist_ok=True)\n",
    "\n",
    "print('Start Training')\n",
    "for i in range(config.resume_epoch, config.epoch):\n",
    "    print(f\"epoch: {i}\")\n",
    "    lr = scheduler.get_lr()[0]\n",
    "    train_loss, train_acc, train_top_k = train_one_epoch(model, optimizer, criterion, train_loader, scheduler, grad_scaler, config.iters_to_accumulate)\n",
    "    valid_loss1, valid_acc1, valid_top_k1, valid_preds1, valid_trues1 = valid_one_epoch(model, criterion, valid_loader_single, config.tta)\n",
    "    valid_loss2, valid_acc2, valid_top_k2, valid_preds2, valid_trues2 = valid_one_epoch(model, criterion, valid_loader_others, config.tta)\n",
    "\n",
    "    print(f\"train loss {train_loss :.4f} acc {train_acc :.4f} topk {train_top_k :.4f}\")\n",
    "    print(f\"valid loss (single) {valid_loss1 :.4f} acc {valid_acc1/len(valid_loader_single.dataset) :.4f} topk {valid_top_k1/len(valid_loader_single.dataset) :.4f}\")\n",
    "    print(f\"valid loss (others) {valid_loss2 :.4f} acc {valid_acc2/len(valid_loader_others.dataset) :.4f} topk {valid_top_k2/len(valid_loader_others.dataset) :.4f}\")\n",
    "    print(f\"lr {lr} time {time.time() - start :.2f}s\")\n",
    "    \n",
    "    print(\"-\"*20, f\"class (single)\", \"-\"*20)\n",
    "    for i in range(26):\n",
    "        print(f\"{i:02d}-#{(valid_trues1==i).sum():04d} : {((valid_preds1==i)&(valid_trues1==i)).sum()/(valid_trues1==i).sum():04f}\", end=' / ') \n",
    "        if i % 4 == 3 and i > 0 or i == 25:\n",
    "            print()\n",
    "\n",
    "    print(\"-\"*20, f\"class (others)\", \"-\"*20)\n",
    "    for i in range(26):\n",
    "        print(f\"{i:02d}-#{(valid_trues2==i).sum():04d} : {((valid_preds2==i)&(valid_trues2==i)).sum()/(valid_trues2==i).sum():04f}\", end=' / ') \n",
    "        if i % 4 == 3 and i > 0 or i == 25:\n",
    "            print()\n",
    "                                     \n",
    "    if best_acc < valid_acc1/len(valid_loader_single.dataset):\n",
    "        best_acc = valid_acc1/len(valid_loader_single.dataset)\n",
    "        best_epoch = i\n",
    "        print(f'best acc updated {best_acc}')\n",
    "        best_model_dict = {\n",
    "            'model': deepcopy(model.state_dict()),\n",
    "            'optimizer': deepcopy(optimizer.state_dict()),\n",
    "            'scheduler': deepcopy(scheduler.state_dict()),\n",
    "        }\n",
    "        torch.save(best_model_dict, f\"{config.checkpoint}/{config.model_name}/best.pt\")\n",
    "\n",
    "    if config.wandb_log:\n",
    "        wandb_dict = {\n",
    "            'train loss': train_loss,\n",
    "            'train acc': train_acc,\n",
    "            'valid loss (single)': valid_loss1,\n",
    "            'valid acc (single)': valid_acc1 / len(valid_loader_single.dataset),\n",
    "            'valid topk (single)': valid_top_k1 / len(valid_loader_single.dataset),\n",
    "            'valid loss (others)': valid_loss2,\n",
    "            'valid acc (others)': valid_acc2 / len(valid_loader_others.dataset),\n",
    "            'valid topk (others)': valid_top_k2 / len(valid_loader_others.dataset),\n",
    "            'learning rate': scheduler.get_lr()[0],\n",
    "        }\n",
    "        wandb.log(wandb_dict)\n",
    "        \n",
    "os.rename(f\"{config.checkpoint}/{config.model_name}/best.pt\", \\\n",
    "          f\"{config.checkpoint}/{config.model_name}/fold{config.fold}_epoch{best_epoch}_{best_acc:.04f}.pt\")"
   ]
  },
  {
   "cell_type": "code",
   "execution_count": null,
   "id": "84f5652a-72e6-49f0-aeb6-86b7bc18e489",
   "metadata": {},
   "outputs": [],
   "source": [
    "valid_trues1==0"
   ]
  },
  {
   "cell_type": "code",
   "execution_count": null,
   "id": "f2ff39ee-7ffb-4dea-bf7f-42667bf36320",
   "metadata": {},
   "outputs": [],
   "source": []
  },
  {
   "cell_type": "code",
   "execution_count": null,
   "id": "cad83ae2-acd5-41f0-96a2-423197e39543",
   "metadata": {},
   "outputs": [],
   "source": []
  },
  {
   "cell_type": "code",
   "execution_count": null,
   "id": "b94a74ab-fa43-4e6d-8928-02aad2a38968",
   "metadata": {},
   "outputs": [],
   "source": []
  }
 ],
 "metadata": {
  "kernelspec": {
   "display_name": "Python 3",
   "language": "python",
   "name": "python3"
  },
  "language_info": {
   "codemirror_mode": {
    "name": "ipython",
    "version": 3
   },
   "file_extension": ".py",
   "mimetype": "text/x-python",
   "name": "python",
   "nbconvert_exporter": "python",
   "pygments_lexer": "ipython3",
   "version": "3.8.5"
  }
 },
 "nbformat": 4,
 "nbformat_minor": 5
}
